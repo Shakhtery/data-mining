{
  "cells": [
    {
      "cell_type": "code",
      "execution_count": 1,
      "metadata": {
        "id": "9GpVcbNknxW9"
      },
      "outputs": [],
      "source": [
        "import pandas as pd\n",
        "import numpy as np\n",
        "import matplotlib.pyplot as plt"
      ]
    },
    {
      "cell_type": "markdown",
      "metadata": {
        "id": "uwZFnCI3rICS"
      },
      "source": [
        "### Datasets Loading"
      ]
    },
    {
      "cell_type": "code",
      "execution_count": 2,
      "metadata": {
        "id": "3tOK1XsWpAhf"
      },
      "outputs": [],
      "source": [
        "# read the dataset with encoded categorical features\n",
        "final_data = pd.read_csv(\n",
        "    'https://raw.githubusercontent.com/Shakhtery/data-mining/main/Data/final_data.csv',\n",
        "    index_col=0\n",
        ")\n",
        "\n",
        "# read the dataset with plain categorical features\n",
        "final_data_raw = pd.read_csv(\n",
        "    'https://raw.githubusercontent.com/Shakhtery/data-mining/main/Data/final_data_raw.csv',\n",
        "    index_col=0\n",
        ")"
      ]
    },
    {
      "cell_type": "markdown",
      "metadata": {
        "id": "s7JIun_hrNhT"
      },
      "source": [
        "### Data Preparation Methods"
      ]
    },
    {
      "cell_type": "markdown",
      "metadata": {
        "id": "YgoHXDoSsQKL"
      },
      "source": [
        "Label encoding of `location`, `winner_name`, `loser_name` attributes"
      ]
    },
    {
      "cell_type": "code",
      "execution_count": 3,
      "metadata": {
        "id": "6rgqyZhVrhWy"
      },
      "outputs": [],
      "source": [
        "def label_encoding(df):\n",
        "    df[\"location\"] = df[\"location\"].astype('category').cat.codes\n",
        "\n",
        "    conc_names = pd.concat([df[\"player_1_name\"], df[\"player_2_name\"]]).astype('category').cat.codes\n",
        "    df[\"player_1_name\"] = conc_names.iloc[:len(conc_names)//2]\n",
        "    df[\"player_2_name\"] = conc_names.iloc[len(conc_names)//2:]\n",
        "\n",
        "    return df"
      ]
    },
    {
      "cell_type": "markdown",
      "metadata": {
        "id": "bodt7j4uswz5"
      },
      "source": [
        "Date sorting and encoding: \n",
        "1. Sort rows by date.\n",
        "2. Creates `sin` and `cos` features for `year`, `month`, `day` attributes retrieved from `date`"
      ]
    },
    {
      "cell_type": "code",
      "execution_count": 4,
      "metadata": {
        "colab": {
          "base_uri": "https://localhost:8080/"
        },
        "id": "gNfPWDdarjtE",
        "outputId": "6199439e-ab08-4ed8-faf7-2596ee8b3902"
      },
      "outputs": [
        {
          "output_type": "stream",
          "name": "stdout",
          "text": [
            "Requirement already satisfied: feature_engine in /usr/local/lib/python3.7/dist-packages (1.3.0)\n",
            "Requirement already satisfied: scipy>=1.4.1 in /usr/local/lib/python3.7/dist-packages (from feature_engine) (1.4.1)\n",
            "Requirement already satisfied: scikit-learn>=1.0.0 in /usr/local/lib/python3.7/dist-packages (from feature_engine) (1.0.2)\n",
            "Requirement already satisfied: pandas>=1.0.3 in /usr/local/lib/python3.7/dist-packages (from feature_engine) (1.3.5)\n",
            "Requirement already satisfied: numpy>=1.18.2 in /usr/local/lib/python3.7/dist-packages (from feature_engine) (1.21.6)\n",
            "Requirement already satisfied: statsmodels>=0.11.1 in /usr/local/lib/python3.7/dist-packages (from feature_engine) (0.13.2)\n",
            "Requirement already satisfied: pytz>=2017.3 in /usr/local/lib/python3.7/dist-packages (from pandas>=1.0.3->feature_engine) (2022.1)\n",
            "Requirement already satisfied: python-dateutil>=2.7.3 in /usr/local/lib/python3.7/dist-packages (from pandas>=1.0.3->feature_engine) (2.8.2)\n",
            "Requirement already satisfied: six>=1.5 in /usr/local/lib/python3.7/dist-packages (from python-dateutil>=2.7.3->pandas>=1.0.3->feature_engine) (1.15.0)\n",
            "Requirement already satisfied: joblib>=0.11 in /usr/local/lib/python3.7/dist-packages (from scikit-learn>=1.0.0->feature_engine) (1.1.0)\n",
            "Requirement already satisfied: threadpoolctl>=2.0.0 in /usr/local/lib/python3.7/dist-packages (from scikit-learn>=1.0.0->feature_engine) (3.1.0)\n",
            "Requirement already satisfied: packaging>=21.3 in /usr/local/lib/python3.7/dist-packages (from statsmodels>=0.11.1->feature_engine) (21.3)\n",
            "Requirement already satisfied: patsy>=0.5.2 in /usr/local/lib/python3.7/dist-packages (from statsmodels>=0.11.1->feature_engine) (0.5.2)\n",
            "Requirement already satisfied: pyparsing!=3.0.5,>=2.0.2 in /usr/local/lib/python3.7/dist-packages (from packaging>=21.3->statsmodels>=0.11.1->feature_engine) (3.0.8)\n"
          ]
        }
      ],
      "source": [
        "!pip install feature_engine\n",
        "\n",
        "from feature_engine.creation import CyclicalFeatures\n",
        "from datetime import datetime\n",
        "\n",
        "def sort_by_date(df):\n",
        "    return df.sort_values('date', ignore_index=True)\n",
        "\n",
        "def encode_date(df):\n",
        "    df['date'] = df['date'].apply(lambda x: datetime.strptime(x, \"%Y-%m-%d\"))\n",
        "\n",
        "    df[\"year\"] = df[\"date\"].apply(lambda x: x.year)\n",
        "    df[\"month\"] = df[\"date\"].apply(lambda x: x.month)\n",
        "    df[\"day\"] = df[\"date\"].apply(lambda x: x.day)\n",
        "\n",
        "    cyclical = CyclicalFeatures(variables=None, drop_original=True)\n",
        "    df = pd.concat([df, cyclical.fit_transform(df[[\"year\", \"month\", \"day\"]])], axis=1)\n",
        "    df = df.drop([\"year\", \"month\", \"day\"], axis=1)\n",
        "\n",
        "    return df"
      ]
    },
    {
      "cell_type": "markdown",
      "metadata": {
        "id": "VSO6NqJxt5OI"
      },
      "source": [
        "One-hot Encoding of `court`, `surface`, `round`, `best_of`, `tourney_level`, `winner_hand`, `loser_hand`, `winner_ioc`, `loser_ioc` attributes"
      ]
    },
    {
      "cell_type": "code",
      "execution_count": 5,
      "metadata": {
        "id": "zBdUMN_uroSj"
      },
      "outputs": [],
      "source": [
        "def one_hot_encoding(df):\n",
        "    df = pd.concat([df, pd.get_dummies(df[\"court\"])], axis=1).drop(\"court\", axis=1)\n",
        "    df = pd.concat([df, pd.get_dummies(df[\"surface\"])], axis=1).drop(\"surface\", axis=1)\n",
        "    df = pd.concat([df, pd.get_dummies(df[\"round\"])], axis=1).drop(\"round\", axis=1)\n",
        "    df = pd.concat([df, pd.get_dummies(df[\"best_of\"])], axis=1).drop(\"best_of\", axis=1)\n",
        "    df = pd.concat([df, pd.get_dummies(df[\"tourney_level\"])], axis=1).drop(\"tourney_level\", axis=1)\n",
        "\n",
        "    ohe_conc_players_hand = pd.get_dummies(pd.concat([df[\"player_1_hand\"], df[\"player_2_hand\"]]))\n",
        "    df = pd.concat([df, ohe_conc_players_hand.iloc[:len(ohe_conc_players_hand)//2]], axis=1).drop(\"player_1_hand\", axis=1)\n",
        "    df = pd.concat([df, ohe_conc_players_hand.iloc[len(ohe_conc_players_hand)//2:]], axis=1).drop(\"player_2_hand\", axis=1)\n",
        "\n",
        "    ohe_conc_players_ioc = pd.get_dummies(pd.concat([df[\"player_1_ioc\"], df[\"player_2_ioc\"]]))\n",
        "    df = pd.concat([df, ohe_conc_players_ioc.iloc[:len(ohe_conc_players_ioc)//2]], axis=1).drop(\"player_1_ioc\", axis=1)\n",
        "    df = pd.concat([df, ohe_conc_players_ioc.iloc[len(ohe_conc_players_ioc)//2:]], axis=1).drop(\"player_2_ioc\", axis=1)\n",
        "\n",
        "    return df"
      ]
    },
    {
      "cell_type": "markdown",
      "metadata": {
        "id": "V1GOyo1UujPc"
      },
      "source": [
        "Standard scaling of `wrank`, `lrank`, `winner_ht`, `loser_ht`, `winner_age`, `loser_age` attibutes.  \n",
        "Not included in preprocessing of the raw full dataset. Performed separately on train and test datasets."
      ]
    },
    {
      "cell_type": "code",
      "execution_count": 6,
      "metadata": {
        "id": "0WFCA7v3ruwW"
      },
      "outputs": [],
      "source": [
        "def std_scale(series, mean, std):\n",
        "    return (series-mean)/std\n",
        "\n",
        "def scale(df):\n",
        "    df = df.copy()\n",
        "    concated = pd.concat([df[\"player_1_rank\"], df[\"player_2_rank\"]])\n",
        "    mean = concated.mean()\n",
        "    std = concated.std()\n",
        "    df[\"player_1_rank\"] = std_scale(df[\"player_1_rank\"], mean, std)\n",
        "    df[\"player_2_rank\"] = std_scale(df[\"player_2_rank\"], mean, std)\n",
        "\n",
        "    concated = pd.concat([df[\"player_1_ht\"], df[\"player_2_ht\"]])\n",
        "    mean = concated.mean()\n",
        "    std = concated.std()\n",
        "    df[\"player_1_ht\"] = std_scale(df[\"player_1_ht\"], mean, std)\n",
        "    df[\"player_2_ht\"] = std_scale(df[\"player_2_ht\"], mean, std)\n",
        "\n",
        "    concated = pd.concat([df[\"player_1_age\"], df[\"player_2_age\"]])\n",
        "    mean = concated.mean()\n",
        "    std = concated.std()\n",
        "    df[\"player_1_age\"] = std_scale(df[\"player_1_age\"], mean, std)\n",
        "    df[\"player_2_age\"] = std_scale(df[\"player_2_age\"], mean, std)\n",
        "\n",
        "    return df"
      ]
    },
    {
      "cell_type": "markdown",
      "metadata": {
        "id": "H5DiaxvyvIYg"
      },
      "source": [
        "Small method for coverting column names to strings to avoid problems"
      ]
    },
    {
      "cell_type": "code",
      "execution_count": 7,
      "metadata": {
        "id": "g1HOycN3r21f"
      },
      "outputs": [],
      "source": [
        "def column_names_to_str(df):\n",
        "    df.columns = df.columns.astype(str)\n",
        "    return df"
      ]
    },
    {
      "cell_type": "markdown",
      "metadata": {
        "id": "-nnqC6BLvXue"
      },
      "source": [
        "Raw full dataset preprocessing pipeline"
      ]
    },
    {
      "cell_type": "code",
      "execution_count": 8,
      "metadata": {
        "id": "bYQivHvZneGN"
      },
      "outputs": [],
      "source": [
        "def prepare_dataset(data):\n",
        "    pipeline = [\n",
        "        label_encoding,\n",
        "        sort_by_date,\n",
        "        encode_date,\n",
        "        one_hot_encoding,\n",
        "        #scale,\n",
        "        column_names_to_str\n",
        "    ]\n",
        "\n",
        "    result = data.copy()\n",
        "    for operation in pipeline:\n",
        "        result = operation(result)\n",
        "\n",
        "    return result"
      ]
    },
    {
      "cell_type": "markdown",
      "metadata": {
        "id": "FXYFVYGvvp1g"
      },
      "source": [
        "Method for splitting full dataset to train and test subsets"
      ]
    },
    {
      "cell_type": "code",
      "execution_count": 9,
      "metadata": {
        "id": "bL4easp4reE2"
      },
      "outputs": [],
      "source": [
        "# train-test split\n",
        "def train_test_split(X, Y, dates, train_end_year):\n",
        "    mask = dates.dt.year <= train_end_year\n",
        "    \n",
        "    # if Y is 1-d vector there is a need to perform ravel()\n",
        "    if Y.shape[1] == 1:\n",
        "        Y = Y.to_numpy().ravel()\n",
        "    \n",
        "    return scale(X[mask]), Y[mask], scale(X[~mask]), Y[~mask]\n",
        "    #return X[mask], Y[mask], X[~mask], Y[~mask]"
      ]
    },
    {
      "cell_type": "markdown",
      "metadata": {
        "id": "b_iYq-pdvydK"
      },
      "source": [
        "### Data Preparation"
      ]
    },
    {
      "cell_type": "code",
      "execution_count": 10,
      "metadata": {
        "id": "vmF3VLVQnufw"
      },
      "outputs": [],
      "source": [
        "full_dataset = prepare_dataset(final_data_raw) "
      ]
    },
    {
      "cell_type": "code",
      "execution_count": 11,
      "metadata": {
        "id": "t0Zh7fRBsouy"
      },
      "outputs": [],
      "source": [
        "# target variables are probabilities of the first and the second players\n",
        "target = ['player_1_won']\n",
        "\n",
        "# include in predicting features all columns except \n",
        "# date(already encoded in the dataset) and data about odds\n",
        "predictors = list(set(full_dataset.columns).difference({'player_1_won', 'player_2_won', 'date', 'maxw', 'maxl', 'avgw', 'avgl'}))\n",
        "raw_predictors = list(set(final_data_raw.columns).difference({'player_1_won', 'player_2_won', 'date', 'maxw', 'maxl', 'avgw', 'avgl'}))"
      ]
    },
    {
      "cell_type": "markdown",
      "metadata": {
        "id": "v4rhoG-lrOqN"
      },
      "source": [
        "# Modeling"
      ]
    },
    {
      "cell_type": "markdown",
      "metadata": {
        "id": "9U0creLQrWbR"
      },
      "source": [
        "## Select Modeling Technique"
      ]
    },
    {
      "cell_type": "markdown",
      "metadata": {
        "id": "JZhFbBEroI7p"
      },
      "source": [
        "### Modeling Techniques"
      ]
    },
    {
      "cell_type": "markdown",
      "metadata": {
        "id": "Ih3cvP4coNKF"
      },
      "source": [
        "The problem of the project can be formulated as a classification problem. The goal of the model therefore should be to assess probabilities of winning the first player and the second player in order to give betting tips afterwards. "
      ]
    },
    {
      "cell_type": "markdown",
      "metadata": {
        "id": "rpPj68dIpJxs"
      },
      "source": [
        "Decision of the model should also be based on how high the maximal winning probability of the two players is. It can probably make sense not to bet at all in some doubtful cases if we don't really want to lose money."
      ]
    },
    {
      "cell_type": "markdown",
      "metadata": {
        "id": "pz6XyLg9qmat"
      },
      "source": [
        "Even though the goal of the model is to assess the winning probabilities for both players, there is no need to create two models for both players since the events of Player 1 winning and Player 2 winning are opposite. It makes sense to take indicator column of the first player winning as a target feature."
      ]
    },
    {
      "cell_type": "markdown",
      "metadata": {
        "id": "eaN0Nt5crhLA"
      },
      "source": [
        "The modelling techniques that meet the problem requirements may be:\n",
        "* Logistic Regression\n",
        "* Gaussian Naive Bayes \n",
        "* Decision Tree\n",
        "* Nearest Neighbors Classifier\n",
        "* Random Forest\n",
        "* AdaBoost\n",
        "* Neural Network\n",
        "* SVM\n",
        "* Gaussian Process\n",
        "* Quadratic Discriminant Analysis"
      ]
    },
    {
      "cell_type": "markdown",
      "metadata": {
        "id": "Gq2k3977ujkt"
      },
      "source": [
        "### Modelling Assumptions"
      ]
    },
    {
      "cell_type": "markdown",
      "metadata": {
        "id": "WFPXBSwZumGn"
      },
      "source": [
        "* the predicting features must be numerical (not necessary for Decision Tree, Random Forest, AdaBoost)\n",
        "* the target feature is binary indicating the winning of the first player in the play\n",
        "* the model outputs the probabilities of winning for the players which are post-processed later to give no advice in doubtful cases\n",
        "* the parameter related to detecting doubtful cases(confidence) is the hyperparameter of the model\n",
        "* the confidence parameter is a value from [0; 0.5] indicating how much should the maximal probability exceed 0.5"
      ]
    },
    {
      "cell_type": "markdown",
      "metadata": {
        "id": "MSbPL_ZSxQ1s"
      },
      "source": [
        "## Generate Test Design"
      ]
    },
    {
      "cell_type": "markdown",
      "metadata": {
        "id": "LFzoweuQxUv3"
      },
      "source": [
        "### Test Design"
      ]
    },
    {
      "cell_type": "markdown",
      "metadata": {
        "id": "2UitQRA0yByc"
      },
      "source": [
        "#### Training"
      ]
    },
    {
      "cell_type": "markdown",
      "metadata": {
        "id": "P1_Iw9oFyS7z"
      },
      "source": [
        "Due to the temporal nature of the data, it makes sense to train the model on the data from the past years. So, the dataset should be ordered by date and the first $k$ years data should be selected for training."
      ]
    },
    {
      "cell_type": "markdown",
      "metadata": {
        "id": "LAs-KDppzeu2"
      },
      "source": [
        "#### Testing"
      ]
    },
    {
      "cell_type": "markdown",
      "metadata": {
        "id": "KlFqBfRrzhfV"
      },
      "source": [
        "The next years of data following by the training data are taken for testing the model."
      ]
    },
    {
      "cell_type": "markdown",
      "metadata": {
        "id": "c5JYr_YR1Ztq"
      },
      "source": [
        "The testing metric is going to be the following metric initially presented by our collegue Violetta Sim."
      ]
    },
    {
      "cell_type": "markdown",
      "metadata": {
        "id": "VdB7urCx2UjS"
      },
      "source": [
        "In the following code, `X0` is the initial bank size, can be set to 1 without any influence on the rest of the reasoning, and `p` is the percent of the bank we chose. It is suggested to use 10%. (`p` depends on the variance of the model; if it predicts accurately most of the time, it would be more profitable to increase it.)"
      ]
    },
    {
      "cell_type": "markdown",
      "metadata": {
        "id": "iXDOHRBp10qV"
      },
      "source": [
        "```\n",
        "X = X0\n",
        "for play in dataset.rows:\n",
        "\tif (the model has predicted anything for the play):\n",
        "\t\tbet_amount = p*X\n",
        "\t\tif (model's prediction was correct):\n",
        "\t\t\tX += ((play's odds for the winner) - 1) * bet_amount\n",
        "\t\telse:\n",
        "\t\t\tX -= bet_amount\n",
        "\n",
        "return X\n",
        "```\n",
        "\n"
      ]
    },
    {
      "cell_type": "markdown",
      "metadata": {
        "id": "lWye1b1y66FR"
      },
      "source": [
        "The metric effectively shows how much money will left after betting following the model predictions. The metric greater than or equal to `X0` tells about quite good model performance since there is some income or saving at the end. The opposite case tells that the model shouldn't be used as a tipster model.\n",
        "\n"
      ]
    },
    {
      "cell_type": "markdown",
      "metadata": {
        "id": "BxQyEdAq0eEb"
      },
      "source": [
        "#### Evaluation"
      ]
    },
    {
      "cell_type": "markdown",
      "metadata": {
        "id": "AkVWG1RF3ENK"
      },
      "source": [
        "A custom order-preserved cross-validation[[1]](https://www.sciencedirect.com/science/article/pii/S2210832717301485) is going to be used for evaluation of the model. As it is demonstrated on the figure below, the dataset is separated in subsets by years. The training dataset starts with the first year(2000) and grows each each step by one new year. The model is trained on the training dataset and tested on subsequent years of match data. The model score is assessed. This happens until the training dataset covers the years 2000-2020. The score of the model is the average score. "
      ]
    },
    {
      "cell_type": "markdown",
      "metadata": {
        "id": "M-XVVdn35qS5"
      },
      "source": [
        "![Screenshot from 2022-05-13 17-50-15.png](data:image/png;base64,iVBORw0KGgoAAAANSUhEUgAAA0IAAAGQCAYAAACDN9B5AAAABHNCSVQICAgIfAhkiAAAABl0RVh0U29mdHdhcmUAZ25vbWUtc2NyZWVuc2hvdO8Dvz4AAAAqdEVYdENyZWF0aW9uIFRpbWUARnJpIDEzIE1heSAyMDIyIDE3OjUwOjMxIE1TS66RcTMAACAASURBVHic7N15dFzlefjx772zb9JoRrsseZO8W94Ag20MGEKhpAkkISU0IUubtMkhbdO0PWn7S9LT0kDSnNKWktAmxU1p2iaBpCkhBILZa7xhDMYYy/uizZJmJM2+3Ht/f4h7czWWbGMszRg/n3OE8Mxo7jt3m/d5l+dVDMMwEEIIIYQQQoiLiFruAgghhBBCCCHEdJNASAghhBBCCHHRkUBICCGEEEIIcdGRQEgIIYQQQghx0ZFASAghhBBCCHHRkUBICCGEEEIIcdGRQEgIIYQQQghx0ZFASAghhBBCCHHRkUBICCGEEEIIcdGRQEgIIYQQQghx0ZFASAghhBBCCHHRkUBICCGEEEIIcdGRQEgIIYQQQghx0ZFASAghhBBCCHHRkUBICCGEEEIIcdGRQEgIIYQQ4i2GYZS7CEKIaeIsdwGEEEIIcXExgw1FUQDQdd36/1KTPX4+yzHRdgzDeNvbLn2/if49lZ9HCPH2SCAkhBBCiLKxBwflDBRKg7PJyjFRj5H9tfbPcrr3EUKUn2JIH7AQQkypt1u5kwqUuBjYz/PJ/n+6ymD+v2EYqKp6xu1PVMbJrnO5noWoXNIjJIQoq9K2GKksCHHxGB0d5fjx42iaRlVVFaFQCF3XyefzGIZBOBwmEAhYwcmZnMv9xDAMjh07xs6dO2lsbGT+/PmEw2EcDseEwY1hGMTjcUZGRqwyu93uca/TNI10Ok0qlcLj8VBdXS33NiEqkARCQohpNVkntL0l+FyDo4lalSf6+9JW4ImGtbxT5vua29I0bVxl7nQtx+bzpWWToFG8m+i6zk9+8hO+9rWvkc1miUQiBAIBdF3HMAxqa2v5xCc+wfXXX08oFJqw52iia0RVVet15nuVXnvm3ymKQl9fH1//+tf50Y9+xPr16/nCF77AqlWr8Pl84+Ywme+raRr/8R//weOPP86tt97K9ddfT3Nz87hyZLNZtm3bxi9/+UsWL17MBz7wAQKBgFVGsxxCiPKSQEgIMa0mm0Bsslc4Jnr+dO9ZKBTIZrO43W48Hs+4ytJEr9d1nWw2i6qqeL3eSbd1umBkoteUlntgYIB9+/YRjUbp6OjA6XROup1iscjIyAiKohAOhyfcViaTIZVKEQgE8Hq9p+wvIS4Eqqoyf/58LrvsMl577TV6e3sZGhoCIBwOk0qlSCaTVhBjb1ywn++KoljJFsxrwQxY9u3bx0svvcS6detYsGCBtW17MLRlyxZ+8Ytf4Ha7WbVqFW1tbXi9XmubZlnNe1OxWOSVV15h8+bNzJ8/nzVr1pzy2VwuF319fTz00EOsW7eOG2+8Eb/fL9enEBVGAiEhxLTSdZ3XX3+dxx57jGw2i9frxeFwUCwWMQyDlStXsmbNGqqqqoAzp7I1KzS5XI5du3bx2GOP8Z73vIcrrrgCl8s14d+Y7zk8PMzOnTvx+XwsX77carE9H8xt9PT08Oijj7J582bWrl1Lc3OzFeBMFBCePHmSf//3fyccDvORj3zEagk3X6/rOj/84Q95+eWX+cAHPsCqVausfSXEhcI895cuXcqXvvQljhw5whNPPMHGjRtRVZXf//3f59JLL2Xp0qX4fD4A8vk8o6OjqKpKKBSyrm/zuujr6yOVShGNRolEIvT29vLggw/yb//2b3zsYx/jL//yL6mpqRnXG5ROp3nqqafo6+vjgx/8IJ/97GeJRCJWMJVIJBgcHCQej7NgwQJ8Ph+qqo5rfLAPiysUCmiaxsjICENDQ6TTaXK5HA6HQ4IgISqQBEJCiGmVz+d5/PHH+frXv04ul7OGrsBYK+o111xDfX09y5cvR1XVM1YezEpNKpXiwIED7Nq1i+bmZlasWIHT6Txt5qfjx4/zjW98g5GRETZu3MiiRYvOmOL2bCsziqKQzWZ54oknePrpp+no6GDhwoUEAoFxFbHSv9m7dy9///d/T0dHBzfddBNVVVXjsljlcjmefPJJnnnmGRobG5k3bx6hUOisyiREpTCvs0AgwMKFC5k3bx4ul4sf//jHeL1ePvzhD9Pe3m7dA44dO8YjjzzCzp07CYfDrF+/nl/7tV+jurqaXC7HAw88wL/8y78Qj8dZtWoVd911F/v27ePpp59mZGSEX/ziF6xevZobb7yRmpoaYOwe8MYbb/Diiy9SKBTo6+tj7969rF69GoBnn32Wf/iHf+Dw4cP09/dz1VVX8c1vfpMZM2bg8XgA8Pv9VkPEvn372LhxI3v27GF0dJTR0VEymQxutxuXyyWps4WoQBIICSGmlcPhYM2aNXzmM5+ht7eX7du309XVxbx589iwYQNLliwhHA5bFYZsNksqlcLn8+Hz+cjlcsRiMVKpFLW1tVRXVwPg8Xhoa2vjve99L7NmzcLp/NXtTdd1UqkUmUyG6upqqxLj8/moq6vD5XKN6w3SdZ3h4WEymQzBYJCqqqpxLcBmi286nSYUClm9WuY2zUre8ePH+Z//+R/27t3L9ddfz8qVK63XpFIp+vv7cbvd1NXV4Xa7AcjlcmQyGeLxOIVCwSpTLpejUCiQTCYZGhoil8uRzWatVvFEIkFXVxfpdJrW1lZaW1utVmipgIlKpSgKDocDh8NBfX09LpeL6upqGhoacDgcAHR1dXHPPffw2GOPkUqlcDqdbNq0if7+fm6//Xa2bdvG3/3d31m9NsuXL7eSLpjbKBaL5HI5a7tmj082m2V0dBTAStKgaRrPP/88f/EXf8Hrr79Oa2sr1dXVPPbYY8ycOZOvfOUrOJ1OnE6n1TOVSCR44IEH+O53v2sFb7lcjmKxeNaJHoQQ008CISHEtHI6nVx++eWsWrWKfD7PD37wAx544AH+4A/+gA984AO43W6cTifxeJy+vj52797NiRMnWLt2LYsWLeKZZ55h48aNpFIpLrvsMu644w7mzZuH3++no6ODUChEXV0dHo+HfD7PoUOHyGQyvPnmm3R1dbF69WrWr1+Pz+djxowZfPaznyUcDtPa2ophGPT19fHDH/6Qn//856TTaRYtWsRnPvMZVqxYgaqqpNNpHnvsMR555BGy2Szr1q1j0aJFdHR0jAvAcrkcjz76KC+88AKFQoHu7m68Xi+6rjMwMMA//dM/sWnTJoLBILfeeisf/OAHiUQiVFVVWZUsM8jJ5XI899xz7N69m56eHl5//XUAmpqaqKqqIhaLcdddd/HjH/8YwzBoaGjgnnvu4ZprrpEASFwQDMOwGjhqamqsoCWRSHDvvffy8MMP09zczMc+9jEOHjzIk08+ycaNG2lqamLz5s309/fT1tbGF77wBX7jN34Dn8+HYRhceumlHDhwgCuuuILrrruOcDg8rmFg1qxZVFVVEQ6HufXWW7nssstIJpN8+9vfZs+ePdxyyy184QtfIB6P84lPfIIf/vCH/Nqv/RqpVAqHw4HP52N0dJQ9e/bw6KOPUl1dzT333IPP5+PBBx/k6aeftj6fEKLySCAkhJh2LpcLp9NpBSOhUIjW1lZriFc8Hudb3/oWv/zlLzl06BAtLS2sWLGCo0ePct999/HKK6/gcDjYuXMnsViMr371q0QiEZ588kl2797NDTfcQHNzM//3f//HPffcg6ZpHDt2jFgsxmOPPcYf/uEf8sEPfpCRkRE2bdpEZ2cnCxcuJBaL8ed//uc8/PDDuN1ufD4fO3fuZGhoiH/8x3+koaGBF154gf/3//4fvb29+P1+urq6WLx4MZ/73OeYOXOmVcEqFovE43EymQwAyWSSQqFAIpHgi1/8Ij/72c9wu90UCgV27drFnj17+NKXvoTf78fhcODxePD7/RQKBR566CHuv/9+jh8/TqFQIJ1OEwwGcblcJJNJfvCDH/C9732PUChER0cHXq8XTdPKdnyFOFv2oCSdTlMsFnE6nVZvzujoKNu2baNYLFJbW0tVVRXRaNTqofX5fFx55ZW88MIL7Nmzh7vvvptgMMiNN95INBqlpaUFl8vFjBkzaGhoOCVDZCAQwOPxEAwGWbBgAX6/n/7+fg4dOkQ4HObOO+9k1apVaJrG6tWreeKJJ9iyZYt1XbvdbgYGBnjppZcYHBzk13/91/nwhz+M0+nk0KFDvPDCC1bPlhCi8kggJISYdmblR9d1+vv7icVi9PX1WVmZuru7+elPf8orr7yC1+vl/e9/PwsWLEDXddasWcPq1asZHBzk+9//Pk899RS33347ixcv5kc/+hE7d+6krq6Oyy67jO985zts2rQJl8tlzdE5duwYDz/8MNdddx379u3jO9/5DldddRUbNmygv7+f559/nlQqxU033cS6dev42te+xpYtW3jxxRe5+uqref755zl+/Dg333wzV155JXfffTc7d+5E1/Vx6454vV6uuOIKWltb0TSNtWvXYhgGP/3pT/nf//1fmpqa+NznPsfx48d55JFH+P73v8/ixYu59NJLx/UI7du3j3vvvZdjx46xcuVKOjs7+dnPfkYsFsMwDLq7u9m0aROZTIa1a9fyhS98gTlz5hCNRqU3SFxQdF1H13W8Xq81v0/XdQqFAvl8nl27dvHmm2+iKArV1dXccMMNXH755VYv8L333suTTz7JPffcw8KFC63eH/O97cNE7dkpi8WiFXjB2HBcTdPweDzU1dVZ6bfb2toAGBoaQtM0FEVB0zRSqRRHjx7FMAwWLlyI2+3GMAwrE6U9mYL0DAlRWSQQEkJMq9IUuPl8nmKxaGWNMzPAmfN5brvtNr74xS/S3NwMwOc+9znuu+8+Nm/ejK7rjI6OEo/H0TSNXC6Hpmm4XC6KxSK9vb0YhsH69ev5xje+QTgc5u///u/ZvXs32WzWSmjQ399vVXai0Sjd3d3ceuutXH311Tz55JNs3ryZrq4uli5dalWA2tvbee9738vGjRvZv38/iUTCSoBgGAYOh4PFixdb65FcddVV5HI5nnnmGYrFIh/+8If57d/+bQqFAlVVVXzzm9/khRdeYP78+QBWiu033niDI0eOsGbNGr797W8TCoV48803ee2116xJ2LW1tRiGwcGDBxkcHGT58uXjUvVKQCQuBOacGofDYSVR8Xg8zJw5k/3797NkyRI++tGPEo1Gqa+vZ9myZVbig1WrVvGVr3yFffv2sXfvXn75y1+yYsUKYCz1dTweJ5/PW0NXzSCoUChYc/HM4Xh+vx+fz0d3dze7du1i1qxZDA0N8frrr6MoCrW1tdY9J5/P43K5qKmpQdd1Nm/ezNatW5k3bx67du2iUChYqbjh7JYDEEJMHwmEhBDTyp4tzZwobc8OZ/5WVZXa2lo+8pGPMGvWLGBsPZ6HHnqIf/3Xf6Wtrc1KLV0sFslms+RyOSvxgc/no7a2FofDwSc/+Uk6OztRFIW5c+dy4MABDMPA7/fj9XopFosoioLT6aS1tZU333yT6upqqqqqaG5uxjAMUqkUqqrS0tKCqqp8//vfJ5FIMDo6itPptFaOtw/1CYVC1NTUUFNTQ3V1Nd3d3Zw4cQKPx8P69esJBoPAWCXO5XJx8uRJUqnUuN6lvr4+DMNg1qxZtLa2UigUrHWSAJqbm/md3/kd9u/fz86dO/mjP/ojrr/+er761a/S1tYmQZC4IJjXmH1BVLPn533vex979uzhyJEjPPfccyxZsoQZM2ZYa/ps27aN//zP/6Svr48TJ05Y12IgEGDevHnMnj2bAwcOsGPHDlavXm0FJuY1P2/ePA4fPkwmk6FYLBKNRlmzZg179+7lr//6rzlw4ACvvvoqmzdvZuHChdx4442cPHkSXddJJpPU1dXxvve9j2eeeYbnnnuOT3/609x2223s3LkTp9NJXV3dKfc9IURlkFQmQohpVbo4aaFQsHqE7I+bvTrpdNpa7+N73/sed999Ny6Xiy996UvMmDHDGtJy/PhxDh8+bLXwOp1OGhsbUVXVyshWKBSIx+PW32iaZq1Bomma9XeaptHf3289b2aECwaDzJo1i3A4zLFjx9i4cSOjo6PcdtttLF269JThLyMjI/T29nLkyBESiYS1LcMwGB0dtYbV7N69m2KxSDgctsrhcrlQVRW/34+qquzZs4fXXnuNRCJhBX3JZNJaBPK73/0uv/u7v0smk+G///u/+eEPf2i1cE+0qKwQ5VaaQt5ccHjevHlWpjWPx8Mtt9zCHXfcQTAY5Mknn+Tb3/423/rWt9i6dSvd3d1s3bqVn/70pzzzzDMEg0He+973cvXVV7No0SI6OzuZM2cOvb29PP300xw/fnxcGXw+H9dffz1XXHEFwWDQSun9iU98gmuvvZYjR45YGesWLVrEV77yFTo7O2loaMDn8+H3+4lGo6xevZo77riDjo4OVFXl+eefp6amhvXr19PZ2SnzhISoUNIjJISYVvYeE03TGB0dpa+vz0phC2MBSzgcxuv1WsNWstksPT095HI5/H4/fr8fTdPIZrOMjIzg9/vJ5/PA2EKpmqZZP+Zq9blcjpMnT9Lf328tdGgYBk6nk3w+TyKRQFVV6uvriUajGIZBU1MTbW1tVjDV399vpfBdtGgRmUyGhQsXWhnh7MFQMpmkp6cHt9tNMpmkoaGBhQsXsm3bNu677z4KhQKvv/46GzduxO/3c/XVV+NwOMjn82SzWYrFIkuXLmXu3Lm88sor3HHHHSxYsIBXX32VdDpNT08Pu3btQtM0amtraWtrs1L5Dg8PnzIsR4hKpaoqa9eu5d577yUajY7L7lZbW8tnP/tZVq5cyf79+ykUCsyYMYO5c+fS2NjI+9//furq6ujv76epqYlLLrmEuXPnoqoq7e3t/N7v/R4HDhxg9uzZpyw+7PV6ec973sOqVatobW215iYtWbKEr33tazz11FOcPHmSQCDA2rVrufTSS3G5XLz//e/H7/dz3XXXEQwGUVWV2267jTlz5jA8PIzP56OpqYnq6mqam5utHlwhRGWRQEgIMa1KszZFIhEWLFgwruLjdrtZsGCBNeQMxlpuL730Up544gkOHz7M/fffT09PDz6fj0AgQHt7Ox/5yEc4ceKElR2qubmZcDhMdXW1NeSmrq6O1tZWXC4XkUiESy65hEsuuQS3243b7aajo4NwOExHR4c1z8cwDFpbW9m+fTsPPPAA6XSadevWcdVVV3H//ffz1a9+FYfDwR133IHH47E+o9frZc6cOeMWjP3oRz/Ks88+y0svvcSuXbvw+XyEQiFuvfVWPvCBDxCLxVi2bJk1BG/BggV85CMf4b/+67/o6enhueeeI5vNUl1dTTQa5bvf/S6bNm2iqqqKZDLJyMgIc+fOZe3atafMTRCikkUiETZs2DDhc2bAYyY3UFXV6mVpb2+nvb3dyjhn5/V62bBhA9dcc82E76uqKnPmzLGuU/M6MRs6Fi1aNOE6XIsXL2bx4sXjhrs1Nzdz8803j5sHaT4nPbJCVCbFkKtTCFEmuq7T1dXFnj17WL58OXPmzAEgFouxd+9eq5LS2NiIYRiMjIzwk5/8hL/7u7+jp6cHv99vJVOor6/nxIkT9PT0UFNTw7x58zh48CDPP/881157LW1tbei6zquvvsrAwADr1q1D0zRefvllWlpamDt3LolEwmpxXrZsGT6fj76+PrLZLPl8nvvvv58HH3yQVatWcd9999He3s6dd97Jf/7nf7Jw4UK+973vWXORDMMgnU6zZcsWNE1j3bp1eL1eDMNg8+bNPPzwwxw8eJCZM2dy/fXXs379esLhMIVCga1bt6JpGldeeSWqqtLf389TTz3FwYMHaWhoAMbWP1m5ciU7duzgn/7pnzh06BCGYdDe3s7nP/95NmzYgMvlkgBICCGEmIQEQkKIsjKHr5mry8Ov5g7ZW33NHp1sNktXV5c1DKa9vd0admKms7XPPchms+N6acwUvWbLsdm6bCZsMOcqmVnbTOl0mrvvvpt7770Xt9vN7bffTkdHBz/60Y/YsWMHbW1tPPLIIyxdutQqi9l6bb6fPZnC8PAwR48eJRQKMWPGDJxOJ6qqWumCzZ4xM81vIpFgaGgIn89HJBIZV77BwUEOHjxIsVikvb2dxsZGq9wSCImLkb03ppLfUwhRXhIICSHKzj70pHQYymTDSyYarjLR60ozuU303ESvK912sVhk+/bt/O3f/i3PPvssmUwGl8tFoVCgurqaL37xi9x55534fL4JP5v5XhMNm5morJOVpfR19vVRgHEZt4S42Jzvc1+CHyHe3SQQEkKU3Zkq/aWPTaY0mDqb9ykNPkpfb/+bfD7PkSNH2LlzJ/v27SOZTBKJRLjssstYs2YNXq/XynY10eeYLCA702d6u6+VSpu40JzNeTvRtTvR8xIICSHOlgRCQoiymqyiMdHjb+d2VRpwnOnfZ3oPe0BipvXWdZ1AIGANazvbzzfZNs+ljGcquxCV7kwBjhBCTBUJhIQQZXW6luDp6t04m5bmM/UoTfR3E/39RP+erDxv52/e7uuEKCfzHDfnxJlz9Up7VYUQYipJICSEEGdhorlEp5vvI4SYmP16GR0d5ejRo8TjcUKhEO3t7YRCoTKXUAhxsZBmFyGEOAtmJjp70gP7bwmChHh7DMNgaGiIXbt28corr3DkyBGy2az1nBBCTDVZUFUIId6GybLbCSEmN1EvqmEYDA8P093djWEY+P1+K12+EEJMB+kREkIIIcS0KxQKxONx4vE4breb+vp6a00w6RESQkwHCYSEEEIIMS3sQ0oTiQSxWIx8Pk8wGCQcDuNyucpcQiHExUQCISGEEEJMG8Mw0DSNWCxGPB5HURRCoRDV1dU4HA4ZdiqEmDYyR0gIIc6S2ZqtaRrFYhEAl8sl8xqEOIPSxX6LxSInT54kkUgQDAaJRCL4fD7reQmEhBDTQQIhIYQ4A3tmuHw+Tzwep6enB13X6ejooKqqqswlFKKylaaaz+VyViAUDoeJRCI4nVIlEUJML7nrCCHEWTIMg3w+T19fHzt37qRYLFJfXy+BkBBnYO/hURSFTCZDf38/uVyO9vZ2IpEIqqpKT5AQYlpJICSEEGdgb8kuFosMDw9z6NAhisWite6JEOL07ENLh4eHicViGIZBbW0tVVVVpwyfE0KIqSaBkBBCnIG55omiKOi6TrFYJJfLWf9vvgZkboMQE7Gnw85kMsRiMVKpFB6Ph2g0it/vB06dSyQuDqdLl26eD3JuiKkggZAQQpyBvUfIMAx0XR/3W4IgISZXWslNJBIMDAygaRqhUIhwOIzX67Wel+tITHYOyLkhzjcJhIQQ4m0wDINcLkcymUTXdfL5fLmLJMQFwzAMhoeHGRgYwOVyEY1GCQQCqOrYah5S0b142Xve7f9vnhMT9QZJD5F4pyQQEkKIt0HTNLLZLKlUCk3TKBQKgFTghDgTRVHQNI2hoSEGBgbwer00NDRYabNPNzxKvDuZPeuZTIZ4PE46ncbhcOBwOHA6nbhcLtxuNx6PB4/Hc0pmQbnvindKAiExbewtN9KKIy4k9lZKeyBkfoHLuS3eDabi3C0dNlooFBgcHGRkZISWlhbq6upwu93ndZui8tmD3mKxyODgIG+++SY9PT04HA5cLpcV/Pj9fgKBAMFgkKqqKvx+Pz6fD4/HI2u4iXdMAiExLezzKOyPCVGJJjpXzSEaxWKRZDLJ8PAwuq6TTqfH/Y2u67IopKhoE9177UOQpoqu66RSKWKxGNlslurqaiKRCC6Xa0q3KyqbeU/t6+vj8OHD1j1U13V0XQfGzllVVfH7/dTV1bFw4UIWLVpEJBKRYEi8IxIIiWkjLebiQlF6ftrHrOu6zsjICCdPnsThcJDNZsed09NRoRTinZjs/JzKpB+GYVAsFonFYoyOjqKqKpFIhJqaGpkfdJFTFAW/309DQwOappHP563fhUKBdDpNNpslk8kwPDzM0aNHGRwcRNM0Ojs7iUajklFOnDMJhMSUK11RXG5U4kJknsP5fJ7R0VFGRkbwer0kEglyuRwej8eq0MkXsriQnM2k9PMhl8sxMDBAKpUiEAhQU1NjzQ+SOUIXF/u55nK5aGhoIBwOk8vl0DQNXdfRNM265+bzeRRFobu7m+3bt9PX18euXbtoaGggEolIQ6s4ZxIIiWlhGAbpdJqhoSFrMqT9ZiVBkqgkpcG7GeDkcjlef/11jh8/TjQapaqqir1797J582ZmzpyJw+FA0zQ5j0XFsw/l9Hq9hEIhqqqqTpmMfr4oikI6naa7u5tcLkc0GiUcDuNyuaQ1/yJmDnkz5wOZj9mH02uaRrFYJBAIEIlEiMfjJBIJ4vE4qVRKAmjxjkggJKaUOZTo5MmTdHV1ceLECdLptHXDE6JS2YfDOZ1OdF0nkUhw4sQJDMPg8ssvJxgM0tvby9NPP82CBQtwOp0UCgWp0IkLRrFYxO12E4lEWLBgAa2tred1zo69pT6ZTNLb24thGNTX1xMKhSQIusjZk9AUi0WrF8hUum6bOYQuGo1aGTtL30uIt0MCITHlMpkMW7Zs4ZlnnqFQKODz+QgEAuMmQgpRyVRVtRIjqKrK4sWLmTt3LgCvvvoqQ0NDvP7661ZrunwZi0pmDkUz01knEgkKhQJDQ0Ncc801NDY24nQ6z0uAYr8WRkdHicViOJ1OGhoaCAQCkljkIqcoCqqq4nK5cDgcp9QJ7IGQmRTBrDvYh8/Z30+It0MCIXHe2Ye5mWkx33jjDY4ePUpnZyezZ8+2MsJIhVFcCMwKY6FQoKqqipkzZ9LY2Iimafj9frq7u9F1HVVVx2UwkvNbVDJFUXA6nRw7dox9+/axf/9+Zs+eTXV1NaFQCHhncy7Mv9V1nVwuRywWY2RkhObmZurr6635QeZ3gTkEVVxczPPLXD/IfMy8f5o986qqWo9PVH+QnkVxLiQQElPGnBfU09NDIpGgpaWF6667js7OTnK5nHUjkxuXuBCUtjqa5+2KFStYvny5dS6rqioBkKh45vnq8Xg4dOgQgUCA4eFhjh8/n0/3pwAAIABJREFUTnt7O8Fg8Lxsw/w9OjrK0NAQhmFQVVVFTU0NbrdbvgMEMHFPzmSPqao6LigS4p2QQEhMqXQ6zcmTJ9E0jfr6ehobGwmHw2QyGUkzLC5IZmukpmkAOJ1OGd4jLjhmAGJm7GpqamJ4eJiBgQEymcx52YZ9+N3AwACxWAy32004HCYUCsn6L+KslAY8E2UZlIBanCsJhMSUURSFTCZDLBbD4XBQU1NjjTvP5/OydoS4ICmKgsPhsOYDFYtFGeYpLjj2lNmqqlqJC5LJJNlsFnhn92Z7xbRYLNLf3088Hqe6upra2lo8Ho9VmZUhcUKIcpFASEypQqFgLZ4XDofx+XwA1m/5AhQXIntvppzD4kJkTw3v8/kIBoOoqkoulyOTyVhz3s41GLJniysWiwwMDDA6OsqMGTOora09r5nphBDiXEkgJKZUPp8nlUqhqipVVVW4XC4rQwwgw+PEBaV0vSt7a7b9Mfu/hahE5gR0RVFwu92EQiFcLhfJZNJa1NKc73Yu57J9La5MJsPAwAC5XI76+npqamrk+hBCVAQJhMSUKhaL5HI5HA4HPp9vXEYY+28hLgSl5+vZTvAVopKUBjcOhwOPx2OliS8UCmiads69NvYkCYVCwcoWp6oqkUjEGoYn14oQotxkTIeYUubEcnPlaJkcK4QQlcXspTfncGqaNm59lncy/y2TyTA4OEgmk8Hn8xGNRgkEAtb7SjAkhCgnCYTElDGTIqTTaXRdx+l0jptPIV+AQghRfuZ6QuY9O5/PW1kR4dwDITNtdm9vL7quE4lECIfDMj9ICFExJBASU8YeCBUKhVOGQkiWLSGEKD97drdcLmcFQu/0Hm0GQidPnsTpdFJXV0cgEJBGMCFExZA5QuK8M7/kdF3H5/PR0tJCOBweNxzC/rvcStcnqBSVWi47e2KASk4SUKlDcCY6xpW4H0uv1UoqW6UrPcb2c7Gc56Wu6+PK4XK5aGxsxDAMAoHAKcf8bO7X9s+jALqmExuKcbK/H4/HQ2NjI26321pb6O0mY7Cn/BZCiPNBAiExJcyMRLW1tVx66aXW2HD74pPma6bTZJPbzQpKpQRnpsm+8CulnPbylVbkK0npfqykMk6UgKGSzsWJKp6VUja70iADKqecE10npnKU0X5MzXWE/H4/ixYtorm5mZaWGbg9PgxUDBRQFM5UyrGP8avPphsGhaJGfHiERDLN7PpGGptacHu86AYoqmPsvd9Wwd/ey4UQ4kwkEBJTxhwTvmrVKtxuN36/31qEEipz/ZVKLNNEKrlFtBLLVlpBrsQy2kn5zs3ZZPWrJJVSPpfLRU1NDYsXL6ZYLOLxeK0FT882+Bj3UQwwgEw2Qyo9tnxCU2MjM1qa8XjcKICivv3PrkgkJIQ4zyQQElPCXF/F7/cTCAQoFotks1l0XS97K21p5UNVVRwOB8ViEV3Xy1SqyZnlM7M52dfnqASKoljZAHVdr8h96HA4rH1WCedgKVVVrSC8Uo+xubhmpR9j4LzMbznfzGNs9vZVUq8fjO0/p9M5lsjA0ClkEmO9QNZ/zhyEGBgoKKgOlXQmzeGDB+nvOYZWTON1gcMokkuNYnYvnRoHnn4buurA6XRZIwsqJZAUQly4JBAS55355e5wOMjlcsRiMQYGBkin0+Mq9eU00ZwW+wKD5WZWOEt7qCqtgmyWx15OM9Aw1yQpx/4095+5r+znnH3fTffxnmx7pcO5JhpmWM5zsxKGc52JfYirefwrxUT7r9z3mtLzTDfn3xjgcIwFveZVfTZHW2FsOJyqqrhdLkZGR3j99dc5dOgw2UyW/v5B9h88PBbqnOXnfmupYgzeWobB4aCqqmpsLaLq6gt2OYaJ5gGa96vpvh+VmmyIaSV8LwoxFSQQElPCvKEPDw/z6quvcvToUXRdJxQK4Xa7KRaLZa1M2VvfT548yejoKLW1tdTU1FittqbpKOdEE+UVRaFYLJJKpRgeHkZVVRoaGvD5fGXbf/ZympWQZDLJ6OgohUKBUChENBpFURQKhcK0l89eTl3XcbvdaJpGf38/mUyGQCBAdXU1Pp8PXdetFMHTGVyWLiZsGAbJZJKhoSFcLheRSASv1zthmabzXDT/31wUMx6Pk0wmqampoba21gp4y3kdm72R+Xye0dFRkskkqqpSV1eH3+9H07RTkgJMd/nMhoLR0VFGR0dRFIWqqir8fj+qqo5LUz1d5+Epw0QNg2w2Q9/AIAPDKXAFcXgCuJzOsck/xpl7hAzFwDDGYhyHw0k6naK/v5fBgdzY53yjmwNDts96lsPcFFUBVSGdTuMwDGY2RVi9fDFLly7C/1YCngvNmeaqTvaaqTRZI5u9QUmCIfFuJIGQmDKGYTAyMkJXVxdDQ0PU1dXhdrvxer3k8/myt3ArikIul6Onp4cjR46wYsUKmpqarLKbv6erjPZtmj1nqVSKRCLBwYMH8Xg81NfX4/P5rP033exfluZ8r8HBQbq7u0mn08yYMYOmpiYrmCxni60ZCOVyOfr7+xkcHKSpqYlgMIjH40HTNIrF4rS2wpYGuuZjqVSKAwcOEAwGCYfDuN1uq0fN/rfTWU6zAq/rurUPe3p66OjooLm52RpmWE5mIJTL5YjH43R3d+N2u6mpqcHr9VIoFKzsZOUso6IoZDIZjh07hsfjweVyUV1djcvlolAojM+2Ns33xLGeH4VCLsOxY8d5+UA/BX8znuoGfB4vGDq6boByhvuNYe9NAE0romkBDK8fh8NB14jKvpHht4YIKuafnPE9VVVFdTqID8fRM0k6ek5SGw7Q3jHrgg2ESk2UWXC6t59Op4nFYhSLRVwuF4ZhkMlkSCaThMNhmpub8fl801ouIaaDBEJiypg9GoZh0NrayvLly2loaLAW06uESlQmkyGVSqFpGsuWLWPFihUV1eqVTqc5ePAgmqbh9XpZuXIl9fX1Zd93MLb/NE2jtrYWl8tFKpVi7ty5LF++3OqJKWcF1AwoM5kMmUyGqqoq2tvbmT9/PnV1dQBlG7pXWs7a2loymQw1NTWsXr2aSCRS9nLBr45xLBbD4XDgdrtZvnw5K1asOKXntFzlUxSFkZERq5fF5/OxcuVKmpubK+I6MR08eBCHw0EwGGT+/Pk0NTXhdrvLvg9hLCAZHR5iYCTF4WSAYrgdb7SFoN+PoRvoxqn7sfTsNBif8dDQi5ihjqIbGIoDQ1FQFQVFVd8KnM5cLlVVcTiduIeHyQ/34WaQQj6PViy+NX2p8pcZKFU6LLG0Eaz0NVOtp6eHu+66iyeffJJcLofH47F6qvP5PC0tLfzVX/0VN99887iER0K8G8gZLaaMOblfVVVqampobW2lvr6+or6s0uk09fX19Pf309zcTHNz87gvonJSFIVkMkkymbQWImxqaqK+vr7sZTPpuk4mk2FwcNDqEWpubq6YCh5AJpOhvr4eTdNoamqira2NcDhc7mJZdF23hmZGo1FaWlqIRqMVsf/sQwzr6+tJJBI0NTXR3Nw8riJX7mva7/czNDREMpkkGAzS3NxMU1NTRexDs6KbSCSora0lHA5bPafm3LVy7z/D0PH7PNRGa4nWpMlF6gnWt+D3j/UA6Jr2VtBy9uU09AKGmVjDMFAdTlAdbwWv5nudITmCoaE6nDidTpy+IGlHEV82hYFB0Tas9XwrPW/O9zbs106xWCSRSBCLxQgGg9TV1U34HTRV50ixWOTf//3f2bhxI4VCgWAwiMvlsoIgXddJp9NTsm0hKoEEQmLKaZpGNpsllUqRy+Ws4UoTJQOYLmYFL5FIkEwmyWQypNNpCoWC1QpergnN9qFx5vwbc+6D+cWUzWantUyl5QNwOp3WPhweHiaXy5FOp625N5lMpqw9Qrqu4/F4yGQyJBIJ61in02mqq6spFArW8Z6uY1w67MUwDGt+SyKRwO12k06nCQaDqKpqZTIsR0IHc/hjLpdjeHiYkZERUqkU6XTamntjDi0sB7OcZm+kuQ8VRbGuk3w+T7FYtDLelTMwSiQSpFIpHA7HuHtNJpM5JdHDdLAPf9QKOUZHRkmlkhRyGQq5LPlsGoeioygGWlG3YhazdKV7svRKf6uPw+qVU7S3rjWwuoJ04wzzjgwDh0Ol6HSSy6QpFHJvXRMahqFPWzLtqThvzOOtaRo9PT1s27aNSCTCmjVriEaj03LvVBSFeDzOo48+SqFQYNmyZXzjG9/gkksuYXR0lJ6eHjRNo76+npkzZ0pvkHhXkrNaTBnzJm9WjO3DVMqdgtcMhIrFojVG3z4p1CzfdE+it6d3NivCZqXOqlAo5V9w074qvFm20gq+PQ10OZj7yDz3SveZWfZy9QCalV/zPDSPr/1Yl2sf2ofq2I9x6bEu93mo6zoulwtN06wf+3VSet8pB/N6NY+x/Rq333fsqbWnw7jhWbqOZrtPG7qGohdBL4ACqqH/KvIxA6KSYp4a06jjgqWx/p+3Pt9bT6hn+Kg6OugOFA0UvYD+Vvl03WAqd9NUX2/mMVZV1RpGvGfPHtLpNLlcjjVr1tDS0jIt5RgZGaGnp4dgMMhf/uVfct111wEQDodpa2sDLpwhh0KcCwmExJQpzdRkXyvFnORc7nTAZmXUrIiYWZzs/57Oip5ZLrMF2yyH/bcZJJUzNbVZRvu+sj9nPm+WuRxltFeIS3/s5bO/phzlLP0xy2U//8pRNnuPgf18tPdeVEIqfLN85jo49pZ0e/nLrfR6KL2up/scHJcQQxlLla3Y5/CoKorqHEuLrRaBkoFsJUU9dc7QWDY66zO9NRJuXLa4M3xcxVBQVAeoDlAcKLb9ZxjGWa5u9PaZoxjMzJfn+xy3H+tcLsfQ0JC11MS+ffuoqqpCURQaGhqmtBfGMAzi8TiJRILm5mauuOIK6/HScgrxbiWBkJgyE41vLp0kan+uHErLYi+TvbW2nOUr3X65h/iUBhhwaurVcn95TtT7M9FrgLJUkicKbkr/Xa5jbJat9PhO9LpynoelE8snWii33OdhaRns+7YSWNer9cCvept1VHQDVAUMw4piJn8vxg+XUylZiwbllF6cM+0FXdHBUFBQMJS3MnmjY0ZV52sv2q/HQqHA8PAwx48fZ3BwcNz9zv777b5/6b8dDgeqqhKLxejt7aW+vp729nYikQhdXV0MDw+zbt26Ke0ZUlWVeDxOPp+nubmZmpoaYPJ7e6Wct0KcTxIIifNuopvmROlBK6lCMJlKLF+5W+AnGppXifvpbMtUji/4ibZXKZX4ibZ7usfKGZhPdg7a7y32HqxyOtN+ne4yjjt+ipXfDfOXMha6oBigGMapk4BK34/TBzbKWS3LWvI3BiiK8dYgO2Ms9FGMtwIzFc5jn5C579PpNMeOHWPPnj0MDQ0RDofxeDynBETn8t525oiI4eFhFEWhvb2djo4O/H4/u3btore3l23btrF8+XJrfs75uFeVNvadOHGCXC7Hjh07+PKXv8zs2bPZv38/g4ODtLe389u//ds0Nja+o20KUckkEBJCCCEuUuUOECtNJpOx1h3TdZ1oNEpVVZWV3OJ8MQMRcz2paDTKrFmz8Pv9uFwuduzYwf79+4GxrIjRaHRcNs7zERDpus6xY8fQNI1kMsk3v/lNa24dQH19PWvWrKGhoeG8bFOISnTRB0KVMpRHCCGEmG7y3fcrhmFYi/BWV1dTU1PD4sWLCYVCVnBwvnqE7M85nU58Ph+BQABFUZgxYwbF4ti8rIGBAXbs2MGSJUtoa2s7r/Py4vE4O3fuRFEU5s2bx5/8yZ9QKBTYvn07g4ODrF+/nmXLlsk5It7VLspAqHQ+gxBCCCGEmUmyqqqKlpYWmpqa8Pl85307p5tX6ff7aW9vx+128/zzz7Nr1y4cDgdVVVXU1NScl3mNiqLw2muv8corr+DxePjDP/xDPvnJT6IoCp/85CcpFAp4PB4cDsc73pYQlaz8qXTOszOldTXH+U4WBJVOmrc/Xs7JwacrlxBCCCHeOTPlfi6Xs5YumCixyTv9MYOZ0sya5ne6y+WiqamJmpoakskk/f39xONxK6X+uX42s/wAL7/8Mv39/cycOZP169dbr3M6nQQCASsIKk2eoGkaiUSCoaEha7FVqYuIC9W7LhCarIXFDGJKM79Mtr7I6W58EzldoGR/7lxuFqUtRxMlHpjK7QshhHh3ku+E8cx17wArs5vpfCf4Ka2P2N8/nU6zb98++vv7CQaDRKNRAoHAeds2wLFjx1AUhY9+9KO0t7efUi6T/RzJ5XI8/vjj3H777fzmb/4mjz766DsKzoQot3fV0DjzQjQX1nM4HONaNAzDGLfK+ODgIL/4xS+YM2cOl112GS6Xy7oBaJrG0NAQuq5TV1c34ToppdudzPm4cZrlURSFcDiMy+U6JWCbbDuVlNZYCCFE5ZDvhDGKoowbMZLJZIjH48RiMXK53LgFts/HPjPTv5trsbndbnw+Hw6Hg0wmQ1dXF8899xzJZJKOjg4WLFhAbW3tOQ9VK60DpFIp3njjDRRFobGx0XpfTdMoFosYhoHL5RrXY6XrOocOHeKb3/wmL7zwAg6HgxUrVvChD32oItbqEuJcvKsCIRi7UF9++WUOHz5MR0cHixYtssb3DgwM8H//938sXbqUmpoavve973HXXXcxd+5c/vmf/5lVq1ZZ79Pb28vf/u3f4vV6+YM/+AOam5tP6VWayuDCvCGbN5f+/n7uvvtuamtr+fjHP05ra+u4IK/U2QZJQgghhBjjcrkA6Onp4ejRo/T29uL3+61eovPB3gOUyWRwuVy0tbWxZMkSQqEQe/bsYfPmzQwNDdHW1sb8+fOJRCLW/KXz8X3e39/PoUOHKBQKPPjgg8yaNQu3283Bgwfp6upCURTe9773cemll1oBYC6XIxQKcfnll7N161aqqqrYsGGDBEHigvauCoSKxSJ79uzh3nvvZd++fXzoQx+isbGR5uZmCoUCP/vZz7jrrrv4oz/6Iz7+8Y/T399PJpPhxIkTDAwMjFugr1AoMDg4aKW2zOVyHD9+nHw+T0NDA5FIZNy2T9crNFGPzOkSNmiaxmuvvUahUGDZsmXWGgbDw8O4XC6rVwt+NbHzdO9pBnD2VertQZ0ESUIIIS5Gpd+bPp/PSpnd19dHd3f3pEPT347S734zoBkZGUHTNAYHBykWi9TU1LBjxw56e3tpaWlh4cKFNDc34/V631Fv1OmGu23fvp1Pf/rTFItFTp48ST6fB8Dj8bBy5Urr87tcLmbMmMFnPvMZnnzyScLhMMuWLTvlfaVOIS4kF3QgVNo709vbyxNPPMFzzz1HLBbjzTffZHR01AqE9u3bR29vL6+++ipOp5PLL7+cRx55BMMwiEaj41o1Wlpa+NznPofX66W2tpZDhw5x3333USgUuOGGG7juuuvw+/3WttPpNPF4nOrqagKBwClBh6ZppFIpnE6n9Xf5fJ6RkRF0Xae6utq60Q0MDHD//fczPDzMl7/8ZTo7O4lEItx5551W2cztAoyMjJDL5fD7/fj9/lPmRpllGB0dRVVV/H6/dRO2zxuSm5cQQoiLSen3nsfjYebMmTgcDk6ePEkmk7FGaJyriYInp9NpLag6MDDAwMAAL730El6vl3Q6zYwZM1i5ciVtbW3WELXTjQJ5u5qamvjd3/1dHnnkEbLZLJqmkclkCIVCpFIpAoEAjY2N4xpLze0HAgF0XadYLOLz+SQLr7igXdCBkJ1hGNTU1HDttdfS19fHzp078Xg8pFIpFEXB5XLR2dlJbW0tP/nJT1i+fDlNTU3Mnz+f7du309/fP+69dF0nlUpZN4iXX36Z73//+ySTSXp7e2ltbWXZsmUYhsHu3bt59tln6erqwul08t73vpdrr70WRVEYGhrixRdfZPv27eRyOdavX8/ll19OLBZjy5Yt7N27l3Q6zbJly7jllluIRqPs3buXJ554gqGhIerq6li7di3xeJz+/n5WrVrFypUrgbExvj//+c/ZunUrxWKRUCjEunXruPrqq/F4PCSTSV588UUOHz6My+Wiq6sLt9vNLbfcQmdnp7WyNUgQJIQQ4uJlVvidTidVVVW0tbURjUZJp9Pj1hA6l6RDE/XGmMFNIpFgz549PPvss6TTaRYtWkRHRwfz5s1jxowZhEIhnE4nLpcLp/P8Vdn8fj9//Md/zKc//WnS6TTZbJZ8Pk+hUCCXy+FwOGhvb7fWLbJ/9r6+PgYHB4lEIlYDrhAXqgs6ELL3BhmGQTAYZOXKlbjdbsLhMKOjoxQKBWvBstmzZzNnzhy2b9/OL3/5Sz71qU+xdu1adu3axZ49e7jhhhtwu90oikI+n+fFF18knU6zYsUKYCxbSqFQIJFIkE6nMQyD7du385WvfIVXXnmFbDaLw+Ggu7vbGtfb09PDP/zDP/DSSy9x+eWXc+mll5JOpzl27Bj/8z//QyKRoFAocOTIEdxuNzfccANOpxO32211l/f19XHgwAGefvppkskk119/PaqqsmXLFh566CFisRitra28+OKLdHV10dDQwPLly4nH43zrW9/itdde4+abb+bQoUOcOHGCVCrFpz71KRYvXlzOwyeEEEKUVelQLofDgdvttkZ36LpuZZc9X8kS7MPwc7kcQ0NDeDweFEVh1qxZLF26lFmzZlnBj9vtHtdweb44HA4ikci4of72xAiTDZ0/fvw4hUKBxYsXW3UmCYbEheqCDoTs7BMIk8kksVhsXCtOoVBg7969HD16lEgkQmdnJzNnziSbzXLllVfS2to67oLPZrPs2rXLag3q7OxkxowZ9Pb28qEPfYiVK1cyODjI3/zN3/Dcc89RV1fHVVddRTweZ9++fTz++OPU1dWhaRq9vb00NjbypS99iauuugqXy0U4HCYYDKKqKkeOHOHHP/4xjz76KEuWLGHlypVs2LCBXbt28Xu/93tcccUV7N+/nz179tDX14eu6+zdu5cf/ehHRKNRPv3pT7NkyRIefvhhNm3axBNPPEFLSwtOp5MTJ07gdrv52Mc+RiAQ4D/+4z949tlnaW1tpb29Ha/XW5bjJYQQQpRbaVIhVVVxu93WyBAzCDqf7HN2DcOwRn64XC4WLVpEY2MjLpcLj8eD2+0+bwkSSpXOWyp9brL5zZqmsWzZMm666aZT0osLcaF51wRCdplMhkKhYLWimDedyy67jC9/+cv4fD5Wr15Nc3MzLpeLdDrN4sWLT8l8ks1mKRQKVqtJTU0NsViMzs5OvF4vu3btYvfu3RSLRbLZLLt37yadThMMBikWi6TTaXRdp7a2llmzZnH55Zdb3cjZbJaRkREOHjzItm3beOGFF6itrSWTyRAIBJg3bx7FYpHOzk78fj+zZs1i9uzZwNiNaMeOHbzxxht88pOf5Prrr8fj8XDLLbfQ3d3N7t27OXDgAIsWLaK2tpaGhgaWLFmCy+Xi2muv5fHHH+fEiRNW2k5pyRFCCCF+tXbQVK69Z+910XWd5uZmAoEAHo+HSCRiBUAul2tKeoJMpesnTvS8fZ5zf38/jz32GN/5znfo6urimWee4corr7TWN5JECeJC9K4IhEqzoHk8HrxerxUIwdjNbf78+bS2tlrPKYrC/PnzmTlzpjVeF7CG0gWDQZxOJ06n05orpOs6hUIBwPrtdDppaGhg4cKFZLNZ2tvbueGGG4hEIhw5coR58+axaNEi3G43MJaW84//+I955plnyOfz1hwm+0rOIyMjxONxaxvmdsy1jnK5HKqq0tLSYqX7DIfDzJgxg1gsRjqdxul0MnfuXBwOh/Uan89HKBTC5/ONC/wkYYIQQoiLmX3O7HQ0ECqKYiVkCofDVhZYl8s1pT1B9u3blX5m+1DAo0eP8sADD/Dggw8Si8UAePjhh9mwYQPvec97rOBRiAvNuyIQMpkXdSaTIRaL4XA4SCaT1oXscrmorq4e93ozi1rpjU/TNJLJpDWBUFEUAoEALpeLeDyOYRi0trYyb948+vr6aGxs5M/+7M9oaGiwFigrFAr09fVx8uRJZs+ebb3/8ePH2bp1K36/nz/90z8lGo2yZcsWXn31VWvuUSwW4+jRo/T399Pc3GwtqGqm0q6pqUFRFLZv386qVauIRqPs3r2b3bt3W71A2WyWgYEB3G43uVwOr9fLyMgIsViMVCo1JV3+QgghxIVuKgMQewptwzDwer3ouo6maVZ2uHNdOPWdOF1gpCgK9fX13HTTTVajcGtrK6FQyHqtNKSKC9G7JhBSFIViscixY8fYsWMHe/bsQVVVXn75ZTo6Oqw0kOZrJ0obbf+t6zpOp9NaRKympoarr76anp4enn32WdasWUN9fT233XYbx44d4+WXX+ZrX/saN910E2vXrgV+1e2dTqcZHR21UnC6XC6qqqoIhUKsX78en8/HoUOHxmVnqa2tJZlMsmnTJmbNmgWA2+22UlauWrWKVatWsX37dqLRKJdccgmPP/44sViMm266iTlz5tDf38/IyAhVVVUUi0UA0um01fUvGeOEEEKI6WX/7rX3pJhBUKWs72dvIG5sbOS2227j4x//+LgFZs3RNUJcqN41gRDAsWPH+MlPfsILL7xALBZD13W2bNlCW1sb1113HeFwGDj9MDDzObfbzdKlSxkeHsbpdOLz+bjuuuv4+c9/znPPPce6dev4jd/4DW666SaOHz/OD37wA5566im2bdvGb/3Wb/H5z3+e+vp6mpubWb58ObNmzbJucLNnz+ZTn/oUW7du5aGHHsLj8ZDNZuns7KShoQGAK6+8kq1bt/Loo48yd+5crrzySlauXEk+n0dVVWbOnMlv/dZvcd999/HQQw+xadMm8vk8V155Jddccw1+vx9d15k/fz719fXWkLq6ujpWrlzJnDlzxq0lJDcyIYQQYnqZQY89OKrE72Ov10tLS0tFlk2Id+JdFQj5fD7mzZtHTU0NuVzOWqi0paXllG7o6I/TAAAgAElEQVTm0wVBMLZg2K233ko2m6WqqgqApUuXcuedd9Ld3W0Ngaurq+P222+ntbWVffv2kcvlWLJkiTXRccmSJfh8PoLBIB6PB4BIJMLtt9/O4sWLOXToEB6Ph8bGRmpqamhra0NRFFavXs3nP/959u7dS319PaFQiJtvvhlN06y5REuXLuVjH/sY27dvR9M02traWLNmDbW1tVY39m233UYoFMLj8WAYBvPnz+fjH/84dXV11pwlIYQQFycZHl1elT4yY6LhchNlkxPiQvWuCoQaGxu58cYbxw37sl+s5gU82YVr/xuXy8WKFSswDMPqyQmFQtx2220Ui8VxyRU6OjqYPXs2xWLRer2ZfjMcDrNixYpTUlHW1tayYcMG1q9fj6qq1kJp5pC9qqoqfv3Xf533vOc91rYWLlw4rqxOp5NrrrmGdevWWUP5zIDPXFfpiiuuGPeZa2trWbNmDaqqWl3yciMTQoiLk9z/xWTs9QN7/eV0awwJcaF5VwVCZnBQ+ti5mmiyoplFzmQGLg6HY9JtTzbp0UzgULqOgX379nlD5vbsv4Fx71E6uXGim5U9HedUTwgtLdNE/64ElTYsYaLjWWn77Wz2U7n35em2X86y2RdUNJ0pg9N0Km0gmagsE52j02mi+6b9nlP6UwlKk/JUyvWtGAoKCuYuVVAAA0UBY+wBFFvxjGm7dAzrRzHGtqvoYFiPi6k00dpCEz0uxIXsXRUInS/ncpGf643h7VYmz3Y7Z+r1mi6TBWNQniwzEy0OV/q8veI03WW0t7iV9mxWwpeQfVhEaaWz9HX2lPbTXcbSMpQ+Z1eu/WlvVZ2oglya3n46y2mWpzSzZGkPeznKZjL3XyVnv5zoGpmsUWu67zPmcRvbf2Do9n2ovPXz1usBA31cOadznxsGY1tXxkI01JLITAghzpEEQu9QpbWMVFp5YPJW0EpoqS2tjJiZ/UzlavUu3e5EC/yVtQXZFgxNttZF6XGfbhP18tn3q1nRnygQmWr2/TbZMS0NNMpxDpYeV7PM9uCj3GU7XS+4ff+Wq5z2ctn3Wen+nc6y2culqiq6omCY+xMwUDBQ0FFR3+p5UdSJewemlKGgKA4MxYGCirmL3uq/mvrtCyHe9SQQElPKTCHudrvx+/3WInE+n6/sw9AMwyCfz1ureHu9Xms+1kQtuP+fvfMOj6M69/9nZrZXWdWyLLlJbjHGxDhOaIEkNMPFkPDkSUgvBMKTcrmEQOpNuJAeCOFyITeN3JQfpDcIJSG08FBsbLABY+QmS1Zvuyttm/L7Qz7j2bUkW8baWdnn8zyyV9rdmXfOmXPmfM/7nveU2jZVVQmHwwSDQTweD36/394INxgMltwmYZfTPsMw8Pv9diKQQCBgr1UTr920U1EUu159Ph/BYNAuQ5HQxLl+0A1Effp8Pnsz6EAgYK9VdNPjItYShkKhgnL0eDyul5tzkiAYDNrt2O/32/Uq7k03bRWCW9RrIBCw61tRxvanA0puo/NcXk2z+2cRku31+vB6fCiKhaJqY2Fp4suKAiUQbooFiqqial48Hh+a5gFUDNPENKVHSCKRvHakEJJMK2L2OJlM0tPTYyeSyOVyroR7OQfIpmmSSCQYGhoikUgwODjI4OAgwEHhNtNtX/FssKIoaJrGwMAAAwMDJJNJAHp7e9E0jVwud9AxSlGGTiGkaRqmaTI4OMjw8DDZbJb+/n4GBgbwer1ks9lp3xl9MjvFbHcikbB/BgcH6e3tBcY2TdZ1vWQ2jlfHANls1q5jv99PX1+fbZNIwFLKduK0U9M0stksfX19djsZHh6224lhGK4LIY/HQ19fn30fWpZFf38/wWCQfD5fFgu7LcsqsK+vr8+eKBAbdh9JCPRrQZSLqqqYep7+vl6GE0lGRkcwRobxJAchH8RirJ6LHTClKE3LMlHVsfW3o4lhMqkEuXwWyxRtQnqFJBLJa0MKIcm0IjwCra2tpFIpqqur8fv99kDezVl4XdcZHR1ly5YtdHR08NRTT9Hf3z/u2ohSx+8LIZRIJOjs7GTnzp2Ew2E8Hg+VlZW2kHRSShtFlkLTNGlvb2fPnj3k83mGh4cZGhoCsPe8clMIaZrGyMgIL7zwAoODgySTSbq7u5k1axa6rhcM5N1YP2dZFvl8no6ODrZt20YsFsM0TXvPM7FpYSntKxZC+XyewcFBdu/eTVdXF4qiMDAwAICu664LIa/Xy8DAAHv37qWnp4dQKEQ+n6e6upp8Po9hGAclpiiljaJ82tra2LNnD+FwmP7+fmpqauxJDTeEmlMIWabO8NAQL730Et3tvSiJLCMD+/D5/FjWmFcfN+rZslAUFY9HI5FIYmSGiVRoeLWm/U4pmfVUIpG8NqQQkkwrkUiExsZGe1Y5lUrh9XoLBnhuIQahYr+p4eFhWltby+bBqigKmUyG0dFRe8+nffv2MTg46Hr5idA44e0TA5JkMsnOnTsBXB2AOm3M5XLouo7P52N0dJTOzk4GBwftsE23PQWiDAOBADBWx0JoOHFrzZVpmmQyGXRdJxAIMDw8zI4dO0pux3iI+y6bzZJOp9E0DcMw2LdvH0NDQwet+XMLy7JIJBLA2ARBd3c3qVTKDi91u8+xTJNsNo1Ps5hfG0ENmHj9w2gitNUSmdoESkl0kdOzWx3JokU1FjTU0jBnNj6fv+AzEolEciRIISSZNkzTJBaLsWLFCmKxGP39/a7McI+Hc7F8Q0ODPcAU8fFuP1id9on/AXvNhluelmL7LMuirq7OtrHYPrfLUZRffX29/TdRv0KkuenRcNZzcRY5UY5uIuwzDKMg6YCwb6KtAUptn6hn57qhcrkHhV2zZ8+227HwVorXbtso7r/Gpiaw9pefpuLRNJT996B1ULrq6bdZOZAdASwIBgJUVdcwt3EeAb8fyzRt+yQSieRIkEJIMq0EAgHq6uoIBAIkEgny+XxZzOA5B3fCFjEzKxaCux3yM15mM+FlKQexVjz4FEJIrB9yexAPB0LLnLZB4UDUTcQAVOAUG6KO3Ra8znoWXkDLsvB4PK7XcbF9xWVVDu3EOZFRnGxkvOxxbtl3QEQqaApoqoKqaah2dj7Hl5QSrRFy/KNpGn6/l0A4RjQ260AikRLYIZFIjl2kEJJMC+Lh7vF4CIVCeL1eZs2aNeG+JG4gxJAYjAqBMd5M8nTbOVHYk2maBYLNbW9QccpiUYZCcAiPmhggu50+WwzydF23/zaRkHTLVnH/jef1KwecHivnfegsQ7fKzlnHE7UTt1JUOykuQ2c/48St8nT2hZZloQgR5LLn2YmiKHj2J07w+XxoHg9qGQhdiUQys5FCSDJtqKpqJ0twzsa7OTh2UhxWUxyu4qZdwobiAagY5LnprSo+txiEloN94+Esw/Fm4d32UBbPyJdbGY7XTsoh7MxZb2IgD4V79JRTGTo9V05vn7Pe3bbPDt2zhSTA/lTZLpelooztHySeK8JzL5FIJK8FKYQk04rwCmmaVlYCaKJZ4uIZWTeyxRXjDJ1ye3A3Xrm4mb1uIorL0rk2w/l/OQxChR1Om922pxhnCKTb96BgvDp2/l6udQyM6+1z286Z0I7LUeRKJJKZjRRCkmmjeMbT6dUoF1E0ni3Fs7SlsHWiQVA5lZWgHEKNXivlVK7lZMuhmAm2HqpNu21PsSeyOFTYzQH+RLa6xUR15rZdEonk2EEKIcm0M94sdzk9yMazpdS2TnaOciqrYsrZtkNRTraXky2HYibYeqg2XWoms6fc+sVysEFQTrZIJJJjk/JYjSuRSCQSiUQikUgkJUQKIYlEIpFIJBKJRHLcIYWQRCKRSCQSiUQiOe6QQkgikUgkEolEIpEcd0ghJJFIJBKJRCKRSI47pBCSSCQSiUQikUgkxx1SCEkkEolEIpFIJJLjDimEJBKJRCKRSCQSyXGHFEISiUQikUgkEonkuEMKIYlEIpFIJBKJRHLcIYWQRCKRSCQSiUQiOe6QQkgikUgkEolEIpEcd0ghJJFIJBKJRCKRSI47pBCSSCQSiUQikUgkxx1SCEkkEolEIpFIJJLjDimEJBKJRCKRSCQSyXGHFEISiUQikUgkEonkuEMKIYlEIpFIJBKJRHLcIYWQRCKRSCQSiaQAy7LcNkEimXY8bhsgkUgkEolEInGX8YSPZVkoiuKCNRJJaZBCSDLtmKaJoijjdqZyxmlyRJmJcir+3W2K67Rc7JIcPSaq43K7F8uZgrJSwLIOLlc3ETWoYKGgjP3BYZ5bdawoSsH95rSjnMpvpjJZeRa3bymIJMcqUghJpp3JOs9y6FiLH/LlZlPxwLP4dTlRrnaNN5Bz29bxBngTCd9yxi0bJxucl0u5jdeOsRhTQoIyMNU2wQKLA3aOd2+6gTi3sKdc6nem4yzLYlFUfO/KMpccq0ghJJlWZkIH6rSvXGa3xxM95TAgmYxyt89ZjuVg42TCthzsm4xysG8yG8q7jotsK5M+B0UpEmUHxIebzLS2MVOwLAtVVQs8PlAogoo/I5Eci0ghJJl2crkcyWSSdDqNaZoF75XDQ01VVbvzL7avHBBhhYqiYJomlmWVzUBP2DETy7BcEIMNp1Ar5zoGyq4MAdtGKF/7FEVBU8dem2Lg6bJdwH7vD1iiDVsWplFe5WeaJqqq4vf7CYfDBINBu74lU8cpeHRdZ+vWrTz00ENks1lmzZqFYRjs3buXRCLB0qVLufTSS2lsbCyLPkkiOZpIISQ56jhnlvL5PH19fbS2trJv3z5UVcXj8Uw4SJnuwct4s4umaaLrOpqmjbuWqVQDqslitE3TxDRNNE076D3xeynsnCiMyymAPJ4D3YqbawucOAfGTlEkcMPO4nAfwzAmtE9Qqjoufi3qV4iiiewrpZ3CPlF+zjJUVfWgQbJb7Vj8TbRhwzJRFR+qqqPixbSMQ37/aOMsirFyUVAVFd3QURQDVVNQlbF2PPZRFQWz6BiluxdVVUXXdQBisRiNjY3MmzePcDg87TaUGuckyHTeC876++c//8lHPvIROjs7gQP3q/iMz+dD0zQ+/vGP4/P5ps0micQNpBCSTCupVIrW1la2bNlCMpmkvr6eSCRCJpNxfcZbDJba2tro6OigqqqKOXPm2A/XfD4/7Q8jJ8ViRlVVTNNkdHSUnTt3ks/nWbhwIZWVlQVeAzfK0bIsWzim02n6+vro6uoiFovR0tKCz+cjm82W1KbxbPT7/ei6Tk9PD319fViWxezZs5k9ezb5fJ58Pm+HfrhxLyqKgqZpJBIJ2tvb0XWd6upqqqqqCAaD5HI5eybcDRudXrTOzk66urqIx+M0NjYSCAQAbPHhBqL8dF0nlUqxb98+MpkMTU1NVFdXYxiGnayl1OUn2rKY/BkeHqZjXyc7u5Ok8gEiVbPwecIYenpMbCjKftFhHcheMF0oypgnyi4OFcswSfV3EvFkaWmqY+6cWkLBMMZ+AedG6Kuzn8nn84yMjNheilgsdkx6hUr9vBkZGeGuu+6io6MDn8/HGWecwSmnnMLu3btpb2/HNE2WLl3KW97yFrxeb0lsk0hKiRRCkmllZGSErq4uhoeHCYfDzJ07l8rKSkZHR+2QoFIjHgDiAdvd3c3Q0BB1dXXMmTOHqqoqYCykr5RCSFC8gLW3t5eXXnqJTCZDVVUV8+bNs99zy5Nhmqbt+RkaGmJkZISRkRHi8ThNTU2EQiHS6bTrC+kDgQDZbJZ0Ok1XVxeWZVFRUcHChQsxDINsNuv6QMrj8dDZ2cmePXvQdZ14PM7cuXOJx+PkcjkMw3CtnYi2ous6iUSCVCpFdXU1jY2NRCIRwF0hBGPll81m6erqor29nUwmQ2VlJQsXLkTXdbs9udFWhBdX1HFbRye7u0fYl1WoDUSJBKLkcl6EKilK1jZtWPu9O8p+QWSiYuSy9O0bpcYzzOIFc5nb0EAsHsc0KfBWiv9LVZ5OIdTT08NLL71Ed3c3iUSCurq6gvt0podtiT5dTHyUQnwODAzw3HPP4fV6+cxnPsN1111HOBy2+0fLsvB6vfj9/hlfvhLJeEghJJlWRDhIdXU18+bNY8mSJVRUVLg+eIIDD/Oenh66u7tpbm5m+fLlVFRUuDZwKrbNsix7kJxOp1m2bBnz58+3P1cONg4NDWEYBslkkoaGBlpaWgiFQq6tFXLWnaqqZLNZstks+XwegEWLFrFo0SLb4+Y2qqoSjUbp7u7GNE2WLFnCwoULiUQiB4ndUt+XYuCTy+XI5XIMDg6yePFili9fTjgcLot1OIqikMvliMfjJBIJkskky5YtY9GiRQUeU7fbSjQapW9gmNZhP0aukrqFy6kIhkln0vZnrOJ8BdOFKIv95zMVlVx6FDU3Sr3Wx5KWZpYtW0Y0GkVRVEwXq9k5KdTT00MymUTX9bEwQ8OYNNR6piDuURGmDWMCUIjAoynyio81PDzM0NAQFRUVvOtd7yIcDtsTL6IPkkiOZaQQkkwrYiASCASIx+PMmjWLcDhcFgNQGBNqoVCIcDhMNBolFosRiUTKIlOOoigYhkEkEiEcDuPxeIhGo0Sj0bIY3MFY/eZyOcLhMJFIhHg8TjQaJRgMum4bjJWh1+slHA4TDofRNI14PF42dSwIh8OEQiEsyyIejxOPx10Vk8Vks1lCoRCRSIRoNEo8HicQCJTFPagoim2fEGeRSKTsBnGRcIhwOEg4Eiaux6iMRAiFw/g86gH1I0LWSoiqKuimQk5VSIcDRLwRorEYsViMcCSComiYluVqUgcxcM9kMgSDQUZHR20hJJhOj1DxsafjvrIsi2w2S29vL52dnQSDQZqbm+1+wclrvU7n9QwODjI6OsrSpUtZtGiR3abLqX+USKYTKYQk045hGORyOTKZDLlczn6QlWJB6Hg4s2BZlkUqlbJDu9LptB0WkMvlAHcy24lyERn3RkZGyGazjI6Oouu6vfZBrH8oNSK0EMbWgSWTSUZHR8lkMvYARYTGuWUfgNfrJZPJkEqlSKVSeL1ee92NruuuhT86URTFvgcBRkdHyWazBAIBuzzF50qFs22KdWoiNG5kZITR0VF71ljMYDtn7kuz4P9AHY+Ojtp1PDo6WtBODMNwbX0LHJjZT6dHGRlJkU5nyBhpsqNpFEVFz6THhFAJk3c4y0FVVXQDsulR0ulRMkbGbsuBQBDTMsnl8iiK5Uodi7Wcoq9Op9Pk8/mD1i1NlzgpRf8gjm8YBvv27ePRRx/F6/Xi8Xhobm7G5/PZbfFo2mJZFt3d3eRyObLZLN3d3Xbo+sjICLFYjIqKCtszNd73nfZLJDMRKYQkJUEM3J0hAMUP1VLOPjkznTlTUjs7drdEhjg/YA/knDY67Rev3bBNIIRPcQiXG7Y5KV5rJeq6XOxz2lF8DzrXPYj70E3vy0TtRHCo36cLZ39SbKOz/MCdzIrOsjIME9O0wDSxTGP/j7n/czD9GRIO4CwHu05NMbliYJqOJCxik1UX6rhY6JT6GVHc103X+cW5NE3DNE16enro7e0lFAqhKAqLFi3C7/cXhPMejWeToih0dHSQz+d5+eWXueSSS4hGo3a4XEtLCzfffDMrVqyw7ZRIjjWkEJKUBOGBcaZDLZ5pc2vGW9hSnHJXvHZrobrTHqedzgXLzv/dsNE5Y1tcn07b3cBZx8U/wq7i+7LUOO0Rs97F7UT8TXy+lIjzappm17Ozrp2eVTc8u3Bw2xC/F19DKe0rnuQZs0lBVRjzrDAWkqaqYOz/3bK/50ZmQMbC8pT9+6qq++9LRbyvoiru1LGzfxZe6OkWRU6Bnc1mbY+8872jfS5N0xgYGKCzs5NAIEA0GqWnp4cXX3wRRVHsBCVHc61QLpdj586ddlKP/v5+urq6GBkZQdd1QqEQmUzG9WeNRDKdSCEkmVbGW+ztfM/tkKSJXrsdLjURxQ8kt2foDlVGboqgiX4vl3otFzsmYjL7nPef20kIxju/W2G3E6EIhQH7Ny8V7VgINgW3TR3TQkKIOUKeFEBx17PrfD3epMbRRhw3m83S0dHBK6+8Qnd3N4qi4PF4jvraPXHc7u5u+vv7qaqqYtWqVfj9frq7u3n00Uc55ZRTWLZsmZ2t0+n1PJJyUBSFPXv28Pjjj6NpGu9617v42te+hq7r7Nq1i0QiweLFi2lubj6onTnPXW5tTSKZKlIISaYdZyfp9sDdyWS2lJOdE1FONk7kpXJb7AobypHi+PqJBvRucygb3AzZK7633L7XJsKyxN5AY0LDQsES0WZ2qjg3bbfGwt8O/Dr2j12vY4m93Q4ZFkwUonm0yWQy7N69m507dzI6OkplZSWBQMBeF3e0EF6vUChEMBhk0aJFtLS0oGkaL774Ilu3buXZZ59F13WWLVtmJyo5UsR3N27cyK5du6ioqODKK6+koaEBRVGYP3/+QX23s5/K5XIMDAzYiXwAe78ziWSmIYWQRCKRSCSS457i9arZbJaBgQEsy2Lu3Lm0tLRQVVVl7081HRM9IjuoSFLg9XoxTZMtW7awYcMGwuEw8+fPx+fzAVMX/87Pb926lUQiwbnnnktLS8shQ9Uty6Krq4sHHniAJ554gurqatavX8+aNWvsNOZui2SJZKoc00JoOhqlbOgSiWQ6KQcvkERyvDFeuxPpuWOxGPPmzWPevHnE4/GDPvtaxwRO75bIMijW41VXV7Ny5Uo0TWP37t08+eSTJBIJVqxYQSAQsL9/ODY4P6frOnv37iUQCPDe976X6urqQx6nvb2d7373u9x9990A9Pb28uMf/5gbbriBK6+88jWVgUTiFseUEJosVvxIjnOo8B43RZEzPEEKM4nk2EG2Z4mk9BSvebEsC8MwUFWVYDBILBYjGo0SCATsMLCjlT66ODuewDRNPB4P9fX1djKD5557zk6r7ff77e8fyobi8VF/fz8bN24kl8uxZcsWstksqqoyNDREMpnEMAxmz569f1PdA+KpqamJj33sY5x88sn84Ac/4G9/+xu/+MUv+OAHP0gwGDzoeiSScueYEkITUZwSWbx2oigK6XSaV199lfr6eiorKwsyEYkOUsTAOtOjTndjLz63sNdp13jXJJFIJBKJ5MiwLMveb0zX9YItIIqTBxyt88EBQeScjFVV1Q6H03XdDs873HU5xUJvaGiIRCKBaZr84Ac/YPv27ZimSXt7Ox0dHXg8Hq6//nquuOIKO0FDU1MTV111Faqq2vsc/e1vf0NV1YLNbSWSmcQxKYTEfhLOTcAOJRYsy2Ljxo1cd911vPOd7+T9738/FRUV9ntiPwqnF+Zw9hmYyJN0KIq/50xRK+zJZDL4fD47pai49snifMcTcFJASSQSiURSiBBC+Xze3oh5vAnIoxnOOp5XqKenh2eeeYZdu3Yxb948Fi1aVBAWN9Xjw1i4X3NzM11dXeRyOR5//HGy2SzpdBrDMOx03s5rFQJIVVXy+TyvvPIKqqpy0kknEQqFjlIJSCSl5ZgSQqOjozzzzDM8+eSTDAwMsGbNGs4++2wqKysB2LdvHz09PdTV1eHxeKioqLAXIqZSKV5++WW2bdvG5s2befvb324LIYDOzk5efPFFmpubmTdvXoFnaDIhcSQeo8MRT1u2bOH3v/895557LieddJLdKR7uuaQIkkgkEomkEOczUUSFJJNJ2traCAQCVFRUFIiio3lOwzBQFIVYLEZlZSUej4fe3l42bdrExo0b8Xq9rFmzhsWLF095fVDxtdXW1nLzzTezadMmdF3HMAwSiQSDg4MMDQ3h8/m44IILCiZaFWVsP6dkMsmPfvQjbrnlFpYtW8aHP/zhgslhOa6QzCRmtBBydgCmafKHP/yBz3/+8/T09GBZFtFolKuuuorrrrsOr9fLD37wA37zm99QXV2NpmlcfPHFvOc97+Ff//oXv/zlL9m+fbu9cZoz9tY0TR577DFuvfVWLr/8ct797ncTDAYZHR3FMAwikci47unxvDHjpZI+VKeRTqdJJpNUVFTg8/kwTZNNmzZx11134fP5WLBgAbW1tQUd1kTIDkoikUgkkvFxjis8Hg+hUIhkMsnGjRtpbW0lEolgGEbBXkKv9bkqxgXJZBKAlStXcsIJJxAKhdiwYQNPP/00gUCA173udTQ0NBAKhWwhdqQbQmuaxqpVq1i1apW9HsowDPu1ZVmEQqGDwvANw+Duu+/mP//zP6mqquL73/8+J5xwwlEpB4nEDY4JISTy2j/++OOMjIywbt060uk0jzzyCHfffTfnn38+q1atYs+ePbzyyit0dnYSiUT42te+xt69e/njH/9ILpezBY3X68Xr9Ra4qGtra3nDG95gp5jcvn07jz76KKlUiosvvpgFCxbYNiWTSVpbW/H7/SxYsMDuTOBA6Fo+n0fXdTwej+2V6u3tJZ/PU1lZSTAYRFEUDMPg8ccf57777uNNb3oT69atIxgM0tjYyPvf/35Wr15NMBi0Q+dM02R4eNieVXLuqi7KK5/Pk06nMU2TSCRSEEIokUgkEsnxiHPAb1kWfr+fhoYGBgcH6ejoIJ/Pk0gkgKO3SbNY56NpGslkkuHhYVRVZWRkBL/fz549e1AUhcWLF7N8+XJmzZplT3q+Vu+LMzJEjH2KbXOOg3Rd58knn+Shhx7inHPO4aMf/Sinn356Qei+RDLTmNFCqHi9zllnncXixYt573vfS09PD5dddhm7d+/mscceo6WlhWAwiN/vZ/369bzhDW/gi1/8Ivfccw+JRIKbbroJr9fL5z//ebxerz0jIjqIE044gXg8zsqVKxkZGeHee+/ljjvusDvFT37yk/bmZ7fddhtPPvkk0WiUiy++mI9+9KNUVlZiWRZDQ0Ps2bOHjRs30t/fz/nnn09TUxNPP/00v/vd7xgeHubss8/m0ksvJR6Pk8lkuPfee/nhD3/Is88+SygUsnd6Pv3001m9ejXxeByAVCrFxo0bef7551EUhSSvO6YAACAASURBVNe//vWsXr2aQCCAZVkkEgk6Ojp45JFH2LBhA5ZlccEFF3DBBRfY2V4kEolEIjlecYqhQCBAY2MjgUCAlpYWMplMgSdIfP5IEecR+wX19fWxa9cuurq66OjoIBgMMmfOHE4++WSam5uprKzE6/WiaRoej+c1b2A6lfVFw8PD/PrXv+YHP/gBc+fO5dZbb6Wpqck+jtxMVTJTOSaEkJi5ueiii/B4PHg8HjRNo6amhh07dpDL5cjlclRVVeH3+1m2bBlnnHEG9fX19Pb2Agd2RTZNk3Q6TS6Xs49tWRZPP/00f/vb37jqqqsIBoN0dXXR1dVFOp3m5ZdfthcYfuMb3+DPf/4z8+fPZ/fu3Xzzm99EVVU+8YlPAPCtb32LP/7xj3R2dlJfX09TUxMbNmzgm9/8Jl1dXZimyVNPPUU2m+Wyyy7D4/HY4Xp79+7lxRdfpL+/n3/96190dnbyyU9+knPOOYfR0VFuu+02fvKTn9gLHBsbG7nyyivttJa/+tWv+O1vf0trayvDw8Nks1keffRRFEVh/fr1dmYYiUTiHnIfIYnEXZyhcSJqIh6Pk8/nDxJCrxUhIvx+P9FolOHhYZ5//nmSySQnnngizc3N9kaufr/fztZ2OKHwh+JQ65HF+EfXdW699Va++c1vkslkGBoa4q9//SvNzc1UVVXxute9zp5MlV4hyUzjmBj5CvewsyHu3buX9vZ2IpEIK1euJBaL0djYSEVFBZWVldTU1HD55ZezadMmHn74Yb7//e+zZs0avF4v4XAYj8dTkDv/L3/5Cz//+c9ZsWIF5557Ls3NzdTX17N7925isRg+n49nn32Wv//978TjcT760Y+yY8cOfvrTn3LPPfdw2mmn0dzczBNPPMH27dupra3lHe94B0uXLuXJJ5+ksrKS9evX8+qrr/LAAw9w5513smDBAs455xzmz5+Px+MhHo8zf/58otEoL730Ek899RTz58/nzDPP5OGHH7Y9VG984xtJpVK88MIL3HjjjcyaNYtLL72U//f//h9PPPEE73jHO5g/fz5PPPEEmzZt4qc//SlnnHEGNTU1blajRCKRSCSu44wG8Xq9WJaFx+MpyKAmPnc0UFUVj8dDPp+nurqampoaKisrOemkk+xwOCGCfD7ftIqN4qx1iqIwOjrKSy+9hGVZxONxamtrueOOOzBNkwsvvJCrr75aRpVIZizHhBAqTmOZTCb5+c9/TltbG2vXrmXNmjUEg0HOPPNMgsEgq1evJhaLcf7553PWWWdx3nnn8dxzzwGwfv16zj//fCKRSEGqabGmxuv1MnfuXE499VT+/ve/09nZyeLFiwG4//77GRgYIBKJ8NBDD5FOp/F4POzdu5fHH3+cBQsW2IsvP/OZz9jepWXLlvH2t78dwzB48MEHeeWVV9i5cydbtmzh7LPPttcZNTc322FsGzZs4Nlnn8UwDFpbW/nFL37B4OAg73vf+/jP//xPLMvi9ttv59Zbb+Xmm2/m9NNPZ3R0lFAoxMc+9jHe/OY38/DDD3PllVeyfft2BgYGqKmpOWpxzxKJ5MiQ7U4icRfRBsX6WbEGplgIHS1EWFkkEmHu3Lm85S1vwev1Mm/ePOLxOD6fzxZBpQhBK+6DYrEYN954I+985zupq6ujtraW7du3k0gkWL58OdXV1Uc9jbhEUiqOGSEkGm4+n+e2227jl7/8JdXV1XzqU5+irq4OVVWZP38+9fX19szKokWL0DSNE044gbVr17Jv3z5qampoamqykxXAgU5BVVXbWxSNRqmoqMDj8eDz+RgaGuLpp5/GNE1GRkbYunUrfr+fcDjM0qVLWbx4sd2hRqNRTj31VHsGpbe3l7/85S/cd999dihfPp9neHjYjlOGsU5S7Bs0b948O664ra2NzZs34/F4eOtb38rs2bMxDIMPfOAD/P73v2fXrl20t7fT1NTEtm3b0DQNTdPsmabe3l77XLIzk0gkEsnxjog0URQFTdOmdZJQPHtDoRBz585l9uzZdricSN50NNYEvRZaWlpoaWkBxpYSLF68+KBNX+UkzrHLsTxJPuOFkDMl9ejoKP/93//Nd77zHTweDzfeeCP/9m//ZncePp+PQCBgrwdyxtguXLiQhQsXFhxbfE5kpQPs3ZyHh4fp7++3d5qOxWKcdNJJPPbYYyxcuJA77riDuXPnsnPnTpYtW0ZDQwN9fX32ccT30uk0X/jCF/jNb35DRUWF3bns27ePXC5ne7gMw2BwcJBMJoPX62VgYAAY23cgm80yOjpKNBpFURR0XUdVVfr6+uxrV1WVeDyOaZrs3r2bM888094LQcQ8y72FJBKJRCI5wHQ8F8fbeF1Memqahq7rwIENTN0SQc6JUWfkzXgbystxg2SmMqOFkLMhZrNZvvOd7/Dtb38bwzC47LLLWLNmDYODgxiGYS80hAMNVqSydjZsJ87PiWQIvb296Lpu7y1gGAa6rhMIBDj77LP52c9+Rnd3Nw888ABLliwhFovZaazFQkvLsshkMiiKQjabpaenB03TuOqqq1i9ejU/+tGPMAzDPn4gEEBVVV5++WU2b97M6aefjmma+Hw+gsEg8+fPZ+HChWzYsIHbbruNkZER0uk0v/vd72hra2PNmjXMmzfPDu8TGfFSqZT9N9HxinJ1Xr9EIikd0iMrkbjPdHo4JjquED5iklZM2LrlCRqvDIqXIkx1X0TJzORYrtdjQgiZpskDDzzAf//3fzMyMkIsFqOjo4OvfvWrxONx3va2t3H22Wfj8/kO+q54fahzzJkzh6qqKjuDTFVVFc3NzWzdupXu7m4SiQRr167l0ksv5e677+bOO+/E6/WyYsUK6uvrOemkkwgEApx44ol4vV4qKioACAQCrF69mra2Nu69917+9re/sWvXLnw+H7W1tXYa7HPPPZdt27axYcMG1qxZQ1NTE2eddRarVq1i0aJFXHPNNVx//fU89dRTbNmyBV3XyefzLFq0iM997nPEYjHmzJnDqlWrOPHEE1EUBa/XS11dHeFwmFgsVpKOrFx2nS62o3jWqxw4lC1ul+N4kwflUo5O2w41o+t2OU5GOdh2ODa4Yecx5cEWzaXElzJZ2SlKoVlulrcbIdulvk4ROu88t9t7/BXXeXGiCOkROj4QTgMnxSGRuVyOkZERe5sa52fKnRkrhJzrWSzL4tVXXyWbzRIOh1EUhWeeeQbDMJg9ezYnn3zyEc/uWJaF1+vlQx/6EM3NzZx00kn2Op93vOMd6LpOOp2mra2NFStW8IUvfIHFixfb6a3nzp1LKpXCsiwikQiXXHIJa9eupbGxERgTQh/+8IcJBAL8/Oc/J5/PM3v2bNavX8/69evx+XwsWLCAj3/849xzzz2kUikGBwdZsWIFH/vYx5g7dy6hUIh169bh9/v55S9/yc6dO/F4PJx44om85z3vYfXq1ZimyVlnncXKlStZsmQJiqIwe/ZsLr/8cnRdp7GxccbctEeD6Vr0erQ43PVabsZll3v5Fb8uZ3udzMR2KNcHHBqLQ0xswCE+ITnWcSZmEL+XE+Vmj6Q0KIpCOp3mhRdeYGBggFNOOYV4PG7fD4ODgzz99NM888wz1NXVcckll9hZiMUSk3Jmxgohp1tW0zTe9773sXz5cjKZDDCWNCGZTBKNRlm1ahWRSOQ1nWvlypU0NTXZYW6KorB27Vpqa2tJJBJUVVXZnqMPfehDnHTSSXR1dVFZWcnixYvx+/2oqsratWvJZDJUVlbaXomFCxdyxRVXsGrVKgzDYN68ecyZM8feQVrTNNauXUsoFMI0TSoqKqitraWxsdF+H+Btb3sbixYtYseOHfh8PpYsWUJ9fb1dRm9605swDINoNApAPB5n3bp1AHaWvFJ3dOU8gCpn22DmDOzd4nDLp5zr2c06LvfkKRPZVy72losdkzHxvW8VvLSsQwu56WQmlOXRolyiJiQSwdDQEP/3f//H7bffjq7r3HnnnZx99tm2E+Kuu+4inU6ze/duXnnlFfbs2cNVV11FQ0PDuNEZ5caMFUJQWKg1NTWcd9559t8ty7LX4wjhcqQDHkVRCAQC1NXVFawnikQivO51rztI8cZiMU477TQMwyhIyqAoir1mqNie2tpazj//fHtGyOntAggGg5x88skA9vter7fgJtM0jUWLFrFgwQL7d2c5VVVVFVyTCPErLs9SDwzLfSBaTrbNNO+GZGZSfN9P5X4rZZsp13ZwzLRTS8gfCxG3V259okQimV5SqRRbt25l165dGIZBW1ub/d6f//xn/ud//odrr72Ws846i69+9avccccdhMNhPvOZzxQsSSlXZrQQclL80HbG2xa/f6THLY6TdXqkij/r9NSMl3Wl+H/nhm0Tnd95PcU2OB9Ozmx441138Xknus6jhRB0IjtdcViam7POzr0hJgqXc8M2Zx1NtFi1+HUpcd5/zkmH4s+UQ91O9LfJ6rwUTLRGcSK7S12Wk7WH4nvQDa/MePVYHDJdSnsmwrbF2m+HAmPCwirwspTURnvxjwKmhWIpKGMmoSoiSZBV8HG3yrNc2qtEcrwyZ84cPve5z7F7924ee+wxYrEYMBb2tmPHDhRF4YwzzuCUU04hk8nwsY99jH/+85984hOfmPYNgI8Gx4wQAuyBNhwsOo7WLNZkGVSK/zbRd4op7uiL35tMzBzuOdxEDOadQk54tYoFWKkecqJchV3ixylqixeulhJxfpExyGmrm3HkzjoSNjjLr1i4u31fOstQTE4Im5x17uZibOc96Lwvne+J16UuT2cdO+/B4okeNwenon6d96DzbzD+Yt/poPg+crYPRVVRVAVFUcd+NA1F1LvzGNNuZeFJFFVFhf12KSiM2ShsVs397UhRS95OnOUHFNSx232LRFLOHM3xgXMJR2trK3PnzgWwsxuLBGCqqrJmzRpqamro7+8nm82+5nOXgmNKCE2nOJjoWIcjUqZy7Mm+ezjHner3p/th4pyldQ7oJnqYlXKwMp49zget20JIDDaLbXPucu6GfU4PZHFdOm11eibdoniAXHzPOQdZbpRjsY2WZRXUuaZpBWn+SzEILRa7ThudZVhcnm4NTJ3lVyzIj0ZUwFQpPo+zTSiqOuaFURRUdayeDVVFcUghV9ozoGj7xZqioDnrW91/DRROwJSCYiHkdhY1iWSmcDSeF87nvGVZJBIJstmsvd2Koowt0dB1nZGREWAscUIulyMajeLxeAqOU64c00JI4j6WZWEYBrlczt6M1hkm59YmcSKUS+yrpOs6uq5jGIY98DQMo2QzjxN5GvP5PPl83i6/4jIs1Uz3eAg7RPnlcjl7ryyxN5WbM7fCDmGLKDvDMGz7izcTLiXi4WKapl3HMLZps/P+dEsIOUPMRBmKOhbtBCgIeS0lwkZnPYv2Uty+3X4QW5Y1tqVBLk8ulydn5sdmS71ejFweKH16aqfYzRkGmVyWXC5Lzsza96BpGJgo++u49F5T533orF/RV0skkkKcfd1r7Uuc389kMvzhD3+gq6uLf/7zn5xyyilomkZzczOjo6P885//JBgM8uMf/xhFUXjzm99MOBwe165y45gSQpLywPmw9Hg8eDwe0uk0e/fuJRaLUVFRQSqVAtwL8RMJLkzTZN++ffT19dHZ2cmOHTsYHBxEUcY2uy3VQH68AYamaWSzWTo7OxkYGMAwDPbs2YOqqgWCCEo7kBfn1DQNy7Lo6elh3759DAwMEA6H2bVrF4FAgEwm41rnJ8rG5/ORyWRob2+ns7MTr9dLW1sboVAIwzBKWscToaoqbW1t9PT0ANDW1obX6yUSidgbHpdykFy8fk9sKN3R0UF/f7/dTsRWBfl84UC+VHUu7PR6vYyMjNDe3k5PTw+ZTIZdu3bh9XoxDMMWQk4bS2GXQFEUPB4Pe/e20dvbRyoxSN40GRmoQM+EyKdHS2bbAaOEsWPnzVsW+ewIudQgI54k+zo7aW3dSSwex7Igr+sHheyVqixF+em6Tk9PDwMDA/j9/oKNRst5kCWRlArnMgs48jbq/L54vXnzZp599lkUReG+++7jiiuuoK6ujjPPPJPf/e53/PnPf+bBBx9kx44dnHfeebznPe+ZEYkSQAohyTSiKGPZ9uLxODt27GDPnj3s3buXUChkpzl305shhJAY4L344ov09/cTDAZRFMX2aLiF8Eolk0na29sxTZPHH3+cLVu22INjN9dmiEFIKpViYGCAgYEBUqkU6XQaj8dTMAB100Zd1+nu7mZoaAhVVUmlUmzfvt32FriJEOSJRIJ9+/ahKAqJRIJt27bh9/tdL0MhhPL5PL29vXbc98DAAB6Px25DbqJpGplMhpGREbq7u23v37Zt2wq8fm6iqirDw8N07OvEHMrgtfxkrSEsjwfTylOilUETYqFALksw1YOuZnhxyyYGervsgUy5tONcLkcmk2HhwoW2GBJIISSRHMA5Pnitk1Sjo6O8+uqrLF26lIqKCubMmUNHRwd1dXW88Y1v5Ic//CG//vWveeaZZ3jHO97Bxz/+cVpaWo7q9UwniuV2Dyc55nDOSiSTSXbu3MmWLVvslIti3YPzs6XE2SkYhmGH+qiqitfrLVg8X+qYeKeNooxEOIjwcIgBqPM6Sm2bwFmGuq6jaRo+n8/19UHOsC7Lssjlcna4lNfrxev1Fswmu2WjsEnXdduzIryozvUQbrYTEXYmylC0E+d6HDftA+xQqVwuZ69Pc9axWzjvQzGQN0wDS/Whah686liyAgvL3d1ULQtTNzAMHcs08Pq8+Hw+1xOeOM9tGAYej4eKigpaWlpYvnw5NTU19jYSkmMb0fcMDw+zceNGnnnmGbLZLGeffTZveMMbjvv1Y84w0nQ6zX333cfOnTu58MILWbp06ZT7QqdoMgyD3t5eRkdH7ePMmjWLeDxu92/9/f10d3dTX19PZWXlQaKrnOtGeoQkRx3nwMjn81FfX08gEKC5uZlMJmN3aONlyCuVfeJ8zhCz4sXrpVyX4bRLULzWRlCc4U5cSyltdK7NcHpVCrJkuRhyVry+xZneWyxcdy7CdksMTWSf+HEuNi0lznpz1rOzPTgzx7khhpztWNjnDCNUVRWPx1Ny24onCsC5Xm3sd49HQ1UVtP1Z5MQuPWP/K9PuIDqo7zX3l6GpM9acFRTFKgg/m2gd43TibJ9iIigajVJZWWmHZkokxzPOhAamaZLNZrnnnnu4/vrrGR4exjAMli9fXiCU4NDCpHjMUVdXd9D7zmPV1NRQXV190HdnQhuVQkgyLTg9KqFQCE3TCIfD9qxyuSAGKFC4/5Tb60aEPc4BsnMAWjw4cWMQ6kyW4Dx/cdY9t3AOQovXU5VLHQMTCiE3xLgT53nFhIEzkYKiKGXj+RNi3Nm3jJfS3S0O3IMmCqAqoGkqKCpqkfApib0WBXsYmZaCaRlYpo5lWBiWYqf2Fvei28EjYmIgEAgQDAalJ0gi4cC4xTAM9u7dy6ZNm/jTn/5EX19fwWSv+OxUyGazdrSMyBQn1gbDgX6t+HmvaZo9CQXlL4akEJJMG2JGVgxOnK/LCWcGLKeXQODmOibnj/CkldMgvtij4fS2uG2fs/N3rhVxigzxu5sUl2G51TFQ4PlzeqzctnG8Op6oDN1cUO+sYxOrQGAo+8cmtp0lMFFxjIeK+xnxU+w1LQeEPR6PZ9zQR5k0QXI8URy+NjAwQDQa5fzzz+epp56it7e3wHN6OEIokUjw5z//mZdeesleW1tVVWWP30TYtghFdLbHQCCAz+ejpqaG4eFh9uzZQ319PRdddBHNzc1l88wtRgohybSiqqq9ZqRcRNBkIXnOhjre30uN05NRbIubNjltmcjGcursiu+9cnPdF5fhRDaVytZD1bHb9+B4jNe/lNN9aIsM9juAFAUFd/oaa8wg+3wTzRi7XX4T2eOcgS63tiyRlApn2/V6vSxfvhxN0zjjjDPYsGEDd91115TbRE9PDzfffDObN2+221osFkNRFHsPoeJ+wSmIfD4foVDITp7k8XjYsmUL3//+9+01ReWGFEKSaaV49r3ckTOKr53DjUGWTIwsw6kj2+7xg9sCTSIpF5wTVYFAwH52iIQF2Wz2kH2j83lTV1fHOeecw8svv2zvbXfNNdewcuVKBgcH2bFjB4lEwg6Jz2QyJJNJ0uk0qVQKy7LweDxks1leeOEFEokE//rXv+jt7SUej5dlu5VCSDLtjPfQKteB3kwZTJWbneVmj5OpLhItB2aSreWACOWa6ZSqHZVze5VIJFOj+BlnWRYdHR12ts+pEI1Gue666+jt7eVnP/sZljWWafWCCy6wP+NcV+1MViMynwo7fv/733PttdcyOjpKb28vCxcuLMt+uvwskhwXlOuMXjnaNB7lZme52ePEGcZVznY6mUm2lgPHSlmV6jqOlfKSSCQHh4eKrQSc700Wklb8vKmoqOArX/kKp512GpZl8Y1vfIN//OMf9vtijZBzbVA4HKaiosL+mTVrFv/2b//GGWecgd/vt0PqyjE0TgohiUQikUgkEonkMClOLlIOCKHh8XioqqrC6/UyZ84c+/3DiTQQ19PQ0MCdd95JQ0MDg4ODvO997+OJJ56Y9PzFZVFZWclHPvIRPvzhD9PY2HhY33WjLKUQkkgkEolEIpFIDpNyy5xZTDAYxOPxEAqF7L8djq3Oz7S0tPBf//Vf+Hw+enp6+Pd//3d6e3sPmY7bKcjOPfdc/v3f/52mpqZJz+1mWUohJJFIJBKJRCKRHAO0t7fzj3/8g3Q6zf/93//R1tZ22J4W5zYTmqbxgQ98gE996lOoqsrmzZu56aabyGQy435XCBmnUPJ6vUQikbINiwMphCQSiUQikUgkkkkp9oQUb3h+pBuXvhacnhTLsujt7eUnP/kJra2tWJbFY489xi233ML27dsP63jjJTO4/vrrOfHEE7EsizvvvJNf/vKXBQlXJktzP9G+c87vFJdh8f6J012eUghJJBKJRCKRSCSHQAzK8/k86XQaXdcPyqLmFrlcjldffRXTNFm3bh3nnXce559/PoFAgL17907oySmmOEStsrKSX/ziF8yZMwdd1/n617/Oc889V7DmaCrXPp6Immivv1KEysn02RKJRCKRSCQSyQQ4B/mDg4P8z//8Dxs2bKCqqoqlS5cSDAYxDIOFCxeyZs0aZs+efdjHm4ipigCPx0NjYyOXXnopc+bMIRQKkUql6OvrIxAI4PFMfcgvstAtXbqUq6++mi9+8Yvs2bOHz372s9x9993U1NQc0TGFGDIMg9bWVl588UX6+vrw+/0oisLo6CiWZfG6172OU045Ba/XC0zP1hJSCEkkEolEIpFIJIfANE0efPBBvvWtbzEyMoLf78fn86HrOrquEw6H+eQnP8nnP/95fD5fSW3TNI25c+fS0NBgh7gFAgGqq6sxTRNN06Z0PCE6VFXFsiw+8YlP0NHRwe23387jjz/Orbfeype+9CUCgcCU1gA59z3q7+/n2muv5dFHH0XXdXw+H5qmkU6nMU2TxYsX85vf/IYlS5ZMrTCmgBRCEolEIpFIJBJJEcXhX6qqMjw8TCqVIhgMcvXVV7N8+XKeffZZ/vSnP9HR0UF7ezv5fH5cIeQUC+NtNO/0lhT/fTL7nMccb52PEEHjfX4inOJGVVUCgQCf/exn2bBhA//617+4/fbbaWpq4vLLLy8IdZuKrQC7du0ilUoxe/ZsPvzhDxMKhdiwYQP3338/PT09hx3Sd6RIISSRSCQSiUQimbFM51qSYjEkRMUFF1zAtddeSzQa5ZJLLuHcc8/lwQcf5PTTTycQCEx4nMnOIc7j/PuhxMpUeK2fnz17NjfffDPvec97aG1t5bvf/S5vfOMbWbly5ZSOL65LURTy+TzBYJAvfelLfOhDH0LTNPr7+7ntttvIZDI0NDRMyeapIoWQRCKRSCQSiUQyAc6EAHv37kVRFC666CKi0SiKouD1ennb297Gqaeeaod3ORED/76+Pjo7O9E0rWDdjhAFqVSKbDZLJBJhzpw54woqN1EUhdWrV/Mf//EfXHPNNezcuZNrrrmGH//4xzQ1NWGa5rgeqfGOA9Db20tHRwcnnXQS73rXu/D7/QDU1NTwuc99DtM0iUajB33vaCKFkEQikUgkEolkxjIdyQeKj68oCqZp2qmpe3t7aW9v59e//jWBQIDLLruMWbNmTXjufD7PI488wj333EM+nycejxMOh+33FUWhra2NXC7HmjVreO9730tLS8trtv1o4PRMKYrC+9//flpbW7ntttt47LHH+NGPfsQNN9wwpeMBdHZ2MjIyQiaTYfPmzbS3t9PW1sYJJ5zA2WefbZfPdCKFkEQikUgkEolkxiDW60y0zmai7xyJoHCuf8nn83R1dQHwyCOP8Morr/CTn/yEOXPmsHbtWk4++WT7s8XfNU2TRCJhi52KigrC4XBBuN3u3bvJZrPMnz+fbDY7ru3ZbJbu7m5GRkYIhUIF63+c57Msi1wuRz6fL7gWVVVJpVJYlkVtbS21tbW2J+ZwygAgGAzy6U9/mnvvvZdt27bx6quvHhTS5/zeRLS3twOwZcsW3v3udzM4OEg+n+eyyy7jtNNOsz1ipmmSy+XweDxHlP1uMqQQkkgkEolEIpGUJcWbbxqGgWEYWJaF3+8vCEMr3gOn+BhHKoYEr7zyCm1tbXi9Xi688EKqq6t54IEHWLNmDQsWLJg0e5rP5+Piiy/mlFNOQdM0fD4fHo+nwCaxN1EkEqGmpuYgcaHrOlu3buWnP/0pzzzzDABer3fcfXwMwyCdTpPL5Q5KWT06Oorf72fdunVceeWVLFu2bFxhORmGYaAoCuFwmDe/+c1T2kNJ2Lt582YAFi9ezCmnnMKTTz7JyMgI69evJxaL2YJ3165d3HvvvSxZsoQzzjjjqIYMSiEkkUgkEolEIil70TlPeQAAIABJREFUVFW1s7Elk0l6e3tJJBK2IHJmTSvOZPZavUG6rvPEE08wMDDARRddxDvf+U5isRhLly4lHo9TWVl5kBhwnts0Tft4qqri9XoLhJCqquRyOXK5XIGXyHkcgWEYDA0NMTg4OO77wnbhQXFev6qqaJqGpmm2p8p5rYcqD8uy6Ovr44tf/CIDAwNce+21vPe97z3oeg91HLEBrKqqfO5zn+PSSy+lt7eXVCrFwoUL7es3TZMdO3bw29/+lksuuYQzzjjjkHZOBSmEJBKJRCKRSCRlj6ZpxGIxPB4PfX19bN68GU3TqK2tJRqN2uLC4/EcJIx8Ph8+n++wFvMXoygKuq7z8MMPYxgGH/zgB+1F/EuXLiWdTtPZ2Ul1dfWEabPT6TS33norP/zhD0mn0wQCAfuzwhszMDCAruusXr2ar371q5x22mn2e0LYnHjiidx0001cd911pNNp+/jiupxiRJSHuAbxo+s6ALFYjGg0esgycab2NgyD22+/nXvuuYe3vvWtXH311USj0Sl721pbW9m7dy/V1dWcfPLJ+Hw+5syZQzabpa2tjYaGBgKBAIZhMDw8TFVVFWvXrj1kGN9UkUJIIpFIJBKJRFKWOL0yXq+X+vp6Vq5cSTKZ5IUXXuCpp54iEAhQUVFBZWUl4XCYYDCI3++3PUjRaJTm5mZaWlqIRCJTtsGyLNra2njkkUdIJBK2l8U0TR544AHuvPNO5syZw+c//3kaGxvHvQaPx8PrX/96zjvvPFKpFNFo1N6MVAgRsW/O6tWrmT179rjrbjweD5WVlQclZpgoJNApkkRWt/H29JloXU/xZ++66y5uueUWKioquOKKK+wQtqmIoEwmw/e+9z22bNnC4sWLicfjmKbJ8PAwN954Iw8++CDf+973OOussxgYGOBXv/oVW7duPaK6OxRSCEkkEolEIpFIyh5VVQmHw9TX11NbW8umTZvYtGmTnXygrq6OeDxOJBKx01MHAgHq6uoIh8PMmzfPPtZUB+/btm2zQ9EeeughotEo27Zt47rrrmNgYIALLrgAr9db8B3n8f1+PxdeeCHr1q0b930hWpyeG2emNmdo3ZFujCrW9YjjOT1B4x3DeU7TNHn11Vf5+te/jmEYfPvb32b9+vUF352oTItF1ujoKE899RQAXV1dfOELX2DBggU8/fTT3H///Xi9XkZGRlAUhdbWVp599lkSiYRMny2RSCQSiUQiOT4xTZNkMsmOHTvYtWsXkUiE008/nWAwSEVFhR3qJTxCHo8Hn89HLBajoaHBTiww1TVDuq4zODiI3+8nl8vxv//7v/zqV79iZGSEdDrNmjVr+PSnP01NTc24YsC5DsgpbiajeCNXVVULhIl4b3h4mPb2dubNm0ckEikIYxOCp7e3l4ceeoj29naWL1/OW97ylsNKTe30HvX29vIf//Ef7N27l0suuYSLL774oJC6wylTy7LIZDLU1dXR2toKwB//+Ed0XWdkZASPx8PFF1/Mqaeean+npqaGJUuWUFNTc8jjTxUphCQSiUQikUgkZY3IeNbT08Pu3btJJBIsX76cFStWEIlECAaDBAIB/H4/Xq8XTdPspAR+v59gMFgghKaCqqqsXbuWa665xt4QNZvNks/naWlp4e1vfzsrVqywExCMl7jgUCmli4XPeN4f53dTqRQvvPAC3/zmN9m+fTu33nor55xzTsExTdPk+eef5xvf+AaZTAbTNLnjjjv44Ac/yNVXX01FRcUhr12IqVtuuYWHHnqIN77xjdx0003E4/EjKkvLsqiqquIrX/kKe/bsIRgMks1m6ejooL+/n5aWFtatW8esWbPI5/M8//zzqKrKm970JioqKl5z5r9ipBCSSCQSiUQikZQlzpAxwzBIJBJks1lisRjLly/n5JNPtr0tIiOaeO3MkCZ+jgRVVVm6dClf/vKX7SxrpmliGIYttCZLnQ0H78VTfI3CS1Xs0Sn+nmVZ9Pf389e//pXvfe97tlB46aWXeNvb3lYgxvr6+rjxxhu57777+MpXvsLpp5/O29/+dr797W/j8Xj47Gc/aycfcJ632N4HHniAn/3sZwQCAT796U+zcOHCAtudn58M4dkKBAKceuqpnHrqqbbQMgwD0zTxer22pymVSnH//fezdetWlixZwsjICJWVlYc8z1SYeuoMiUQikUgkEomkxJimaWc8i0QiVFZWUl1dTWVlJbFYjFgsRjgcJhQKEQwG7RA5kT1tqnvlCIQg8fl8BAIBAoEAoVCoIOGB83NHcnwoXGMznldJiAaxqeu5555LLBbDNE0ikUhBqJqu69x77708/PDDVFVVcdFFF7F27Vo+9alPkcvluPPOO9mxY8dB+zSJ34Xg27FjB5/4xCcYGhriy1/+Mueff/64tjkpPuZ45SKEqqIo9r5KgUDgoH2hfD4fuVyOf/zjHzz33HNT2q/ocJBCSCKRSCQSiUQyIxADZ/EjvEEiZbYQPcXip3iNzlQQAmGin6naP9nPoewAiEajrFu3rkCYOLPIKYpCMpnkt7/9LclkknPPPZeWlhZUVeWKK66gvr6erq4uWltbC7xAxUIskUjwta99jd27d/PWt76Vyy+/nGAweND1TGavaZoF5TSRR8z5I8oiHA7zrne9i9NPP53GxkZ0XT/qQkiGxklKxtG+eSUSiURy/DIdGaQk5Y8YXIt9ckQoVfHamvGExZHeM+VwrzlD0BoaGuwQuOrqahRFIZ1OF3iWcrkce/fuxefzsXjxYvvzlZWVVFVV0dHRQSaTOSgUT5DP57npppv4xS9+wYoVK7jhhhsK9gsqTtzgtFMkWejv76e1tdXedHaicpwouYTP5+PCCy9kzZo15HI5GhoajlZx2kghJCkZ5dCRSCQSSflgAbJflEgmo9hjIf7m9PIIz9Bk6Ztn+hjEeX1ik1TTNOnr68OyLJLJZMF1inU3AIFAoOAY43mAnL9blsWWLVv42c9+Rjgc5uabb2bVqlUFxxZheBMlhlAUhb/+9a/ccccd3HDDDZxzzjmHXQ/OiXO/309TU9O0TaZLISQpCaLhiUZ5uOkjp9OWiWJax7Op1HY6bTzcjqMUNh5ORzRZ6lAovZ1H+gCcbjsnug8n+/yRxp9P1a7JcD5IS2HPRBxspwqY4l0UW2AoWOxv2yV2SlsKKAoIU5X9v1iogAWKDlbh4u3yKc+D3ytO2+uWTWLwW2zHsTDYlRwek62jmezzM53xEjJkMhkAe5NX59jBKXqcIqa43TjfB2hvb+f6669HVVVuueUWzjzzzIL+frKkE841Rg8//DDPPvssO3fuLHj/UPVRnJbbaZ8MjZPMSHRdJ5VKkUwmyWazaJo2oVu1VDhnRJxxxLqu27a5/WB17j0g7DMMo0BQummjKCcxQyX2ORA2ujlQdiJc9SJ1qqhjcL8MxX3onNU0DMMO/xCUQx0LG4VtxRMbpcQZfjH2O6iKhUdT8Xi9Y/LHsmC/CMJ0iqMS2QiYB/TY/nIETI1c3iBv6ChMPAFTKpwDC9GOgYP6GjfsGm/AJhaph0Ihe0Dmdl99LHA4Gc8k5YWiKLa3R6wREs80sW5KjGsEznVSzgkF0YZEkoVHH32Ur33ta7zvfe8bV5g4KZ7sFAkdnn/+eTRNO8i2qeL8ztG+F6UQkkw7Iu//jh07GBgYwDRN/H7/ES0yPJo4G5Ou66TTaWDsIevxeA7yypTaNueMez6fJ5/Po+s6Xq/XzlLjHCi7gRgcG4ZBNptF13UURcHv9+Pz+exFks5rcsvGfD5vx1CLjfbKpQzFvZbL5dB1HZ/PZw9Iy2FtnaZp9qA4l8thmqY9CHWzHTsf+CgKRi5DJpdnNAdg4fMd2DPExMIq8VhOsUTgmwJYmJaFbpj4LItw0I/m9SK6Ibf7QuckSyaTQVEUgsGgPQnjVj0769g0TfL5PIFAgLq6OubNm0dlZeUhB2mSw2MqURIS9xH14/P5CsLlRJ8XCARoaGhg69atbNy4kXw+j6Zp7Nu3j56eHhRFIRqNFjyb8/k8999/PzfccAOWZbFz5056enro6Oigt7eXfD4/YSicaZp4PB5mz55Nf38/3/nOd3jppZeora1l2bJlBTYfKdNxL0ohJJk2nLMLO3fu5KmnnsI0TSoqKojH4wVpMEtFcWiHpmnouk5/fz8vv/wywWCQ5cuXE4vF7Fl5Nwd6woPR19dHZ2cnyWSS+vp6Fv1/9u48PI67Pvz4e2Z29tbqWkmWZUm2ZdnyIV/Yzu0Q4gJJCSkEaJtAKbSBcrSUnqE/ylHoEfpACD2Th9AQaJPScCRAaOLgxKnj3MSOr1i2ZVnyoftc7T0zvz/kmYzWK8eJpV3Z+rz86LG0Wmk+mvP7+Z5NTaiq6hRYilkQ9fl8xONxOjo6GBwcJBwO09jYSGVlJclk8oyWoZmONd9NWtd1enp6aGtrw+fzsWDBAqqqqtB1nXQ6XbQCHuAkE7FYjK6uLvr7+6mvr6ehoWFSolGshM1uSYvH484DUdd1mpubnQXvihGb+3zSdR1FhYG+Pg53nKDt+CAxJUJl9Xw8umfiWjatgk+Tak0EiqKAaVqkUwmSQ51UemH9ysXUzq/C6w1NakG1/6ZCslv60uk0PT09dHZ2EgwGaWpqIhQKTUrWnb+tQDHa2/Z4Jo7j0NAQqVSKnp4efD4fZWVlTiIkrULTS/bl7GZXXgwODmJZFseOHcMwDOd6CIfDbNmyhSeffJJt27Zx9OhRmpubefTRR+np6WHRokU0NTVNqvDdvXs3n/zkJ+nu7kZRFO666y6+/e1vAzhloqlicX/u7nFTWlpKNBo97791pkgiJGaM+6E+ODjI2NgYjY2NLF68mEgk4owZcr+vUDdeu4bRbinQdZ22tjY8Hg+NjY1UVVU5rRnF7MJn18T6fD7GxsZIJBJUVFTQ1NSEx+Mhk8kUJS547Xh5PB7GxsYYGBhgbGyMkpISFixYQF1dHZlMpmhd5Nznk9frBSbWQ/D5fNTV1VFfX4/f7yedTk/6uUKeg3YybhgGw8PDDA0NMTg4SFVVlTPLD1DQ7knu/ebuXjE6OoplWfT19eH1elm4cCE1NTWTpjMtRkHULiSDRcCvc7y7j4GUh0E8ePUadJ+PTHocLBWrCNex3SJpGgax1Chj490EPBmiVRUsa16Gxxs4415YKPZxs7tkxuNxLMvi1KlTkyo0it1yah/jbDZLT08PXV1djI2NMTY2dkYX14vFTHYFOpdt5H5PkszZw06ARkZG2LFjB8888wwA//7v/87SpUu59NJLKS8vR9M0PvCBD/Doo4/y5JNPcs8997BlyxZuv/12qqqq+PKXv8zChQsndWkbGhoim82iqiqlpaVomkYikSCdTk9qHXbH4v7ffmZks1kMwyAUCvH2t7+dSCRyxs/MFpIIiRlnrxZsrwLd2tp6Tqswz4R8g/YzmQzhcJiuri4ikQhr1qxxpqOcDd33stksJSUlGIZBaWkpy5cvZ+XKlei6XrS43BRFYWRkhFgsRigUoqamhtbWVmpra4Hi19K6k6Hu7m5KS0tpbW2loaEBn883qSBVSO6xQXZNdywWw+PxsHLlStauXXvG+IdinIv2g21sbAyfz0c2m8Xn89Ha2kpNTc2kv6UYsQGnu01lKSsrYWA4zuGxIH5PLQua16L7faRTMTS0gk+WMNEvTkE9XXAZGxlkVImxOAqtra2sXb0GRdOdv6XY10k8HkfXdWKxGDU1Naxbt46KioqiJxn2vjEMg/7+frxeL11dXWfUUM+2AtYb4XThPD0b10wnH7nH0+6hYXe/tiyLTCZDKpXC6/USDAYv6P17MbEsi5GREf73f/+Xe+65h0wmg9fr5fjx43zzm9/k05/+NO94xzvwer3Mnz+fL3zhC4yPj/PDH/6Qn/3sZ6RSKb7whS9w0003nVGOaG1t5Z/+6Z9QFIUlS5Y4lWDpdNqprMntiuo+T03TRNM0MpkMsViMYDDIypUrCYVCwOy8RiUREjPGfWN31yZ6PB48Ho/T4mK3FhS6RcjdSmF30bNr6O0uSfkUqlYeXuuy4m6Zci8YZxcECtVHPl/XGLs22T7OdiuRrutOEpzbbF5I7mNsn4fufWi3aOTrUjeTJhfizUnXg31M3cfefu9Myz3G7mlp3bFomuacg8V4uLmP2cR+Ob0fDQMF0LDQMNEw8WCComAVIxNSwFIUDDOLiXE6dkCZSJC00+MRC9lymnuM7fPKPg/tc9E9gYf7/CwU9xgVTdOceOzvna2rTiHimk52opfNZp3xizPZ5c+d3MbjcX7+85/zox/9iJGREYLBIKZp0tfXRzKZZNmyZXz605/mkksukfFYs4CiTCw0umHDBiorK7EsC6/XSzwex+fzOQmM/d5LLrmEe++9l0OHDhGPx6mtrWX9+vVOTwm36upq3vOe90xqBXaPPbJ/p1tuL4J8FSfuZ8hsS4YkERIzxn1h2LVNyWSSZDLpFEDtgXeFSoTyFTTj8bjT9Gt/WJZFKpWaNNg/3982k3HaXeKy2SzxeJxUKkU6nXbGZBiGQSKRKOiDaap9kU6nicfjJJNJ57gCzuD/QnaNy3cD1nWdZDJJKpVyPuyaT/s457YUFiJOu4CXyWSc8zCZTDrH2X3tuP+eQsRlf25XDKRSKecYezweUqkUlmU5kyfY7y9EjO44DcPA6/ViWcZEfKkkmWwWU8lipNNomoKZzcDpJKTQFAUsRYVMBjOdIpvJkslYJBMT56NX9Tg18cWo0IDXpsJNJBIkEgnnXpNMJp1r2d0FstDXsmmaBAIBTNN0rg93wlaoOGaKvT9TqRRDQ0MMDAzg9Xqpr693xmjNFNM0+cUvfsGf/dmfceLECRRFoaKigvHxcWcCod7eXm644QY2btwoiVCR2eeiPU5zyZIleSvx3Oespmk0NTXR1NR0xvty2c/q8fFx7r//fgzD4Oabb6akpOSc4jtbEjRbSSIkZpz74emeBtr+vNA3VndNvH3RuwvB9kcxB+DaiZA7xtz4cuMsNPdxzU10cuN1T9dZqLhyY3F/njt9aCETNZv7PHRz7zv7e1MtXDfT7HM/91pxx5Z7rRQyTjtRU1UVywRVmWgZwgIFFUVVmeifZn8Ug4KqakB2Yvpuy0JVTr/m2q/FPA9zzy/3teE+Bwt9fO343Nu391Vut+VC3Kdn+vcbhsGpU6fYuXMnmqaxZcsWFi9ePGl9mOmMQ1EUxsbG+O53v8vx48eJRCJ89KMf5frrr+fYsWPs37+fTCbD6tWr2bx581nXjhGFkXuNus+FfF3/z+WcyX2WW5ZFR0cHt99+OwMDA9TU1HDjjTeecX/K10MEoL29nWeeeYZQKMRVV13lDDXIfd9sIYmQmHHFaFE5m3Ot+S90C0HutvPd1M72ebGcrZm8GKaq5YKzJ0mFdrZjPNV7i+Vc91Mh92f+/Ze7fWvyK0U43Nbpf2eGMLuu41z5apndnxfyfCzm/ilk8qcoE+O0jh07xsjICOFwGFVVaWxsnDSWwx5HdL4sy2J4eJhXX30VXde59dZb+dKXvkQwGJzUK0LX9VkzJlWcXb7zdapk6WwCgQC33HILiqKwYcMG4LVlRuwKErsnhb0cBUB/fz+f+9znePTRR4lGo9x9991ce+21eWOZLSQREkIIIYTIYU8YkEgknK6q01WQy53kQdd1BgcHGRwcxO/3O9Pp79+/H1VVqa2tJRAIOO+fru2PjIwwMjLCvHnz+NSnPkUwGHTeY2+v2JVbYmqvVyGRrxLwbMm9ZVkkEgn+4z/+g61bt/LVr36Vuro6TNPkZz/7GT/5yU+cCXNM02T+/PnceOONbNiwAVVVGR8fp7Ozk7GxMcbHxzl58uQ0/rUzQxIhF7nYhRBCiLnNLgukUim6u7tpb2+nv78fRXlt0crp2Ib9v6qqeL1eenp6OHHiBBUVFTQ3NxMKhRgYGGDHjh1s2rSJ5ubm8+6e5i4EW5blrMvU0tJCXV2d877Z3JVJvGa6W+sVRaG/v5+HH36YgwcPMjAwAExMqPGjH/2Ihx9+2FlSIZvNUlVVRWlpKcuWLaO0tJS6ujq+8pWv8Pu///v09fUVZZKVN0oSodNyL/bcmS9my0GcTV17hBBCiIuN/VxNJpMcO3aMgwcPMj4+TllZGaFQyJmtbrq6CCqK4kwCUVZWxpIlS1i6dCmqqrJnzx4OHTrErl27AFi0aBE+nw+Ynsrbnp4eUqkUhw8f5rHHHqOlpYVTp07R09PD/PnzWbNmjdNVLl/c4uIzODhIX18fmqY543tUVeXtb387dXV1VFVVEQ6HSaVSGIbhzFJnWRPrfW3evJlVq1axY8cOSkpKJnVjno1J0ZxPhKY6KLlJkN0nt1gD53PHEbhnuZqNJ5YQQghxIcmt+Ewmk/T395PNZqmtraWpqYmKiopJywJMZ4uJ/SwvLy+nvLwcj8fjjAVqa2sjmUzi9/upq6ubtjE7nZ2dpNNpuru7ueWWWwgEAvT29mJZFi0tLdx3332sX7++qGNmReFYlkVXVxexWIy6ujqam5uBiSm0GxoaOHXqlNOd0l6Soq6uzkmW7Bltk8kkQN7lKWZbmXXOJ0K5pmpxyV1N92w/+0YP8LmcFLlrsbgHSs6mE0oIIYS4ULmTG3spgFAoRH19PY2NjZSXl5+x5teb3Y7NngHPTnzsmRABamtrne11d3fz3HPPsXLlSpYtW3beydD4+Dj79+9HURT8fj+/8Ru/QSqVYufOncRiMVpbW6mqqpIkaA4xDINDhw6RSqU4efIkL730Eg0NDWQyGX784x/zve99z1nryl6C4r3vfS9btmxxFt09cOAAhw4dYmxsjKeeeop3v/vdTismzL7zaE4nQvbNxzRNtm7dSiaTYcuWLfj9fucGZzeB2/1ypzqArzeN57kkUWc7OexMO5lMOjctO57Xa7KWJm0hhBDi3Lifqx6Ph2AwSFlZGZFIBL/ff95d1M91gLtpms56QpqmsWPHDl555RUURaGhoeG8EiHLsmhvb+fpp59GVVU+/OEPc8cdd6CqKkePHmV8fJx58+Yxb968STGJi9+8efMIh8OMjo7y1FNP8d73vhev18tNN93EwoULCYVCBAIBZ82xZcuWTSo3P/fcc3R3dwOwb98+hoaGqK2tnbXjzS6KRGiqZrfchQHtxMaekx8mEozR0VH+5V/+hZGREZYuXcqyZcswTZPR0VF27tyJ1+vlkksuIRwO593u+RzcsyVAud/r7+/nX//1X4lEItx8881UV1ef9WfOZZaQ2dZEKYQQQhRDbrnBXrTVMAynUtR+3/lu52xyJzRQVdWZotheENpe+PuNjLvIjf/555/n5MmT1NTU8Fu/9Vv4fD4sy2Lp0qVnxOD+OpFIEIvFCAQCTrlIyhIXrtzE/9prr+W2227jiSeeYPPmzRiGgc/n4/LLL+eSSy5xGgbsMrU9eYJlWcTjccrKyvi1X/s1xsbGuPTSSxkaGqK6urqg6wm+ERd0IpRb6D969CiPPvooPT09TvJyySWXOAP9tm7dyksvvcQ111xDNBpl4cKF7N+/n71799Le3u5MG2j/3pMnT/Kv//qvzuDFcDhMMplkeHiY8vLy06uZ50+CpmqFyZ0yM9/PKIpCJpOhu7ubQCBAZWUlAAMDA2zbto2SkhKuvvpqKioqzqgRyh03ZHepmyoBmo0npRBCCFEM7meiYRhO4uGeQhvO7K5+vtucam0gy7Lo7e3llVdeobu7m/r6+jc1RihfEtfe3k4ikeCWW27hLW95S973ustZyWSSnTt38pOf/IQTJ07g8/m45JJL+OAHP0h5ebmUJy5g7rJjdXU1n/zkJ3n/+99PNBpF0zSnZ1RuMmMnQPa5ous6b3vb29i0aROKouD1eolEIrO6vHlBJ0Lw2gUbi8X4/Oc/z09/+lOnP21TUxNf/vKXede73oVlWTz55JN8+9vf5v7772ft2rW89a1v5c477ySVSjE0NERFRcWkG1F5eTnXXnst8+bNo7y8nO7ubh5//HFefPFFrr76at71rnc5ydD4+Divvvoq/f39tLS00NDQcMZBNwyDWCyGqqqEQiFgYnaO3t5eSkpKqK2tdcYitbe3861vfQuv18utt97K4sWLCYVC3HLLLYTDYWprayfdCEdGRhgfH6eiosLpNmfXJNnd/0ZHR51s3T0LzGw9OYUQQohCyleJmUgk6O3tpby8nFQq5QwSP5exw290u4qiEAqFnMVUh4eH2bdvH8899xyWZXHppZfS0tLirPfzZltiUqkU+/fvB2Dp0qVOmcBdYZvb4tTb28vPf/5ztm7dSiAQ4NChQzz00EMMDg7yhS98YdLfIuWKC1swGGThwoVnnA/u//Pxer3U1NRQU1MDXBjTsF/QiZBd0LfHziQSCTZv3syVV17JU089xbZt27j33ntZunQpzc3NpNNphoeHMQyDm266ifvuu4+enh5+4zd+g61btwJMWiOgvLycq666ivr6ekpKSti5cyd33XUXv/rVrzhw4AAbNmygoaGB7u5u/vmf/5mHHnqIsbExWltb+ZM/+RPe+ta3oigKY2NjHDhwgN27d7Nnzx4uu+wy3vrWt9LV1cV9993Hvn37WLhwIZ/5zGdYvXo1qqqyb98+HnzwQQzDoLy8nC1btmCaJtFolGXLllFbWwtAOp3m5ZdfZvv27QwNDbFw4ULe/va309jYiKqqJBIJjh49ygsvvMAvfvEL+vv7WbFiBZ/+9KdZsmSJ3KyEEEKI09wFP5/PRygUoquri127dtHV1UU4HHYSoelsEbIXo1QUhZaWFlpaWggEArz88ss8//zzmKbJsmXLWLhwoTMl8fkYHBzkwIEDWJbF3r17GR0dRdd1xsbGOHXqFKlUiqamJiorK519UllZyUc+8hF+7/d+j7KyMv75n/+Z22+/nSeffJLbbrvNWYAVJBm6UOUbZpKbzJxtDPxUQ0ZXRM7aAAAgAElEQVRm8yzHF3Qi5B7nE4lE+H//7/+haRorV66kvr6eHTt2cPjwYTo7O2lsbHT61F555ZW8973v5f7776eiooL3vOc9PP/88yQSCbLZrPP7Ozs7ufPOO7nssst43/vex+joKIODg87aAgMDA8yfP58f/vCH3HXXXVRXV1NTU+MkJffeey9Llizh8ccf5/Of/zwnT55E0zRKSkooLy/n61//Oi+//DKapvHCCy8wNDTEF77wBdatWwdMJDnJZJL29nYOHjzI4cOH2bZtGxs2bOBv//ZvCYfDPPLII3zxi1+kq6vLWe3X3t7q1at55ZVX+Ou//ms6OjoYGRlxmrZHRka4/fbbqampmZUnphBCCFEslmXh9/uZN28efX19nDhxgr6+PoaGhpwxM2/22ZlbSLTHWAwMDBCLxYjH484YnLa2NuLxOCtXrmT16tVUVFSgaRqGYaBp2pt+dieTSVKpFACPPPIIgUAAVVU5cuQI7e3t6LrOX/zFX/Dbv/3bTu+TUCjEqlWrnL9906ZNhMNhli1bhtfrfVNxiNnHfX66u2yebXKus41Pz12OZra54BMheyf7fD4ngbBbilRVpbKyksbGRmfnh0Ihfv3Xf536+nqi0SgHDhzgBz/4AWNjYwSDQWciBcuyOHLkiNPs+2u/9mssWLCA1atX097eTiQSIRKJMDQ0xMMPP0w8Hueyyy5jzZo13HXXXezZs4cf/OAHfPazn6WtrY1Dhw7h8/m46aab+PVf/3V0XWf+/PmsX7+eYDDI97//fR5//HEWL17MsmXLWLRoEaWlpViWxbJly1i+fDnt7e3s3r2b3t5ePvOZzzA0NMQ//uM/cujQIa644gqampp48skn+cUvfoGiKHzrW9/ihRde4IknnmD58uX80R/9Efv37+dHP/oR//u//8tv/uZvct111zn7bDaeoEIIIUShWZaF1+ulrq4Oj8dDY2MjmUwGwzCm9Vlpj73QdZ3+/n46OzsZGBhgx44d+P1+ysrKaG1tZdmyZUSjUXRdR9O0SZM+nYvc95aUlLB+/XpGRkaIx+Pcd999pNNppzJY0zQOHTqEaZrOz5imyfDwMC+//DLPPfccL730Eu9///v5y7/8S1nS4yJytunSpzq27tffyM/NBhd0IpTLTl5++MMfcv/995NMJlm1ahULFy4EJvrEappGTU0NJSUl3HjjjYyMjLBt2zZM02TFihWTZoazZ4zRNI3y8nJqamrYvHkzv/zlL5k3bx6VlZU888wzvPLKK2SzWZ5//nmOHDnC6OgohmHw3HPP0dvbi8/nQ9M03vGOd/CVr3zFmY7yjjvuIB6Ps3v3bvbv38/DDz/Mc889Rzwep6qqioqKCkzT5Oqrr3YGnv3nf/4npmkSi8V44okn2LdvH2vWrOGOO+6gubmZnTt38pd/+Zc8/vjj/PKXvySTyaAoCpdccgmf+MQnGBwcpL+/n5/+9KccOnSI66677rxnvhNCCCEuJvbA7/Lycnw+H1VVVWSz2WlJhHJrzO1Z4Xp7e0mn0xw+fJiRkRFaWlpYuHAhLS0tVFdXEwgEnCTofFqDACoqKvjHf/xH9u7dy9jYGOPj44yNjRGLxUgkEvj9fm688UZ0XXfiTSaTvPTSS/z93/8927dvJxgM8rWvfY1Fixad1/4QopguqkQokUjw9NNP841vfIPBwUG8Xi+lpaVks1kCgQBr1qyhra2N2tpaPB4PW7ZsQVVV+vv7sSyLt7zlLVRWVjoXvT1dptfrRdd1dF13bkR+vx/TNJ0blmmazmQFVVVVNDQ0sGXLFkpLS50m7OXLl1NTU4OiKAwMDPDjH/+YRx99lH379jm1QmNjY2QyGWdRNa/XSygUQlEUotEowWDQadLeuXMn8Xic5cuX09TUhM/n47LLLuPKK69k7969vPLKK2zYsAGv1+us7huNRqmvr3dqdqaaqUYIIYSYq+zxx/Zz354dyz2V9PlwT0utqiper5dMJkNpaamzTsvq1atZuXIl0WjUqVC1W4TONxlTVZXFixezePHiKWOzP4fXEsMFCxbw1re+1Zls4cknn3RmFxPiQnRRJUKhUIh3vvOdnDhxggcffJAjR47w05/+lNraWm6++WY+8pGPcP311zN//nwURWHVqlVUV1c7tR/l5eXOTCyKopBOp4GJhMieNrO/v99pPtY0jVWrVhGNRhkZGeF3f/d3+f3f/32OHj1KWVkZzc3N6LpOLBbDNM1JAywfeeQRbrvtNgzDYPXq1dTV1dHd3e3MeJdOp51+wt3d3axevdqpqbFvUplMxkmW4vE4Pp+PgYEBBgcHURSFQCCA3+/H4/Fw/Phx0uk0uq6TSqWcm7z9t0qLkBBCCPFaK43d/cxOVGbyOakoCuFwmAULFnDllVeiaRpLly6loqICn8/nrCM0HUnQVNuHM8cvuRMij8fDsmXL+Ou//ms+9rGP8Qd/8Af85Cc/4V3vehcf/OAHJ/0eIS4UF3Qi5B6EZVkW2WyWmpoa/uqv/ooPfehDfOxjH2P79u384Ac/4IorrmDDhg2Taj98Ph/19fV5f689E5097XQikaCmpgbDMEgkEs4ia6tXr+Ytb3kLjzzyCI8//jherxePx8M73vEOZ2pNwzAAJk25OTo6SiaT4ZprruGTn/wke/bs4ac//SnxeJzx8XFKSkoIh8N0dHSwfft2rrzySkzTxOfzEQwG8fv9XHnllWzdupWHHnqIUChEc3Mz27ZtY/v27VRXV7N582YGBwfJZrPO3O/pdJpYLEY2m50UjxBCCCFwnon2c3O6WoFeTygUoq6ujnnz5uHxeCYlQO4kaLrG9J5tLIe7gjSTyTA8PEw6naa6uhqPx0MsFmNgYABFUUilUjLOWFywLuhEyG1kZIQnnniC4eFh3vOe9+Dz+ZybWE1NzaQ58qeSO1VgVVUVdXV1zvo+uq6zcuVK5s+fTzabpaOjgzVr1vDxj3+cI0eO8PLLL7N7925CoZAzl3plZSWrVq1i/fr1LF261JnEoaWlhUsuuYRXX32Vz372swwPD5PJZGhsbCQQCBCNRrnlllv4/ve/z5EjR+js7CQYDPK2t72NyspKKioq+OhHP8q+ffv4n//5H/7t3/4NVVXJZrNUVlbyR3/0R1xxxRVs376dNWvWcN111+Hz+Ugmk9TV1VFXV0d9ff2k2UCEEEII8ZpCLQRpGAY+n4+ysjKn8tQud+S2BM10PLkLqp44cYK77rqLxx57jMsvv5zKykq+//3v09XVxYc+9CFuuukmKUOIC9ZFkwiZpsl///d/8+ijj/LAAw9gWRbPP/88ixYt4oMf/KAzYcLrzYPuTpY2btzIV7/6VcrKyigtLQXg0ksv5ROf+ASdnZ20t7ezfPlytmzZwt13383DDz/M3r17nSZkwzBQVZVNmzbxqU99itbWVjRNA+Dyyy/ntttu44477uDQoUPU1tZy7bXX8oEPfICamhp0Xef9738/hmFw5MgR+vr6aGlp4eabb8bj8RCJRCgtLeXrX/86ra2tPPXUU4yPj7N48WLe9773ceWVV+L1emlqauITn/gEGzduRFEU/H4/7373u2lqauLqq6+W1iAhhBCiyOxygz01tv2aPV64mIlGNBqloaGBVCrFY489RkVFBaFQiM997nP84R/+IWVlZU68QlxoLppEKBwO8+53v5s9e/bwzDPPoGkaCxcu5LOf/azTGpJvLEy+5m77tbKyMt75zneiaZozdqiyspIPfehD9Pb2EgwGnYGLGzdupKamhs7OTgAWLFhARUWF8/l1111HIBBwbhR+v5/NmzezYMECTp48SU1NDdXV1UQiEWc+/pqaGn7zN3+TU6dOUV9fT2VlJZFIxOkiBxOLvt56661ce+21xONxamtrnek+7W1ff/31k2bDa21tZenSpYRCoUl/s9zEhBBCiMJzj9Gxe7PY/xf62Zy7+GU4HOa3f/u3WbhwIUeOHCESibB+/XpaWlqcWeVm8zoxQpzNBZ0IuZuJfT4fN9xwAytWrKCrqwtVVWlsbKS5uRmv1ztlk/LZLlpFUSgtLT1jfnQ7aXH/vMfjYdGiRU7Lk/vmZU/Bmfu7VVVl6dKlNDc3522ZUVWV2tpa5s2b53zfblFyKykpYfXq1c4N1M3v9+P3+ydtNxgMOondbFDoJCy39S/ftt039mIliVNNYjGbJ7bItz9nw4NxqmM4G/blVDHkrvBdDLN5PYgz90luXNakl5XXXimoyfvL/twAVNwRFaPAa283H/f+zS0YF/p8nM3n4XRxLxDv/rqYf6c7hvLyct7+9rc704fruj7p+xfb8RBzxwWdCOWKRCKsXbuWtWvXTnr9fG/c+QpRU3WteyM3g9x+uFP97nPtvjbVlJfTFe90yR14WuyapHyxTPWe2XSzz53KtRCx5V4L+QYR5zu+uQWp2cCd6J7t+iu03H1X6EJnvhXCp7pmZwM7ttMRu78D1sSHVZQU6GxOx8aZ+7cYlUJne919Dtj/FyrG3G27X59N5+B0sROK2fi8AZxJG4S4mFxUZ/S53NSnexv5EoxzuXm9XkxnK3Sc681xNj4o8j3QilHz7U4iznbenEtXypnyRtesKOS+y/36fM7nQngj2yzGMT7X7RbrGOf73lRJUqHkbeFzvpnvJyz3OwpEYVKTFGCHbUdSzHtMvu2eayt0MRL0uWK2JUC2N1sWEWI2u6gSIVu+FqA3e8GeazefN9qM/Xrve6PxvtGuA8W6gdk1XlM1qReyVcP+cLe4nS2WYnVbyY0pd98VsyUtXwxTfV3Mh6a7r32+41rMGtjce4c7zmKfg+6Kitf7v1ic/WRZKO5/igLufTnx5uLF52RnyhnHuND3QDf3uX+2mF6v50Ix4iv2uSeEuPBdVIlQsQs04kx2QcpevFXTNDwejzMTTm5BqxC1frkFTvfUpO4Zeuw48yXVhYrTjseOxY7L/p7dTSFfnDMVU+527Bjt/WZ/DkyKr5Byr387Jnv6+twY7YWO3T9fqBpo92rxdnzuD3eyXqiY3F3j3PvLjsd9vD0eT1FaNdwxappG1jTxehQUVcVUVUw00FQsVQNFn6KVaMajxFImPlA1LE3FUkBFxaNaBZ8WeSruY6nrunPu2V2h7ONpH38o3DF2b9uONfd6mE1dbi9mso/FxeiiSoRALtTZxv3QtJMhYNL0oLmtHDMp34Mzt2bRNM3Xxh1MEVch4rQ/7Hjs103TdD7gtQk0CnXuu7eTG587dvv1Qs98lK/WOnd/2t9zV5zkJmuFOsbu7eXu29z3FSKhzJfUuK/d3NfzFUIL1bI7KVbLPD30RgHTwjInXrMsC8u0QLEofDZkgaJgWafPNXNinxmm4vSac+/DYrRy5OuCm6/rcG6FVaEqNxRFwTAMZxHz3OtYCCHOx0WXCInZx65BHh8f59VXX8UwDGca8HQ67bynkOwHuaqqxONxjh07xvHjxxkdHWXv3r309PSQTqcnJWyFZlkWuq6TzWY5evQo7e3tjI6OEgwGCYVCqKpKMpksevLv9XoZHh7myJEjdHd3k06nCYVCDAwMkEwmyWazRV+vSlVV2tra6OrqYmRkhD179jA6Ooqu60VfFV3TNDKZDAMDAxw+fJhTp05RWVmJ3+9H0zSnAFjI+OzCrn2deDwehoeHOXToEB0dHQSDQfbs2UNvby+ZTKYohVJ3IjvRumzS1XGUjo5jDHf3Maan6A960X1+MskEilKkWeMARVXIZrKMx0aJ9Z+kJwMHXj2IhYXXG8A0TbLZbNHuM3bL7cjICO3t7XR1dZFIJKisrKSysnJSBUyxYvT5fBiGQU9PD8eOHSOVSk2aYU1ahYQQb4YkQmLGuAspJSUlaJrG4cOH6enpIRQKYVlW0QrJ7hrYVCrF4OAgAwMDxGIxnn32WUpKSpzaRyhev327y9vAwAB9fX0kk0ksyyIWi6EoCplMpqhJht0tKR6P09nZydjYGPF4nGQySUVFBel0elILTDH19fUxMDDA2NgYAMeOHUPXddLpdNFq4mHiGBuGQSwW4+TJk4yNjXHgwAGGh4ed1rTZsA8TiQT9/f309/fj9Xp57rnniEQiBU/S3NzXp6nAUH8fp052QyJGIB0neyqO5fFiGNmcyaoLTAHTMFFTSXypPlKjsG/vXvr7B5wW3WImGfb5bx/jnp4exsfHMU2TUCg0KTEuRoymaaLrOoZhMDIygmma1NTUEAwGi35fEUJc2CQREjPKLqjU1dXR2trKqVOnSCQSk7oiFWNsl/1At2tDy8rK8Pv9KIqC1+vFNM28CUYxunfBxNTwdo2o1+vFMAxnbIn7/YWOzy4c6bpOXV0d2WwWTdPw+XxkMhngzLWvirEPTdMkEomwZMkSAKcAZSdyxRis7o5PVVUCgQALFiwgm806C0Db10kh45tq7IfP5yMajVJSUoKqqvj9fuc6KUbXOJs73pJIKU2LfNTXGyiqju71oWqeiYkUlGLNGnd6PMvplr1sugINE7/fh6K8dg90XyeFPsb29nRdp7Ky0jnG9sLd+SoKCtX9EV67h2iaRiQSIRKJ0NDQQDQadSoKit3qLIS4MEkiJGaUXdCsra1F13XmzZtHLBY7oytNMadGdddoK4ritFLlK+AVSr6xLfZr7rE3dozF3H/nEl/u+wstd1yQXftezGNsx2PHZ8fkjjE3SSuW3LF1xRr/5ZZ73tvH2J7cQVUtVAUURT1dSC7WfrRQFPsYW1imQiaTnRj3Amha4c/BfNdk7ngg93U9W65ju5tmaWkp0WiU8vJySYCEEOdFEiExo+zCsM/no6KigmAwOGu6S9kPcnsgbu7A+WIW8nILeO4JHIBJ8RW7a5x7/IAtdx8WMz7A6eboPu9y4ytW1zh4LXl0J0TumQyLEZ+be6C6m3uWxWLJN5GIZVko6un4VBXFToQKXna3JvIvC0zLxDQMzKw5EYuqoCiqkwgVc5yLe+KL3MkbZsN17ObxePB6vc6HEEKcD0mExIxxdz3y+XxO95/cWdBy3z/TMeVu17IsJxnKTYDyvb8QXm9mNjhztrhitwrZBeViJ2hT7Q/7GLuPbb7umYWO047VvQ9zC6HuAnIx4syX8NoJ0GwpIMPkSgNQUVUNTbW7nJmnZ44rJAUsdeI/08I0DUwzA3Yri6qhYBX1XuPmPgdh9h1j93XhnsJdCCHeLEmExIxz1ybm6xJX7AdZ7tSxs+nBD2eu+D7b4oMzjyvMrjhzxzTlJrrFlq9rUrFaqs5mqhhni0nXsmLHCYo9V3Uxps92tQpZlgfT9DnfVVR1IqpZsh/zdcWdDd1vbbmt9u61rYQQ4s2QREjMKPcDKt/Ci+LiUawZ9s6Fu1XD/loIkd+FcJ0Uu1uwEOLiIImQKIjZWHsshBBCCCHmLqlOEUIIIYQQQsw5kggJIYQQQggh5hxJhIQQQgghhBBzjiRCQgghhBBCiDlHEiEhhBBCCCHEnCOJkBBCCCGEEGLOkURICCGEEEIIMedIIiSEEEIIIYSYcyQREkIIIYQQQsw5kggJIYQQQggh5hxJhIQQQgghhBBzjiRCQgghhBBCiDlHEiEhhBBCCCHEnCOJkBBCCCGEEGLOkURICCGEEEIIMedIIiSEEEIIIYSYcyQREkIIIYQQQsw5kggJIYQQQggh5hxJhIQQQgghhBBzjiRCQgghhBBCiDlHEiEhhBBCCCHEnCOJkBBCCCGEEGLOkURICCGEEEIIMedIIiSEEEIIIYSYczzFDkAIIeYqy7Imfa0oylnfk+/75/t+IYQQYq6SREgIIYrkXBIVRVHOSJjO93cKIYQQQhIhIYQoCtM0nQRHURTnI5dlWc4HgKqqUyY77vee7XcKIYQQQhIhIYSYcXZiYiczqVSK3t5e+vv7URSFiooKotEowWDQ+Rn7/WNjYwwMDDAwMICu60SjUaLRKF6vd9I2TNNkdHSU3t5exsbGCAQCVFVVUV5ejsfjkYRICCGEyCGJkBBCFICdDKXTaY4fP84zzzzDK6+8gmEYLF++nKuuuoolS5bg8XicVp1MJkN7ezs7duzgyJEjBAIB1q1bx4YNG6ivr0fTNOd3x2Ix9u/fz9NPP82JEyeIRqNs3LiRdevWEY1GnfcKIYQQYoIkQkIIUUDxeJw9e/bwyCOP8OKLL5JOp1mxYgWlpaVUVVVRVlaGqk5M6BmLxXjmmWd44IEH6OzsJBQK0d3dTSQSoba2Fo9n4haeyWQ4deoUTz/9NA8++CDd3d2Ul5cTi8WoqKigpKSEYDDoJGNCCCGEkERICCFmlDv5sCyLVCpFR0cH+/bt4+jRo1iWRTab5dixY8TjcUpLS51ucYlEgoMHD7J7927Gx8dRVZVgMMhVV11FJpPB7/cDE93ihoeHaWtr48CBA8Tjcfr6+li0aBH9/f1ks9k3NOGCEEIIMRfIOkJCCDGD7KTGPYGBrusEAgG8Xi+aphEIBNB13fm+exIFr9eLrut4PB58Ph9+v98Z85M7iYLX68Xn86GqqvNeTdPO+L1CCCGEkBYhIYQoKJ/PR1NTE+vWrcM0TbLZLKtWrWLJkiWUlJRMSlqCwSArVqzgiiuu4NixY5SUlLBp0yYaGhrQdR2YSJY8Hg/RaJRVq1Zx6NAhTp48SVVVFWvXrmX+/PmT3iuEEEKICZIICSFEAQWDQVatWkU6nWbhwoUALFu2jFWrVhEKhSYlK6FQiE2bNuHz+WhvbycYDLJy5UqWLl3qtCABaJpGdXU1l156KZqm0d3dTTQaZd26dSxYsEASISGEECIPSYSEEKJALMvC4/FQXV3N5ZdfTmtrKwAlJSVEIhGnG5vN4/GwaNEiKisr2bhxIx6Ph9LSUsLhsDOhgi0YDLJ06VJqamqIx+P4/X5KS0sJhUJnvFcIIYQQkggJIcSMy22J8fl8VFVVUVVVBTBpTFDuzwQCAQKBADU1NVPO+mZ3pwuHw4TD4Zn6M4QQQoiLiiRCQghRZOfaZU26tgkhhBDTR/pLCCGEEEIIIeYcSYSEEEIIIYQQc44kQkIIIYQQQog5RxIhIYQQQgghxJwjiZAQQgghhBBizpFESAghhBBCCDHnSCIkhBBCCCGEmHMkERJCCCGEEELMOZIICSGEEEIIIeYcSYSEEEIIIYQQc44kQkIIIYQQQog5RxIhIYQQQggh5ijLsrAsa9LXc4UkQkIIIYQQQsxBczUBskkiJIQQQgghxBxjWRaKogCgKIrzuZ0QzYXEyFPsAIQQQgghhBCF5U58BgYGUFWV8vLyScnRxU4SIVEwc6FmQQghxMyaC4UzIQrBLpelUim+973voes6H/vYx/B4JtKDuXCtSSIkCibfBSXJkRBCCCFE8fh8Pq6//noURcHj8cyJBMgmiZAoqrl0sQkhhBBCzBaWZaGqKoqisHTp0knfUxRl0hiii5VMliCEEEIIIcQco6qqM3V2bsIzV3rsSIuQmHGWZZFKpRgaHSYxHsPIGmgeDSwLC/vCUwDr9P8zSDm9Jev0lpxNWmCBaYGqKJj2TcEOZxbcD+wblV2D457VpVA1Nvb2cz/PjTHf94otdzYc+7XZFKcdT+4xLWScUx3j3NrBs50HhZQvHtM0886ANBtMdd24r+lix5Pv9WLuS/e2LctC13XC4TDhcBifz1fweKab+9wtZgxTFYQv9haBuS73WTPXSCIkZpRlWRiGwcmTJ9m96xWOHe8lmTIIhYKgWJiGAYripEGFjEs5vd00FhhZrGwKn65SWlKCR/dgmuZETEUsRKnqRKNtOp0mmUxiGAY+n49gMOj8He7/C8G9LbtJ3TRNEokEmUwGTdPw+/14vV4sy8I0zYLFNhVVVUmn08TjcVRVJRAIOP2gZ0N8dhzJZJJUKoXf78fv9xc1yXAXguz40uk06XQaRVEIBoN4PJ6i7b/cgpt9jFOpFKZpouu6c50U+xjbcWazWec69vv96LqOpmkFjy9fAVdVVUzTJJPJEI/H0TSNYDCIpmnOzxSzm4wdXyqVIhAIsGDBAlpaWqiurnbukxdqN56pKkAKbTZVGAhRKJIIiRlnmibHjx/n2V17OdCdIquGiJZbZBWwjOzpVprTBb5CPAMssLDQUCYKT6kMyfEhzLEeltRGWL+mlVAoRDabxbRMChXWGWGervkEiMfj9Pb2Mjo6Sm1tLVVVVQBOobQYBWb7oe31ekkkEhw/fpzBwUFKSkpobGykpKSETCaDYRgFjcvmLlDouk53dzdHjx7F6/XS0NBANBpF13VSqVTRCh+WZaFpGpZlkUgk6O3tpb+/n/r6esrKypwCnr0PCx2nfYx1XSeRSDA0NMTJkyfxeDw0Nzc710mxC1CqqqKqKrFYjO7ublKpFNFolIqKCnRdJ5lMFrWAaV+j4+PjnDp1ing8Tl1dHfPmzcPn82GaJoZhFDXJUBRlouV+aIjOzk5CoRCLFi0iEAg4ibBpmkVrubKT7kQiQX9/P5lMhsrKSiorK53r5EI2GxK42RCDEIUmiZCYUYqiYBgGw8PDnOwfpc+sxhupIxiJYODByKROv8+ujZrZG/FrPd0sVEXFo3mIqXHGx8GIn2JNKMSqlauonlczUbNsmROFwSKkQqZpOoWkjo4Op6Z7wYIFrF+/HlVVSSQSRSsE2IWhYDDI8PAw4+PjpFIpqqqqWL58OQ0NDSQSCbLZ7KRuSsXg8/k4cOAAJ06cIBgM0tTU5BTyEokEUJxCgJ3sZrNZhoaGiMVixGIx5xh7PB4syyKTyRRlH9qJkM/nY3h4mLa2NkZHR/H5fKxYsYK6ujpSqVRREyG79UdVVdra2kgkEiQSCRoaGli3bh1+v5/x8fGi7j870ejr62NoaAjLsmhoaKClpYVwOIxhGGSz2aJcy3YybieSbW1tDAwMUFlZycqVK6murnZa9u1EqNDxAXi9XrLZLKdOnaK9vZ1YLMbY2NiU3XMvFKZpOq1BdkIvhCgcSYTEjJnoVmZiWdLFElgAACAASURBVCaGYaIoOuFwKd7KWkrKIlhANp12dY2zsArw/FIsBU4/dDSPB8MTI5McRx0PUVpaRnVNFdXVVWSzhtM9rtCPVfvhrus6hmEwOjpKaWkp6XSayspKqqqq0DTNKSAXUm43Dq/Xi67rlJeXMzo6Snl5OVVVVVRVVZHJZGZFIqTrOr29vYTDYSKRCFVVVVRXVxMMBkmn00UtPHk8HrLZLJqmUVpaSiQSIRqNUltb69SCF3ofuo+xqqrouo6u6/T391NSUkIwGKSmpoaamhoymUxREyG7IA/Q399PaWkpfr+faDRKVVUVgUCAVMqucClei4u9/dLSUjKZDFVVVdTU1FBSUuIc42IVgu0C+MjICH19fYTDYcrKypg3bx41NTUATiJUjGQSJq5huwvhwMAAiUQCwzDyjmOarm3OFPf9xu4umUwmCQQChMPhM8bmzXQs+eLKvSdeaAmmEOdKEiExcyyLiX5orw1wDQX9eEMBAoEAlpklq6lM3FudVGhGQ5qYF0HBYuLhr2kq6YyXlM+H1++b6Lfv1fF4PKiqhmGaqEUYSGgXQjVNc7om6bqO1+vF5/Ph8XicMS52bXOh4nI/pC3LcmLxeDxOfF6v14k9d02CQsSaW5DRNG1SfPYYJnvROHdchdyXdmz2MfZ6vZP2oV34s/dhofZdbldLTdOcc9Defz6fD13X88ZUyGPsnmjA3n/ApGPsniK2EHLPP3t8i3v/2R92q28hj7E7Rve+sY+xOz57f9otF7ZCxWknPx6Pxxkj6fV6Z6yLXiGS+tz74dDQEHv37iUcDrNixQqnu99MTojj/p2maXLq1Cl27dpFKpVyjvnY2Bjj4+PMnz+fDRs2UF1dLcmQuOhIIiRmmIJ5ukXIMLJkM2nUTIZMJo1lZMka2ckPhQJWLFuqimWoZNJpstmJuLKZjPPAz5z+3ImtgA8A98M4m82SSqVIp9MYhuHUzBqGQTqdnlTbXIi48s3SlclkSKfTTguQPabF/rqQhdB87FrXVCrljFuyk81sNnvGLGOF4E6E7Mkw7ONs7zfAOdZQnGNsF8jccWUyGef6KNYYodxEzZ6d0j7GdkuVPQFAsY4vTCRChmE4Nf/2cU6n0871UoyWU3eFC3DGOWh/KIpyxnEu1Lnovs8YhuHEZO+36T73cltBXu89b0buuTs4OMjTTz/tVIq0trZSWlo6o2M/3RU/bW1t/PEf/zHbt293xp3acVqWxbx58/ja177Gb/3WbznjVoW4WEgiJGaOoqDYLUL2/6bpfGBNzFdt4aqZmvnZs53p6eybvGWZr7Ve8drn9uBgezKHQsp9+Nmx2ImZ+0Flv1aIbjW53Sjsr+3CujvBcMftjrkYCZG7q5cdU26MxRr7YH+e+5H7erHisveNfYzdYxqgODOy5RsX4j6+7v/tGO3W02LEmBuf+7pwv24nncVoucoXn/tYF/o8dMeU+3UhYrL/fjsBPJ/7V74Y7d+TTqcZGxsjFosxMjLC7t270TSN5uZmotHojLd8pVIpvvOd7/DEE09gmiYtLS2sX7+enp4e2tvbMQyD1atX09TU5CTMQlxMJBESM+i10TUKoCgqyumWAUVRQFVQ1CIMYMY6a8uTZSnARFyK3dpSmNBy4pgcpL3fch/IhSzc5R4rd0x2QdM94Df3+8Wius47d3dCd+G4WGOtpmIXvooRV+7X9jHNVxicyVrr14sxdxzFVMe4WPvRfQxzrxH31/aMccU8B/PFmS+mQsaY7zjnTigw3eeeYRgkEgmGh4cZGxubFIf9+XRs0/4bRkdH6enpIRqNEolEMAyDtrY2DMNg5cqVlJWVOS2e07nv7b9jaGiIRx99lGw2yzve8Q7+4z/+g+rqarLZLCMjI2QyGUKhEJFIRLrFiYuSJEJihtkrBJ1ePFVRsNxdD4oW12Sn50847bVECNOcmNKuwNyFKPvrqd43mxSj1viNyBdbsePNPcZTjbkpdpy5in3uTbVPzqVrU6Hk20f5Wvzc3yv2fp1KsZNfW74KIvv1N9ta4/4diUSCzs5O9u7dS09PD8FgEK/X67SOTcfxsbsjKorizLhZVlbGkiVLiEaj7N27l927d5PNZlm1ahVVVVVnnNfTFcfw8DADAwOUlZXxV3/1V9TU1GCPF4tGo8DsvP8IMV0kERJCCCHEnOSudLIToe7ubk6ePEkymSQajRIMBifNmjddLUJ2q5A9g2BLSwuRSATTNNm7dy8HDx50xgyVl5dPy1hL99+qqiqjo6POularVq3Km2TN5gRdiPMliZAQQggh5ix3QT+VSpFMJgmHwzQ0NLB27VrKysqcyTemIxFyJ1+GYaCqKn6/n1AohKZptLa24vF4eOmll2hra8Pj8bB8+XLKy8unZZyO++/t6+tzJhhJpVITi4yn04yOjqLrOiUlJWf0UBDiYjLnEiH3jWwmLu5CD3Q9324BQgghxFxnJzf2pC9+v5/y8nKi0SglJSUzOnub3TpjbyMYDNLc3IyiKLzyyivs2rUL0zRZtWoV5eXl09YtDqCzs5NUKkVHRwef/vSnaWxs5MiRIxw9epRNmzZx2223sXjx4je0TSmPiAvJRZUI5autcSc7uc3a+fpmu2cZisfjBAIBpwYmN+l4vRvjTM1ElXuTyTeDkk1uRkIIIcTU8j1PNU3D5/M5z/+ZnJQm3/ifkpISlixZwuHDhzlw4AAVFRU0NjYSiUTOewpre3uZTIaOjg5ntsC9e/eya9cujh07hmEYaJrGyMjIpLjccicryfc99zaLMTunEK/nokqE8sntD3u2pMGd/AwNDfGtb32Ld73rXWzYsGHSz9oXvWEYjI+Po2kawWDwjEQpt+UpV+6MOOcidxaf3L7NXV1dlJaWnjHt5tkG3r/egGMhhBDiYpVbCeqe8j93CvbpMlUS4U5SBgcHGR8fx+v1EggE8Pl80xpDd3c3zz77LACXXXYZ//RP/4RhGDz11FP09/dz6aWX0tLSMinm3Ekzcv+ms032IuUKMRtdVIlQ7k3LrnnITUbGx8eJxWKUlZU5N5ZUKsWhQ4d44IEH+PCHP4xpmuzcuROPx8Pq1avx+XzOduzfc+jQIR588EGam5u57rrrKC0tdWYByk1YpqtfsZtdY2N/b+/evXz5y19mw4YN3HrrrdTW1r7urGNCCCGEmKAoEwtEj46O0t/fz9DQkLMor/39mdimz+fD7/c72z969Cgvv/wyQ0NDLFq0iPr6ekKh0LRuf8+ePbz66qsEg0E++tGPsnr1agDWrl1LNptF1/Uzplh/vb8jX+XvdI2tEmImXFSJkGmaJBIJnn32WeLxOJdeeqkz/SNMJA6HDx9m27Zt9Pf3s3TpUq699lrKysrYunUrDz30EI8//jhDQ0Ncd911ZLNZXnzxRQ4cOMDixYsJh8POfP4Avb29zkrM11xzDYFAgN7eXnp7e2lqapo0775lWc7CbPbNxZavWd5+zb3Yo/t3DQ8Ps3v3bubPn8/ixYvRNI1kMkkmkyEWixGLxTBN00mU7AQt30DLfGs1CCGEEHOBu4CuaRqqqjI2NkZnZyfBYJBIJEI6nZ7Wgry7Z4mqqpSWllJfX4/f7+fUqVPs3r2bffv2UVlZyfLly6mvrycQCJxRHniz2wXYvXs3g4ODXHbZZVxzzTWT3mN3v7PLDu4ubaZpMj4+TjabJRgMTqooVhSFeDxOb28vQ0NDVFZWUltbe97d+YSYKRdFImTfnI4dO8bdd9/Nvffei9fr5Rvf+AY33ngjmqZhmiYHDhzgS1/6Eo899hiRSATLsvid3/kdPvvZz7J9+3aeeOIJenp6OHz4MNlsFoAXX3yRP/mTP2H+/Pl85CMf4ZprrnGSoSVLlvAHf/AHzpSXu3bt4v7772fv3r3cfPPNfPjDHwYgm81y8OBBtm3bRjqdZvPmzaxZswav1+vEb5omIyMj9Pb2Eo1GKSsrI51Oc+DAAU6dOkVDQwPLly9H13Usy+LZZ5/l85//PIsXL+Zzn/scTU1NVFRU8PGPf5zGxkbq6+udpCedTtPR0UEikaC+vn7SYEvLsjAMg5GRETo6OkgmkyxcuJD58+dP2WQvhBBCXIx8Ph+lpaVomkZvby/JZBKfz4dhGNOWCLnXEbIXbV2wYAHZbJZwOMyLL77IwYMHKS8vp7m5mdraWoLB4JSVmW9ku+5n/7FjxwC48cYbaWhoAPK36rhfy2azPP/883zzm99kfHycW2+9lRtuuMFJlI4fP87dd9/Nyy+/TFdXF+FwmE996lO8733vk2RIzEoXdCLkvqiTySTf/OY3uffeexkfH0dVVSeh0TSNoaEhHnroIX75y1+ybt063vve9/Ld736X7373u6xYsYItW7agKAoPPPAAN910E+vWrcOyLEZHR/F6vRw+fJi///u/Z+3atUSjUSzLwu/3U1FRQVVVFYZh8PLLL/PDH/6Q48ePo6oq73nPeygtLWXnzp38xV/8hRNPU1MTn//857nhhhvQNI1Dhw6xdetWdu7cSUdHBx//+Me57LLLePjhh/mv//ovent7WbFiBZ/73Oe48sorUVXVWXCtvb2dtWvXsn79ekZGRhgaGqK5uRm/3w/AyZMnuf/++9m5cyfj4+OsWLGC3/md33Gm5+zq6mLnzp089thj7Nixg0QiwcqVK/mHf/gH1qxZI317hRBCXPTswfx+v5/q6moaGhrweDxkMhmnNWg6u3jZY3jT6bTz7B4eHqaiooJjx47h8/lYuXIlzc3NlJSUTOqNMh3P4+HhYV544QUARkZGMAzDmc47kUiQTqeJRCJ4vd5JyVNvby/f/va3efDBB9F1nU2bNnHjjTcCE8MO7rjjDu655x6uuuoqampq+L//+z++9rWv0djYyOWXX37ecQsx3S6aRCiTydDa2soHP/hBHnvsMU6ePOncaCzL4qWXXuJnP/sZ5eXlfPGLX+Tqq6+mvr6eP//zP+eee+7hM5/5DJdffjnbtm2jvr4er9eLYRgsX76cr3zlK2zdupW7776brq4uZyKCX/7yl/zN3/wNH/3oR3n3u98N4LTyDA8Pk0qliMfj3HHHHezfv5+3ve1tZLNZ/u///o+vf/3rLFmyhOXLl/Od73yHO++8k0wmw6JFi5z33HnnnWiahtfrZceOHXz5y1/mq1/9KpdddhkVFRWTWnNOnTrFL37xC5566iluuOEGvvGNbwBw++23c8899zhN29u3b+e5557jjjvuYOPGjTz00EP83d/9HR6Ph3A4TCqVYtu2bXzpS1/iO9/5DuXl5WfsayGEEOJi5PF4qKqqQtd16uvrSafTzuQJMD3PQsuy8Hg8KIpCLBbjyJEj/OpXv6K7u5v58+dTX1/PkiVLWLRoEZFIBJ/Ph8fjwePxOAnR+cYwMDDAwMAApmnyve99j/nz51NSUsKePXvYtWsXlmXxyU9+0qmwtSdkGhsbc8YqBYNBrrrqKic5/K//+i/uu+8+Nm3axL/9279RUlLCbbfdxn/+53/ywAMP0Nra6vTGAellImaHCzoRcl9EgUCAD3/4w3zgAx+go6ODnp4e53uZTIZdu3bR3t7OO9/5Tt7ylregqipXXXUVGzdu5KmnnmJ0dJTFixeTyWQ4fvw4jY2NVFZWEgqFaGxspKqqinQ6TX9/PzBxI+vq6uLw4cO0tbXh9/tZu3YtGzdupKuri4ULFxKJRDh48CAvvPACmqaxYsUKIpEIbW1ttLW18fDDD9PQ0MDQ0BDpdJpFixbxD//wD2zevJn+/n7+9E//lObmZjo7O/nmN7/JSy+9xI9//GM2btzIsmXLCIfDlJeXs2XLFlpaWmhra+PnP/85hw4dYmhoiBdffJH777+fUCjEn/7pn1JbW8tdd93Fr371K77yla/w7//+7+zatYu+vj4+9KEP8YlPfILt27fzjW98g6eeeoqOjg4nERJCCCEudh6Ph1AohM/no7KyknQ6jWEYwPTNfmaappMIjY+PMzo6immapNNpKioqWLJkCUuXLiUSiRAIBPB4POi67nQ/m44EwufzOeOYT548yZ133kkymeT48eOYpollWVxxxRVcf/31zpikYDDI0qVLufnmm/nJT35CdXU1y5Ytw7IshoaG/n975x7eVJX1/29OLk3SpveWlgKlSKFQlCK03KqlwADDyCgg4uOLwvOiePnNqKgwPN6YcUaZccB3BJnxwowI8oxVQVAQEBQQ8cqUYqdQ2lJaKLSlaZuEps19//4o53CSJmnSSxLo+jxPnjbnsvfKOuvss9fZa6+NjRs3wm6345lnnsGAAQMgkUgwdepU7Ny5E1VVVTCbzd2WmyB6mhvCEZJIJJDJ2n8K34DxSQb4+TcNDQ1wOBzIyspCWFgYOI6DWq3GoEGDYLFYYLPZoFQqYbFYsG/fPgwfPhw33XSTEI8bGRmJmJgYKJVKpzSaHMcJDkl4eDhGjx6NvXv3Ijk5GVKpFNu3b0dDQwPsdjs2bdoEqVQKo9EIuVyOCxcuoK2tTVir6IknnsDcuXPBcRwSEhLQv39/nD59GsXFxRg4cCCqqqpQXl4Oh8OBfv36Qa1WIy4uDqNHj0ZCQgKmT5+OLVu2QC6Xo66uDrt27UJLSwvuv/9+PPnkk5DL5Rg/fjzuvfdeHD16FMePH0dUVBQUCgXGjRuH7OxsZGRk4NChQ/jyyy9RU1ODrKwsWrSVIAiCuGER9yWkUqkwl4XjOKFv0ZOIkw84HA5ER0dj8ODBCAsLQ05ODgYMGICoqCjI5fIOTlB3ED+/+/Xrh1deeQX79u2DXC4XphA0NTXh8uXLUKvVyM7OFuYy8bJKJBIMGTIEcXFx6NevH+Li4iCRSHD58mWUl5cjKysLEyZMECJWDAYDoqOjhUgbggg1rmtHyBXX2F3+LQa/PhDQHrrGD/PyDZ7dbodarUZmZiYeeeQR2Gw2DBw4EI8++igkEgmioqIwadIkrFu3DqNGjRIaBZvNJjhhHMfBYrEIw+jikD3GGMLDwzF9+nQMHToUtbW16N+/P+68804hGw3HcYiJiRFkPnLkCF599VWcPHkSbW1tiImJgUwmg9lsht1uF5w38W8VrxnU0tKC8vJyMMaQlpYmZKrr378/Bg8ejNLSUly+fBlJSUngOA61tbWw2+2QyWRCZhqj0UiOD0EQBNEn4B0h/m9PJkdwVxf/sjYlJQWTJk1CWFgYkpOTodFohHA4sSPSkygUCsyePRszZ84U5LNarbDb7UIG2vj4+A5JEyQSCS5evIjLly9j6NChwnzkhoYGWK1WpKamCvOKWlpacOzYMZhMJmRkZECtVvf47yCI7nJDOULi9XskEglUKpXwFkWj0cBut0Or1cJqtUIul6OtrU2IkeWHfZcuXYrW1lZER0c7rSjdv39/JCUlCW+K+LWHeIeBd1AaGxthsVhgtVohk8kwbdo0bNq0CQ6HA/n5+fjVr36F+vp6pKamIjY2FmazGS0tLWCMwWQyAWhPp7lz50589dVXGDlyJGbMmAGdToetW7cK9VitVpjNZtTV1aGiogKJiYloaWkRhvDlcjkiIiIgk8lQWVmJS5cuITIyEocPH0ZlZSVUKhUSEhJgMBgAQBi1MplMaGtrAwCnuGiCIAiCuJERR3r0xAhMZ9jtdiiVSiQlJSE2NhZSqVQYARLPCeoN+P4Sn4kWgPDCVKPRuM0ax5/X0NAAxhiGDRsmlHP27FkwxjBmzBhh5KexsRFHjx6FQqHAxIkTe2V0jSC6S+/f6QHG4XAIzgDvqCgUCmRkZECj0eDAgQM4f/48GGM4e/YsqqqqoFAohNSU4eHhiI+PF4ai+cZQPFwOXFsXiM+Zb7fbodFooFAo4HA4YLPZYLVaMW7cOIwfPx5GoxGvv/46li1bhg0bNqC8vFwYPYqKikJYWBgUCoVQrkqlgkajwahRozBw4EA0NzcLDpDVakVcXByGDBkCi8WCY8eOoa2tDQqFQlhXKDk5GXPmzIFCoUBBQQGWLl2KxYsXY/ny5SgvL8fUqVORnZ0Nh8OBsLAwJCYmCqNafPYYGg0iCIIg+hriF6o99XFXPsdxkEqlUCqVCA8Ph1KphFwuh0KhgEKhcIr06K3f6BryLnZ43Mlus9mg0+mQmJiIMWPGCMdqtVowxhAXFyc4byUlJbh8+TLS09MxbNiwXvkdBNFdrmv33PUGrq6uxsGDB1FaWoq2tjZ8+umnQmrs3Nxc3HrrrThw4ADWrFmDxYsXY+vWrSgqKkJWVhYyMzN9mojIL2bGGMPYsWORm5uLzMxMyOVyqFQq5Obm4siRIzAajThz5gxGjRqFlStXgjGGsrIyFBUVISkpCWVlZUhPT0dkZCRyc3Oh1WoxdOhQ4Q3NtGnTUFlZiUOHDmHv3r0wm82Ijo5Gbm4u1Go1oqKi8Nvf/hb//ve/hRGf5ORkzJ8/H2lpaYiLi8OiRYvQ1NSEzZs34/jx40LK71/96ld49tlnkZiYiLS0NNxxxx2YMWOGEBY3YcIEWCwWDB8+XNAHzQ8iCIIgiK7h7vnJz0HiHSJ+W2+Fw3mSy5OzJU4XzidE2LlzJ9avX4/y8nL8+OOPmDt3LqRSKVJSUsBxHPbu3YtZs2ahtrYWmzZtAgDMmDEDGo3GqU6CCBWua0fIdVHQPXv24KWXXoJerwcA/PTTT9ixYwdGjx6NQYMGIS8vD99++y0+/vhjnDhxAnV1dcjIyMAf//hHDB482Oc6+Ubh9ttvR0xMDOLj46FUKiGVSjFx4kT89re/xaVLl6DT6QAAkydPxtq1a3HgwAGcPn0aGo0GcXFxwtD35MmT0a9fPyfHIzc3FxEREYiNjUV9fT2Sk5MxZswY3HbbbVCpVACAuXPnQiKRoKmpCTabDYMGDcK8efOgVCqhVquhUCiwfPly3Hzzzfj2229hs9mQlZWFmTNnIikpCYwxZGVlISkpCZmZmQDak03cfffdmDJlCtLT050mkRIEQRAE0XPwI0PiZ22oPG/FMul0OuzevRsbN25ESUkJGGM4fvw46urqkJKSgvHjx2PYsGH4/vvv8dJLL6G4uBgNDQ1YtmwZ7rnnnl4d3SKI7nBdO0LioVuO45CdnY3FixdDp9MJyRAmT54sJDRYsmQJ1Go1/vnPf6KlpQULFy7E4sWLMWbMGL/jgfkkCjk5OUJcLwDEx8fjrrvuQktLi9McpeHDhyMhIQF6vR5yuRxRUVFCHG7//v2RkJDglFGFz+SWlpYGk8mEqKgoYdicJyYmBnPnzoXRaBTWPYiJiREy0nAch8jISNxxxx2YOHEi7HY74uLiBEeK4zgMHjzYKZuLVCpFRkaGkEWP8v0TBEEQRO8gDlHjvwdDBm8wxqDT6dDY2IjMzEwMHjwYFosFw4YNg16vR0pKCgYPHoy//e1v2LFjBy5cuIDk5GQ8/PDDuOOOO4R1DwkiFLmuHSExHMchMzMTAwYMQHh4uLAiNJ8RTiKRICYmBkuXLsXUqVPR0NCAESNGIDo6WijD3/AvjuMQFhbWoRHTaDSIiIhwKlMikSAuLg4JCQlO9fEOGz8sLh6KlkqlSExM7NCAiGWMjo4WnB9+n+tQNz93yLUcxhjkcnmHuU/8RE1xfRQaRxAEQRC9Qyg/X/n+y/Tp0zFr1ixER0eDMQaz2YyoqCjhGH5Nw9LSUiQmJiIjI0NYziSUfx/Rt7muHSHXGys8PBzh4eHCd3edd5lMhvT0dNx0001Oo0C+dvTF4XiukwrFZYmPF+933edpm6sz45q9xVN97r4DcNsQudYv/u7p2K7CwAAwSMAAxsAgwdXaXI7s/cbSqQb+dzGRLBLmvJ8FRCwnxA4x/93dMfwn2A8Zcf2uthts2QD3+vO2PRC4th+u19y1rQkFPYZSqCyvE75tE7fJrscFC0/XzZMegzUa4Omedf3raqOBxF0GMzGhYJM3MpGRkbjlllsAuO/z8N8HDhyIgQMHOp3Lh8X11DWi0SWiJ7muHSFPuDoQ7pyG7j6A3DkxnR3rbX9n5bh2NH2tw53j5Is+egPGGByizjtzuO+49DqOax1Qxi+6y64tvsvL5HA44LA72p0gh3fns9dEvSqPq2zi/cC1B00g5HK1fbvdDrvdLixizH/4Y/iOqj/3TE/jus5Wh+sselEQSDn5+1O8+LPr9RbrMJByievir6/dbhfmZIplDkaqfV5G8eLZ7u4V/rv4nN6Wia/Xk5yu8oq3BcLR8FSH6zUVX1vx/4FyhlwdXE/tIBFYutJ/6s695+l6k/NL9AQ3nCPk+gbd3ZtW8bHdvZH8dUp6opyePKZX30iya0MpEkjASThIOA6c9OraCFz7SFGgGzPGtdsBP49KKpVByknBcVJIpXJIr44UymQySCQOiEetAv02lHcg+PBJ10m1fMahYMJnORKveyFOO88YE+QOVgdGnArfNSuTO70GQk6+Dl4eXg4+kxQvY6CzSLkilsH1w9tgMNcc43XGGBPuB7H+eBkDpT939sPbFy8f/+Fl4vUbrHuZE7V5vBzi6+x6XKAR61Nse0Rg8Ram788x/tTn7fxAvfwjbmxuOEfI2whIKIbs3NCI346CQcJxkEnb5yTJ5ArAYQMQ+Aw5rh1QudwMmUwhzJfiH7JyuRxSWXsQX7BMhe/I8etMiTt4UqkUKpUqqHbM32vitS/Ec8x4nQb7XuN1yOuRXydMIpEIq6AHQ0beSQTgpD/xgoqA+9DWQONOPo7jnJK8BBO73e5ke2JHMiwsLKgvDPgQPqVSKdgg/z+/oGUovNQQ3x/iDy9fsEI0+fuE4zjhGgf7fuiL9PbIjxhv4cziZ3iw7xni+ueGc4QA/0deiN6FQQLmYGhtM8JguwK5shkccwB2Bxx2EwLuZbBrIwMcx0F35Qr0eh3khhbo9Xro9QaEKVWw2WxwOFj7oFYQOgB858NisVyVq/2j0+lw5coVKBQKmM3mgHbixR0h/n+ZTAadTgedTge9Xg+NRgO9Xo/IubbfNwAAHnhJREFUyEhYrdYOoXHBgOM4QT6O4wRdqlQqWK1W4bhgXGOpVAqLxSLId+XKFUE+vvPJLxIdqBBW8TXmHUbe9nQ6HWw2G/R6PSIiIpz0F0jEI/0cx8HhcECn08FgMMBqtUKv18NgMEClUsFsNge8wyTuyHEcB7vdjqamJkGHzc3NaG5uhtVqBWPXFugOpA2KO5QABLszGAxQq9XQ6XSCIxSsuWp8vXK5HDabDY2NjdDr9TCbzTQacAPjKYpHKpUiLCxMaDcDFfZK3LjckI4QESIIkXFXwyyYBRb9ZZjtdihNUXA4ZGB2S+Dl4h2bq45Qm9EIa3MNbC06NFwOQ3lZGZqam2GxWGB3ONr9NKf8CYFzOmQyGWw2G86fP4/a2lro9XpcuHABZWVlkEqlMJvNAZXLXcdDoVCgubkZFy9eRH19PSSS9gyNra2tMJlMsNvtTqFxwXDapFIpzp07B61WC7PZjLNnz8JkMkGpVKKtra13Q0Q7gX+gNzY24tKlS9BqtTh37hw0Go0QWhjIh707Z1cqlUKv16O6uhqXL19GS0sLysrKcOXKFafOCE+gO/N8+FZlZSVqa2ths9mgUqkQEREBpVIJk8kUMLncRR3wjlBjY6NwH1dVVUEmk0GtVsPhcAiOUCARh5BzHAeDwYDq6mpotVo4HA6UlZWhoaGhgzMeDGdNoVDAZrOhrq4OdXV1sNlswshQsEaqiN7FXWQPP1ex/UWlc7tDdkB0BXKEiF5D3AmIjY1FWv942GqvwGQ2IsqgBJNIRQ2Zi7fhvWQ/ju1Ie4I4BkjaM9fJrRZESK8A4RIYWwwoLCyEKjy8fWI4AC5IDav4Tbder0dzczPMZjOqq6thMpkgkUicOk/BClmRSqUwmUyor6+H0WhEbW0t7HY7KisrYbPZQubh1NjYKDhmp06dQk1NjeBoBlM+iUQCu92O1tZWaLVamEwmVFdXo7W1VejgBys0ju+ESqVStLa2QqfToaWlBSaTCT///DPOnj0btPlBriNCjDE0NTWhqakJDocD586dQ0tLC+RyuTBqFeww0tbWVuE+rqioQFNTExQKRYeEGIGWC2hvp9va2qDX62E0GuFwOHDixAkh/NbVwQvUaAxfDz8XraWlBQCQnJyMyMjIkGhbiO7j7jkhtjH+/5aWFtTW1qK5uVlYviSY80+J6x8JI+shegnetNra2lBdXY3SU6dRdfESWluMkEulcHAMEgS2E8UY2kPjrvpSDIDDYYfjahYsCRjkMhk4fqI1J4EEwW1k+TdgfMYuPjGB2NFs/22Bl5F/ALm+oePntwRzgj8P38m02Wyw2+1OySf4N+H8ccGS0/Utp3jSejBWZBePCPHfef3xjiM/tyrYc2/E2f/c3SfipATBvEf4+4TPuCdOMiL+HcHs1PH2x98nYjsMpu7EnV2JRILo6GikpqYiPT0dSUlJwpw/4vqDvzfMZjOuXLkCk8nU4X4xm82wWCywWq24dOkSTp48Cb1ej7S0NOTn5yMzM1OwEXKMCX+hESGiV+EfXHFxcRg1KhMpg5JhaTWBOSSwS5jTkj0BkgiulfKdZAYOdgfAAYDk2mTrYDWs4rS64u/AtflNrh2EYOAufbG7zFjBQpwO2FVP4k5esMKS+P/5Bz8vSyhcY75O1zTKgHNGQ1eCIaf4GvPwzkagZHLnLIgdIbGM4usb7E68WD7xXCBetlDpYPL2Fh4ejujoaGg0GgC0rsz1iPiaWa1WaLVanDlzRght5Z/LVqsVJpMJFosFZrMZRqMRJpMJKSkpGD58OOLi4oL4K4gbAXKEiF6D7wBIpVKo1WrIZVJERke2z725Gm8eCjgczmtkAAipTry7DkqoyMfLyHfg+e98hyXYHTweT53kUNKhq7MmzogUbBnFNih2hELpGvM2GMr3CT/aAiBk5RO/cBE7aaFwnXmbUygUQoY78ahpKOiR8B+HwwGj0QitVotLly45PYt5J1wulyMsLAyxsbHQaDQYOHAghgwZgsjISKGfQQ4x0RXIESJ6Ff7B1Z5CGeCkMsjliqsNVrDCpq6GyIHvuMOpkxxqb0FdO6Gh1gF1J594RCgUHk6ujlAoXWNx593VyeD/DzbuZAz2iKkrYmcSgNNoS7DnEIhHhcTz5tyN+gULd46QeL2eULnO19Z/67i2GnF9wnEclEol4uLiYLFYhHtDJpMJqeZVKhVUKhXCw8OFD59+PthREcT1Dc0RInod17CfQK9O7k0ud/+HQqyxJ9nEjkaoNPriTrI4dC/YOhTjKp9YtmDLKJZLfG+IHd1QkJH/Kw5/BNxndgoWrs6uu7+BxLV9E19rACEz4gc4yya+j3lCRUbxCFWotTOE7/COC/9ywGg0wmAwoK2tTdgvXhxZvGi3ePFu18WTCcJfyBEieh1xg3f1MXt1jyRIY0LinHPMbTKEYE6u9oS3zE3Bdio9ESpyedNdsPDFxkLpLadrAopQx53eAi23O52J59+Emk1eD3hyvEPpXiF8x938PtdQcB7xyKo4mQc5QUR3IEeIIESE6sM0VOW63gl1vYaSfKEkizfEL15CUd5QlYsggoVrxkfXFwTi/11DXskJIroLOUIEQRAEQRAEQfQ5QmO2NUEQBEEQBEEQRAAhR4ggCIIgCIIgiD4HOUIEQRAEQRAEQfQ5yBEiCIIgCIIgCKLPQY4QQRAEQRAEQRB9DnKECIIgCIIgCILoc5AjRBAEQRAEQRBEn4McIYIgCIIgCIIg+hzkCBEEQRAEQRAE0ecgR4ggCIIgCIIgiD4HOUIEQRAEQRAEQfQ5yBEiCIIgCIIgCKLPQY4QQRAEQRAEQRB9DnKECIIgCIIgCILoc5AjRBAEQRAEQRBEn4McIYIgCIIgCIIg+hzkCBEEQRAEQRAE0ecgR4ggCIIgCIIgiD4HOUIEQRAEQRAEQfQ5yBEiCIIgCIIgCKLPQY4QQRAEQRAEQRB9DnKECMIPLl68iJMnT7r9VFVVAQBef/11ZGZmYvfu3T1at06nw9GjR/Hll1+ipqbG7/MNBoOTvMXFxaioqIDZbHZ7/GeffYannnqqu2LfkJBuAkco6fqjjz7C//zP/+Cmm27Cc8895/XY8vJyt/eW3W7HDz/8gIMHD6K+vr5X6q6pqcGTTz6JO++80+1+i8WCp59+GuPGjUNTU5PPMtTV1eHw4cP4/vvv0dDQ4PN5vUVxcTFOnjyJ0tJSp+0Oh0No5zqT05OuvNldV/XnSqBs+64PvsfN//gSLx89I2xjAE7W67G7rA7HLjSizWZ3e67ebMXX1VocrLyMuhaTsP1fJ6qR885hZP79YG+LTxC9CjlCBOEHDQ0NyM3NRVZWFvLy8rBkyRIsXLgQY8aMwfLlywEAn376KU6dOoWjR4/2SJ2tra1YunQpYmNjsWLFCtx5550YOHAg/vznP/td1mOPPYbs7Gxs2LAB69atw8MPP4yEhAQ8+uijaGtrczq2sbERFy9e7JHfcD3jcDhw+vRpp22km85xp7eunBMquj527BgefvhhvP3229i0aRMmTpzo9riysjIsW7YMI0aMgFarddpXXl6OESNGYM2aNdi+fTtGjx6NN954o8fq5klJSUFNTQ3Kysrc7lcoFEhPT8d//vMfMMY6rf/QoUMYOXIkFi9ejF27duGVV15BYmIizpw50+m5vcmbb76JrKwsFBQUOG2XSCRYvXo18vLyYDAYvJbhSVfe7M5f/QHBtW2j1Y47hiXhuduGAwDsjCH77UNY+NGPOK29gj9/U4bU/9uPwlqdcI7NwfD0F8X4xZZj+OpcAzYXnceA1/bhQOVlAMD/jknF/8sZAoPZ1uvyE0SvwgiC8IusrCwGgN11113Ctu3bt7O5c+cyxhirr69n+/btY62trT1S39KlSxkA9uSTTzLGGCspKWGxsbFs9erVfpe1atUqFh0d7bTt1KlTLCkpic2bN68nxL3h2L9/P5s+fXqwxbju6IreQlnXa9asYcOGDfN6zLZt29jjjz/O5s6dywCwmpoap/2TJ09m8+fPF75v3bqVyWQyVlVV1e26XXnuuedYRkaGx/2fffYZA8C0Wq3Xcvbv388UCgU7ePCg0/a33nqLXbhwwS+Zepr6+nomk8nY73//+w77fv3rX7Onn37ap3I605U7fNUfTzBte/qWb9iqg/912vbXY2XsXLORMcaYgzGWvPZztuDDH4T9a46eYWPf+oqZbHZh27afzzNtq1n4vrmomg14bW/vCk8QvYwsqF4YQVyHyGQdb5t58+Zh+vTpqK+vx9GjR/Hdd9+htLQUTzzxBP773/9i/fr1KCsrQ1paGkaPHo3a2lqUlpbizTffRHJysse6Ll26hK1btwIAFi5cCAAYOXIktFotJBJJj8g+YsQI/OEPf8DDDz+MkpISZGZmwmKx4Ouvv0ZxcbEw0uVwOLBlyxYcP34cEREReOihh3DTTTcBAMxmMzZt2oSSkhKMHj0aiYmJOHfuHG6++Wbk5eXhyJEjKCsrwy9+8Qv885//xKRJk3DnnXd6LNNisQjnzJgxA9u2bYNer8eCBQswZswYvPvuu/j5558xbtw43H333YiOju7SOTye5CguLsayZcsgkUjwwgsvAACWL1+OwsJCJ93wnD59Gjt37kR1dTWGDBmCpUuXIi4uzukYsZyu+gCAo0eP4vPPP0draytmz56NmTNnwmw248iRIzh79izy8vKwbds2mEwmLFy4EDk5OZ2W665MnsbGRrzzzjuoqKiARqMRRjM8yeJaF69rrVaLBQsWIC8vz63efve730GtVnu0IX91feTIEezfvx9GoxGTJ0/GPffc45Ns3vBU5pkzZ7Bnzx40NjbihRdewIwZM3Dbbbd1OP++++7Dfffdh4KCAnzyySdO+2pqanDs2DGn0Ys5c+bAZrNhz549eOyxx9zK5K1uT/ICcNs+fP/999i9ezfMZrNP7YfD4cDjjz+OJUuWYNq0aU77li1bBovFggMHDni0ZW/yebI7b/boSmJiImbOnImPPvoIq1evFrY3Nzdj3759+Mtf/uL0WzzZnqsu3LV/nenPW/n+2HZv2LU7npmULvwvATA4Wg2bo310y84Y1v9wFs/fPhxh0muBQ/fdPNDveggi1KHQOILoJmazGW+88QYiIyNx+vRpLF68GK+99hpKS0tRUlKC8ePHY9euXVizZg3a2tqwfPly/Pzzz5gwYQLCwsK8ll1YWAiLxQIA6NevHw4ePIitW7eisrKyR38D38H9+uuvAbR3JFauXIm3335bOOazzz6DTqfDrbfeij179mDq1KlCWMi8efOwf/9+LFu2DP/5z3+EkLuIiAg0Nzfjd7/7HdauXYu9e/eisrISx48f91qm+Jxdu3YhJSUFp06dwtSpU/GnP/0JKpUKQ4cOxYoVK7B06VJBZn/P6ey3qdVqDB06FDExMZgyZQqmTJkCo9HYQTcAUFBQgAULFmDatGm455578Le//Q2HDx/uoGtv+tiwYQNeeOEF/PKXv0RqairmzJmDDz/8EI2NjVi+fDlee+017N+/H4MGDUJhYSFyc3PxzTffeC3XU5k806dPh16vx1NPPQWTyYTCwkKvsojrevXVV/Hxxx+jf//+KC8vx/Tp03H+/Hm3elMoFF5tyB9d//Wvf8WDDz6I/Px83HPPPXj11Vc72IEn2Tzhrcy4uDikpqZCrVZjypQpGDRokMdyPMHrle8cA0BUVBSio6O9hph5qtubvO7YtGkTZs2ahX79+mHBggVOLwI8UV1djTNnzmDWrFlu93uz5c7k82R3nrZ74v7770dJSQlOnTolbPv444+Rk5ODjIwMYZs323P3u1ztrjP99YRt94Zd+8IPF5tR0mDAb3KGAABqDG2obTFhWFwEShoM2PrzeeytqIfZ7uhWPQQRkgRzOIogrkfGjRvHALB+/fqx2bNnsyFDhjiFVfChc4888ghbvXo1A8BmzJjBGGOsoKCAAWBDhw71qa6///3vDO3zWtnMmTOZWq1mAJhCoWA7duzwW/bnn3++Q2gcY4yZzWYGgD3//PPCtlWrVnkMF/nkk0+EsJD6+noGgO3d2x4icebMGQaA/fjjjz6V5a5Md+cYjUbGcRz717/+JWxbs2YNi4iI8FiPL+d0JseiRYs6hLS41mMwGFh8fDz76KOPvP5GT+czxlhjYyOLiIhgRUVFwrbc3Fyh7t/85jcsKytL2Ge1WllaWppTiKZruZ2V2drayjiOY1988YWw32w2d3qeu7pcde1Ob2Jc9ezpHNd6Ll++zFQqFfvggw+EbYcOHWIAWHFxsU+yueJLmc8//7zP4VMffPBBh9C49957jwFgZWVlTsempKSwJUuWeC3PtW5/5dXr9Sw6Opq9/vrrwvG7d+/uNLRr3759He5lV9zZcmfyebI7T9u90drayjQajVOocF5eHtu8ebPHc1xtz921Ff8uf/XXFdvuDbvmcRcax1h7aNvYt75i0X/+jL15vFLYfux8I8Pvd7Cn9v/MHvq0kD2+9yTrv+5zNnLjAaYzWZzOp9A44nqHRoQIooukpaXhkUcewf333w+pVCpsF4ef8W8Nr1y5AgCora0F0D5B1xfECQy2bNmCS5cuISsrCxaLBS+++GK3f4NrPeIwPXdhdDxKpRIAYLPZEB4eDqVSCb1eD+Dabw0PD/epLHdlujtHrVZDpVI56SQ+Ph4m07VMRl05pzM53OFaT2FhIbRaLcaPH+/xHG/nA8CJEyfQ0tKCjRs3Yv78+Zg4cSIqKirQ3Nzs9hyZTIa8vDynCdiux3RWpkqlwrx587BgwQKsXbsWra2tUCgUnZ7nri53uvaGL3r29Jva2tqQlZUlbLv55psBAEVFRV2SzZcyewur1YqoqCgAgFarxZEjR5w+RqOx2/IWFhZCp9M5hUT6Aj8a7U4GHk+27E0+T3bnaTvgWTcqlQrz588XQg5rampQVFSEBQsWeJTZ33vcX/11xbZ7w647Y2FmCvYumoRt88bhD4dL8eie9nr4DHL3jhqAt+eMweuzbsG3S/NQ1tiCv/90rkt1EUSoQnOECKKLJCUlYc6cOZgzZw4eeught8c89NBDOHnyJN5//33cfffd+Oabb5Cenu5Tpii+Dh6Hw4GoqChkZ2ejqKioR8Pj+PSzw4YN83jMunXr8OGHH2LAgAGC0wO0OzwrV67Eyy+/jIaGBhQUFOCBBx7AyJEjO63XU5mekEgkTuEsvsxz8OUcf+Vwhc/81Fmoozfq6uoAAGvXrkVkZKRP5yiVSq9Opi9lFhQUYO3atXjllVfw7rvv4vPPP++SLEBHXbvSXT0DEDKxqdVqYRvf8fTWIfQmW1fL9IfExEQA114U8Oj1evTr1w9A+1ySZ5991mn/li1bui0vb5++hMOJSUtLAwBUVlZiypQpPp/ni3zu7C41NdXjdk+6SU9Px6JFi7B582YUFxdj3759uPfee53qBrpne77or7u23Rt23RlKmRRKmRSz05OwbOxg/PHrM/i/mTejX3h7O2a0XEupnRqlxqAoNUq1VzwVRxDXJTQiRBA9gKcRnvDwcKxYsQJZWVl49NFHcfDgQZw+fRqjRo0SjvH2EBM7E/xbWX40Y+DAaxNXu/og5Nm8eTMyMjI8Trr98ssv8cwzz+Ddd9/F9u3bsWLFCqf9zz33HLKzs5GYmIgNGzbgvffe67TOzsoMFL7I0Zl+BwwYAAB+p4sWw19P1zVRvFFeXu40D6IrZXIch5UrV6K0tBQWiwWbNm3qkizuEOvN1+vdma75OTLiNXj4kdb09HS353RGb5TpyvDh7amLKyoqhG38Ol7Z2dkAgPz8fHz33XdOH3f1+ysv72j5+/IkPT0dycnJ2Lhxo19tjC/yubM7b9u96SY/Px8pKSn48MMPsW3bNjz44INO8nS3relMfz1h24GwQW9wEgmkV18SpUarESblcE7nPBJ4xWzDgEhVr8tCEIGEHCGC8BN+kURPb+n4/fzfF198EcXFxXjjjTfw8ssv44EHHsCzzz4LrVaLL774ArGxsRgxYoTbcK2srCxhzZBdu3ZBp9MJCQ0eeOABAOi0DDF8qAtPW1sb1q1bh4KCArz55puQy+VOx/LH829E+cUJ+Xr4/bt27cKJEycQFxcHvV6Pb775Bjqdzqks18UlOytTXL+4HKvV6vTdbrfD4XB0+ZzO5AgLC8OlS5ecOjGu9YwfPx6DBw/GqlWrhI6M3W7v8Pbfmz7EZfBvhxljTnoUc/jwYXz11Vd44oknPJbbWZllZWU4eLB9QcTExET0798fYWFhPsnSma5d9daZnt2d466e8ePHIz09Hf/+97+Fbe+99x4yMzOFbGq+2IEYX8v0tPiwK65tANA+upKfn+/0kuCtt95Cenp6h4xsrri7rv7oYMKECYiLi8Pq1asFm+RfrLS2tnqsNywsDC+99BIKCwtx1113oaSkBDabDQ6HA1VVVTAYDB5t2Zt8nuzO0/bO4DgO9913H/7xj3+AMYZx48Y57e9qW+Or/nrCtnvDrj1RrW+F0XpttOfHi83Y+FMl5o5IhlImhUYhw8JRA1Dw34vgpd1XUY9mkwULMz2HdRuNRjz11FP44Ycf/JKHIIJKYKckEcT1ze7du5lcLmcAmEqlYu+//77H/QkJCayyspK9+OKLQsID8Wfu3Llsy5YtDADTaDSsubnZbZ21tbVs9uzZTKlUMolEwmJjY9mLL77IrFYrY4z5VAZjjF24cIENGzaMSaVSlp2dzcaOHctGjRrFHnzwQVZbW+vx2J07d7IrV66wCRMmMADs1ltvZX/5y1+YVCplixYtYowxduTIETZ8+HCWlZXFsrKyWFxcHIuPj2eNjY1OZb311ltCHd7KdK2fsfZ1SwCwnJwc1tTUxPR6vXD+G2+80aVzOpODMcb27NnDlEolS0hIYMuXL2dnz57tUA9jjJ04cYKNGTOGyeVylp6ezubOnet2fRhP+uDLGDt2LFMoFGzIkCFsypQp7Icf2tf2ePLJJ1lCQgJbsmQJmzx5MktNTXWyP0/leivzp59+Ykqlkv36179mt912G5szZw4zGAydnueLrl311tjY6FXP/ui6uLiY5eTksLy8PJafn8/y8/NZRUWFz7K5w9cyXa+ZKzU1NWzSpEkMAFu8eLFwnzLWfi/n5+ezW265hU2ePJnl5uZ2uoaQp7r91cG+fftYUlISk8vlLCcnh61atYppNBqnBCmeKCgoYBkZGUwqlTKZTMbS0tLYn/70J1ZRUeFRL97k82R33uyxM06ePMkAsPXr13fY529b46/+OmtDGPPNtnvDrhnrmCzhVIOB/fL9Y2zkxgMs4dU9TPPKp+yxPUXMYL5mq3qTlc0v+J6NfesrNu29o2z4hi/Y9lMXncp1TZZQVFTEALCVK1f6dM0IIhSQMNbNmBqCIDyyYsUKrF+/HqdOnUJ8fDwAoKqqCllZWZg1axb27t2L2tpaxMTECPHgnnA4HDAYDG7j1H0to7vodDqh/tbWVqjVanzyySd499138emnnzodFxMTg6KiIowePdrvMoOBNznMZrOQGKIzjEYjFAqF0+iav/CjjSrVtTCU5cuX4/Dhwzhx4gQMBoNfc3c8lQm021VjYyOioqKEiem+nOcL7vTW2fX2R9etra2QSqXdmpsViDJdMZvNYIz1yP3qr7x6vR5RUVGwWq2QSqXgON8DQ/y5Np3J58nuOrPH7tATbY03/fWUbfe0Df5i6zGM6x+NNdMynbYzAM1tFsSqPOvZ5mBotdoRGdZxLuJ7J8/j+a9O4cLya+nVy8vLkZqa2uPXjiB6C0qWQBC9yI4dO2CxWLB3715MmTIFFy5cwI4dO6BSqbBy5UoA8LqgqhiO4zxO1vW1jO4irp9/yB8+fBinT5+GVqtFfHw8rFYr3nnnHUyZMgW33HJLl8oMBt7kCAsL87lT4k8n0RPunA6TySSE3PjrBHkqE2i3q4SEBL/P8wV3euvsevuj696wl0DYYE86Wf7Ky2eo64qj7s+14fEknye768weu0NPtDXe9NdTth2odlACeHWCAEDGSdw6QZ4IxHwmguhJyBEiiF7k448/xpo1a7Bx40asXbsWycnJyMnJQWFhoddJ7tcTL7zwAoxGI26//XbExsYiMjISM2bMwJ49e3zK6kZ0TnV1Nb777jsYDAZs3boV999/f7BFIgjiOiFGKce+inpEKGR47rbhPVLmv05U453CKiSoe2/klCACAYXGEQRBEARBEATR56CscQRBEARBEARB9DnIESIIgiAIgiAIos9BjhBBEARBEARBEH0OcoQIgiAIgiAIguhzkCNEEARBEARBEESfgxwhgiAIgiAIgiD6HOQIEQRBEARBEATR5yBHiCAIgiAIgiCIPgc5QgRBEARBEARB9DnIESIIgiAIgiAIos9BjhBBEARBEARBEH2O/w/O1yUIbOvjEwAAAABJRU5ErkJggg==)"
      ]
    },
    {
      "cell_type": "markdown",
      "metadata": {
        "id": "mdDDPusQKXSG"
      },
      "source": [
        "### Testing Methods"
      ]
    },
    {
      "cell_type": "markdown",
      "metadata": {
        "id": "8WJkURD5Kd1k"
      },
      "source": [
        "Method for splitting full dataset to train and test subsets"
      ]
    },
    {
      "cell_type": "code",
      "execution_count": 12,
      "metadata": {
        "id": "0fsMZAFdKZKE"
      },
      "outputs": [],
      "source": [
        "# train-test split\n",
        "def train_test_split(X, Y, dates, train_end_year):\n",
        "    mask = dates.dt.year <= train_end_year\n",
        "    \n",
        "    # if Y is 1-d vector there is a need to perform ravel()\n",
        "    if Y.shape[1] == 1:\n",
        "        Y = Y.to_numpy().ravel()\n",
        "    \n",
        "    return scale(X[mask]), Y[mask], scale(X[~mask]), Y[~mask]\n",
        "    #return X[mask], Y[mask], X[~mask], Y[~mask]"
      ]
    },
    {
      "cell_type": "markdown",
      "metadata": {
        "id": "5kFghDqQKfIF"
      },
      "source": [
        "The model metric"
      ]
    },
    {
      "cell_type": "code",
      "execution_count": 13,
      "metadata": {
        "id": "G6juGkPCKfya"
      },
      "outputs": [],
      "source": [
        "def sim_score(y, y_pred, winner_odds, p=0.1, init_bank=1):  \n",
        "    cur_bank = init_bank\n",
        "    for i in range(len(y)):\n",
        "        if np.isnan(y_pred[i]) or pd.isna(winner_odds[i]):\n",
        "            continue\n",
        "        bet_amount = p * cur_bank\n",
        "        cur_bank -= bet_amount\n",
        "        if y_pred[i] == y[i]:\n",
        "            cur_bank += winner_odds[i] * bet_amount\n",
        "    return cur_bank"
      ]
    },
    {
      "cell_type": "markdown",
      "metadata": {
        "id": "ejhGzYQQKnIs"
      },
      "source": [
        "Method evaluating order-preserved cross-validation score(for preprocessed dataset)"
      ]
    },
    {
      "cell_type": "code",
      "execution_count": 14,
      "metadata": {
        "id": "mln80eglKnxE"
      },
      "outputs": [],
      "source": [
        "def cv_score(model):\n",
        "    scores = []\n",
        "    for train_end_year in range(2000, 2020):\n",
        "        X_train, y_train, X_test, y_test = train_test_split(\n",
        "            full_dataset[predictors],\n",
        "            full_dataset[target],\n",
        "            full_dataset['date'],\n",
        "            train_end_year\n",
        "        )\n",
        "        model.fit(X_train, y_train)\n",
        "        scores.append(sim_score(y_test, model.predict(X_test), full_dataset.iloc[X_test.index]['avgw'].to_numpy()))\n",
        "    return np.mean(scores)"
      ]
    },
    {
      "cell_type": "markdown",
      "metadata": {
        "id": "F3GQoxiV8VlA"
      },
      "source": [
        "## Build Model"
      ]
    },
    {
      "cell_type": "markdown",
      "metadata": {
        "id": "Iud3ujHsMskR"
      },
      "source": [
        "### Model Implementations"
      ]
    },
    {
      "cell_type": "markdown",
      "metadata": {
        "id": "LJIwRT9ZMuRG"
      },
      "source": [
        "#### Logistic Regression"
      ]
    },
    {
      "cell_type": "code",
      "execution_count": 20,
      "metadata": {
        "id": "PVnsx2LfMyM7"
      },
      "outputs": [],
      "source": [
        "from sklearn.linear_model import LogisticRegression\n",
        "\n",
        "class LRTipsterModel:\n",
        "    def __init__(self, confidence=0.25, **kwargs):\n",
        "        self.lr = LogisticRegression(**kwargs)\n",
        "        self.confidence = confidence\n",
        "        \n",
        "    def fit(self, X, player_1_won):\n",
        "        self.lr.fit(X, player_1_won)\n",
        "\n",
        "    def predict(self, X):\n",
        "        probs = self.lr.predict_proba(X)\n",
        "        predictions = self.lr.predict(X)\n",
        "        notsure_mask = np.maximum(probs[:, 0], probs[:, 1]) - 0.5 < self.confidence\n",
        "        predictions = predictions.astype('float32')\n",
        "        predictions[notsure_mask] = np.nan\n",
        "        return predictions"
      ]
    },
    {
      "cell_type": "markdown",
      "metadata": {
        "id": "Iz9pwy5FVXSl"
      },
      "source": [
        "#### Gaussian Naive Bayes"
      ]
    },
    {
      "cell_type": "code",
      "execution_count": 39,
      "metadata": {
        "id": "b5YyIXTFVgVD"
      },
      "outputs": [],
      "source": [
        "from sklearn.naive_bayes import GaussianNB\n",
        "\n",
        "class GaussianNBTipsterModel:\n",
        "    def __init__(self, confidence=0.25, **kwargs):\n",
        "        self.nb = GaussianNB(**kwargs)\n",
        "        self.confidence = confidence\n",
        "        \n",
        "    def fit(self, X, player_1_won):\n",
        "        self.nb.fit(X, player_1_won)\n",
        "\n",
        "    def predict(self, X):\n",
        "        probs = self.nb.predict_proba(X)\n",
        "        predictions = self.nb.predict(X)\n",
        "        notsure_mask = np.maximum(probs[:, 0], probs[:, 1]) - 0.5 < self.confidence\n",
        "        predictions = predictions.astype('float32')\n",
        "        predictions[notsure_mask] = np.nan\n",
        "        return predictions"
      ]
    },
    {
      "cell_type": "markdown",
      "metadata": {
        "id": "PO9uTKeXds3C"
      },
      "source": [
        "#### Decision Tree"
      ]
    },
    {
      "cell_type": "code",
      "execution_count": 46,
      "metadata": {
        "id": "Ku81X4xZdyiK"
      },
      "outputs": [],
      "source": [
        "from sklearn.tree import DecisionTreeClassifier\n",
        "\n",
        "class DecisionTreeTipsterModel:\n",
        "    def __init__(self, confidence=0.25, **kwargs):\n",
        "        self.clf = DecisionTreeClassifier(**kwargs)\n",
        "        self.confidence = confidence\n",
        "        \n",
        "    def fit(self, X, player_1_won):\n",
        "        self.clf.fit(X, player_1_won)\n",
        "\n",
        "    def predict(self, X):\n",
        "        probs = self.clf.predict_proba(X)\n",
        "        predictions = self.clf.predict(X)\n",
        "        notsure_mask = np.maximum(probs[:, 0], probs[:, 1]) - 0.5 < self.confidence\n",
        "        predictions = predictions.astype('float32')\n",
        "        predictions[notsure_mask] = np.nan\n",
        "        return predictions"
      ]
    },
    {
      "cell_type": "markdown",
      "metadata": {
        "id": "A37iglVMpHGD"
      },
      "source": [
        "#### KNN"
      ]
    },
    {
      "cell_type": "code",
      "execution_count": 54,
      "metadata": {
        "id": "4456dOaUpLh_"
      },
      "outputs": [],
      "source": [
        "from sklearn.neighbors import KNeighborsClassifier\n",
        "\n",
        "class KNNTipsterModel:\n",
        "    def __init__(self, confidence=0.25, **kwargs):\n",
        "        self.clf = KNeighborsClassifier(**kwargs)\n",
        "        self.confidence = confidence\n",
        "        \n",
        "    def fit(self, X, player_1_won):\n",
        "        self.clf.fit(X, player_1_won)\n",
        "\n",
        "    def predict(self, X):\n",
        "        probs = self.clf.predict_proba(X)\n",
        "        predictions = self.clf.predict(X)\n",
        "        notsure_mask = np.maximum(probs[:, 0], probs[:, 1]) - 0.5 < self.confidence\n",
        "        predictions = predictions.astype('float32')\n",
        "        predictions[notsure_mask] = np.nan\n",
        "        return predictions"
      ]
    },
    {
      "cell_type": "markdown",
      "metadata": {
        "id": "6cpl7gVHpzy0"
      },
      "source": [
        "#### Random Forest"
      ]
    },
    {
      "cell_type": "code",
      "execution_count": 60,
      "metadata": {
        "id": "r5a5zH3Cp3U3"
      },
      "outputs": [],
      "source": [
        "from sklearn.ensemble import RandomForestClassifier\n",
        "\n",
        "class RandomForestTipsterModel:\n",
        "    def __init__(self, confidence=0.25, **kwargs):\n",
        "        self.clf = RandomForestClassifier(**kwargs)\n",
        "        self.confidence = confidence\n",
        "        \n",
        "    def fit(self, X, player_1_won):\n",
        "        self.clf.fit(X, player_1_won)\n",
        "\n",
        "    def predict(self, X):\n",
        "        probs = self.clf.predict_proba(X)\n",
        "        predictions = self.clf.predict(X)\n",
        "        notsure_mask = np.maximum(probs[:, 0], probs[:, 1]) - 0.5 < self.confidence\n",
        "        predictions = predictions.astype('float32')\n",
        "        predictions[notsure_mask] = np.nan\n",
        "        return predictions"
      ]
    },
    {
      "cell_type": "markdown",
      "metadata": {
        "id": "8Bkt1bXd8uTR"
      },
      "source": [
        "#### AdaBoost"
      ]
    },
    {
      "cell_type": "code",
      "execution_count": 65,
      "metadata": {
        "id": "0O6Tipqi8wHn"
      },
      "outputs": [],
      "source": [
        "from sklearn.ensemble import AdaBoostClassifier\n",
        "\n",
        "class AdaBoostTipsterModel:\n",
        "    def __init__(self, confidence=0.25, **kwargs):\n",
        "        self.clf = AdaBoostClassifier(**kwargs)\n",
        "        self.confidence = confidence\n",
        "        \n",
        "    def fit(self, X, player_1_won):\n",
        "        self.clf.fit(X, player_1_won)\n",
        "\n",
        "    def predict(self, X):\n",
        "        probs = self.clf.predict_proba(X)\n",
        "        predictions = self.clf.predict(X)\n",
        "        notsure_mask = np.maximum(probs[:, 0], probs[:, 1]) - 0.5 < self.confidence\n",
        "        predictions = predictions.astype('float32')\n",
        "        predictions[notsure_mask] = np.nan\n",
        "        return predictions"
      ]
    },
    {
      "cell_type": "markdown",
      "metadata": {
        "id": "4BXjefRHAdvM"
      },
      "source": [
        "#### Neural Network"
      ]
    },
    {
      "cell_type": "code",
      "execution_count": 70,
      "metadata": {
        "id": "r8EFZggCAfxW"
      },
      "outputs": [],
      "source": [
        "from sklearn.neural_network import MLPClassifier\n",
        "from sklearn.preprocessing import StandardScaler\n",
        "from sklearn.pipeline import Pipeline\n",
        "\n",
        "class NNTipsterModel:\n",
        "    def __init__(self, confidence=0.25, **kwargs):\n",
        "        self.clf = Pipeline([\n",
        "            ('scaler', StandardScaler()),\n",
        "            ('nn', MLPClassifier(**kwargs))\n",
        "        ])\n",
        "        #self.clf = MLPClassifier(**kwargs)\n",
        "        self.confidence = confidence\n",
        "        \n",
        "    def fit(self, X, player_1_won):\n",
        "        self.clf.fit(X, player_1_won)\n",
        "\n",
        "    def predict(self, X):\n",
        "        probs = self.clf.predict_proba(X)\n",
        "        predictions = self.clf.predict(X)\n",
        "        notsure_mask = np.maximum(probs[:, 0], probs[:, 1]) - 0.5 < self.confidence\n",
        "        predictions = predictions.astype('float32')\n",
        "        predictions[notsure_mask] = np.nan\n",
        "        return predictions"
      ]
    },
    {
      "cell_type": "markdown",
      "metadata": {
        "id": "K2Hw-7ETMis4"
      },
      "source": [
        "#### SVM"
      ]
    },
    {
      "cell_type": "code",
      "execution_count": 77,
      "metadata": {
        "id": "EsJpHDM0MkNf"
      },
      "outputs": [],
      "source": [
        "from sklearn.svm import SVC\n",
        "from sklearn.preprocessing import StandardScaler\n",
        "from sklearn.pipeline import Pipeline\n",
        "\n",
        "class SVMTipsterModel:\n",
        "    def __init__(self, confidence=0.25, **kwargs):\n",
        "        self.clf = Pipeline([\n",
        "            ('scaler', StandardScaler()),\n",
        "            ('svc', SVC(**kwargs))\n",
        "        ])\n",
        "        self.confidence = confidence\n",
        "        \n",
        "    def fit(self, X, player_1_won):\n",
        "        self.clf.fit(X, player_1_won)\n",
        "\n",
        "    def predict(self, X):\n",
        "        probs = self.clf.predict_proba(X)\n",
        "        predictions = self.clf.predict(X)\n",
        "        notsure_mask = np.maximum(probs[:, 0], probs[:, 1]) - 0.5 < self.confidence\n",
        "        predictions = predictions.astype('float32')\n",
        "        predictions[notsure_mask] = np.nan\n",
        "        return predictions"
      ]
    },
    {
      "cell_type": "markdown",
      "source": [
        "#### Gaussian Process"
      ],
      "metadata": {
        "id": "g_yXDg9dhKY6"
      }
    },
    {
      "cell_type": "code",
      "source": [
        "from sklearn.gaussian_process import GaussianProcessClassifier\n",
        "\n",
        "class GaussianProcessTipsterModel:\n",
        "    def __init__(self, confidence=0.25, **kwargs):\n",
        "        self.clf = GaussianProcessClassifier(**kwargs)\n",
        "        self.confidence = confidence\n",
        "        \n",
        "    def fit(self, X, player_1_won):\n",
        "        self.clf.fit(X, player_1_won)\n",
        "\n",
        "    def predict(self, X):\n",
        "        probs = self.clf.predict_proba(X)\n",
        "        predictions = self.clf.predict(X)\n",
        "        notsure_mask = np.maximum(probs[:, 0], probs[:, 1]) - 0.5 < self.confidence\n",
        "        predictions = predictions.astype('float32')\n",
        "        predictions[notsure_mask] = np.nan\n",
        "        return predictions"
      ],
      "metadata": {
        "id": "YbIhbfWrhMU1"
      },
      "execution_count": 20,
      "outputs": []
    },
    {
      "cell_type": "markdown",
      "source": [
        "#### Quadratic Discriminant Analysis"
      ],
      "metadata": {
        "id": "LUpmA2kplHMh"
      }
    },
    {
      "cell_type": "code",
      "source": [
        "from sklearn.discriminant_analysis import QuadraticDiscriminantAnalysis\n",
        "\n",
        "class QDATipsterModel:\n",
        "    def __init__(self, confidence=0.25, **kwargs):\n",
        "        self.clf = QuadraticDiscriminantAnalysis(**kwargs)\n",
        "        self.confidence = confidence\n",
        "        \n",
        "    def fit(self, X, player_1_won):\n",
        "        self.clf.fit(X, player_1_won)\n",
        "\n",
        "    def predict(self, X):\n",
        "        probs = self.clf.predict_proba(X)\n",
        "        predictions = self.clf.predict(X)\n",
        "        notsure_mask = np.maximum(probs[:, 0], probs[:, 1]) - 0.5 < self.confidence\n",
        "        predictions = predictions.astype('float32')\n",
        "        predictions[notsure_mask] = np.nan\n",
        "        return predictions"
      ],
      "metadata": {
        "id": "efyhmFXZlLoi"
      },
      "execution_count": 15,
      "outputs": []
    },
    {
      "cell_type": "markdown",
      "metadata": {
        "id": "k892LTfM8hny"
      },
      "source": [
        "### Parameter Settings"
      ]
    },
    {
      "cell_type": "markdown",
      "metadata": {
        "id": "yCHjNHvSSbWP"
      },
      "source": [
        "#### Grid Search"
      ]
    },
    {
      "cell_type": "markdown",
      "metadata": {
        "id": "FFunBCTaLM49"
      },
      "source": [
        "For each model there are going to be multiple values for certain model parameters. The final values of the model parameters will be selecting using cross-validation score. The parameter configuration with the highest score is going to be the final configuration"
      ]
    },
    {
      "cell_type": "code",
      "execution_count": 16,
      "metadata": {
        "id": "sycfMIXIL9KM"
      },
      "outputs": [],
      "source": [
        "import itertools\n",
        "from tqdm import tqdm\n",
        "\n",
        "def grid_search(estimator, param_grid):\n",
        "    confs = list(itertools.product(*param_grid.values()))\n",
        "    scores = []\n",
        "    for conf in tqdm(confs):\n",
        "        args = dict(zip(param_grid.keys(), conf))\n",
        "        model = estimator(**args)\n",
        "        scores.append(cv_score(model))\n",
        "\n",
        "    return confs[np.argmax(scores)]"
      ]
    },
    {
      "cell_type": "markdown",
      "metadata": {
        "id": "U_2J_iQyHrdd"
      },
      "source": [
        "#### Logistic Regression"
      ]
    },
    {
      "cell_type": "markdown",
      "metadata": {
        "id": "-MBX31BpMZOe"
      },
      "source": [
        "Grid of parameters. For this model it is particularly interesting how regularization parameters(`penalty`, `C`) affect the model. It is also necessary to check whether there is a need for class balancing(`class_weight`). The `solver` is chosen to be liblinear since it works fast with small datasets and allows regularization. The confidence parameter provided is quite high since it was noticed that it is not profitable to take confidence lower than 0.4"
      ]
    },
    {
      "cell_type": "code",
      "execution_count": null,
      "metadata": {
        "colab": {
          "base_uri": "https://localhost:8080/"
        },
        "id": "LfNuNBEcHpw1",
        "outputId": "ad50ac70-5d1b-49a9-97fb-aa98bc9e1625"
      },
      "outputs": [
        {
          "data": {
            "text/plain": [
              "{'C': array([0.01  , 0.0325, 0.055 , 0.0775, 0.1   ]),\n",
              " 'class_weight': ['balanced', None],\n",
              " 'confidence': array([0.49 , 0.491, 0.492, 0.493, 0.494, 0.495, 0.496, 0.497, 0.498,\n",
              "        0.499, 0.5  ]),\n",
              " 'penalty': ['l1', 'l2'],\n",
              " 'solver': ['liblinear']}"
            ]
          },
          "execution_count": 15,
          "metadata": {},
          "output_type": "execute_result"
        }
      ],
      "source": [
        "lr_param_grid = {\n",
        "    'penalty': ['l1', 'l2'],\n",
        "    'C' : np.linspace(0.01, 0.1, 5),\n",
        "    'class_weight': ['balanced', None],\n",
        "    'solver': ['liblinear'], \n",
        "    'confidence': np.linspace(0.49, 0.5, 11)\n",
        "}\n",
        "lr_param_grid"
      ]
    },
    {
      "cell_type": "markdown",
      "metadata": {
        "id": "h386MZM2MdVe"
      },
      "source": [
        "Grid search"
      ]
    },
    {
      "cell_type": "code",
      "execution_count": null,
      "metadata": {
        "colab": {
          "base_uri": "https://localhost:8080/"
        },
        "id": "Ah0sBdfEMgly",
        "outputId": "aa47225f-2298-46de-9f12-e5c47ef1d2ee"
      },
      "outputs": [
        {
          "name": "stderr",
          "output_type": "stream",
          "text": [
            "100%|██████████| 220/220 [53:01<00:00, 14.46s/it]\n"
          ]
        },
        {
          "data": {
            "text/plain": [
              "('l1', 0.0325, 'balanced', 'liblinear', 0.498)"
            ]
          },
          "execution_count": 21,
          "metadata": {},
          "output_type": "execute_result"
        }
      ],
      "source": [
        "grid_search(LRTipsterModel, lr_param_grid)"
      ]
    },
    {
      "cell_type": "markdown",
      "metadata": {
        "id": "qmIJoK4tZgwK"
      },
      "source": [
        "The parameters for logistic regression model selected by grid search are:"
      ]
    },
    {
      "cell_type": "code",
      "execution_count": 31,
      "metadata": {
        "id": "DKEOTCVLZt67"
      },
      "outputs": [],
      "source": [
        "lr_params = {\n",
        "    'penalty': 'l1',\n",
        "    'C': 0.325,\n",
        "    'class_weight': 'balanced',\n",
        "    'solver': 'liblinear',\n",
        "    'confidence': 0.498\n",
        "}"
      ]
    },
    {
      "cell_type": "markdown",
      "metadata": {
        "id": "avGbXQoLU1iV"
      },
      "source": [
        "#### Gaussian Naive Bayes"
      ]
    },
    {
      "cell_type": "markdown",
      "metadata": {
        "id": "GEUBcz-4a5H3"
      },
      "source": [
        "Grid of parameters. The only interesting parameter of the model for us is `var_smoothing`."
      ]
    },
    {
      "cell_type": "code",
      "execution_count": null,
      "metadata": {
        "colab": {
          "base_uri": "https://localhost:8080/"
        },
        "id": "f5XRxRyxa4AB",
        "outputId": "ce8c0f6d-ae6b-4772-8466-b2df3897cb85"
      },
      "outputs": [
        {
          "data": {
            "text/plain": [
              "{'confidence': array([0.49 , 0.491, 0.492, 0.493, 0.494, 0.495, 0.496, 0.497, 0.498,\n",
              "        0.499, 0.5  ]),\n",
              " 'var_smoothing': [1e-10,\n",
              "  1e-09,\n",
              "  1e-08,\n",
              "  1e-07,\n",
              "  1e-06,\n",
              "  1e-05,\n",
              "  0.0001,\n",
              "  0.001,\n",
              "  0.01,\n",
              "  0.1]}"
            ]
          },
          "execution_count": 53,
          "metadata": {},
          "output_type": "execute_result"
        }
      ],
      "source": [
        "gnb_param_grid = {\n",
        "    'var_smoothing': [1e-10, 1e-9, 1e-8, 1e-7, 1e-6, 1e-5, 1e-4, 1e-3, 1e-2, 1e-1],\n",
        "    'confidence': np.linspace(0.49, 0.5, 11)\n",
        "}\n",
        "gnb_param_grid"
      ]
    },
    {
      "cell_type": "markdown",
      "metadata": {
        "id": "WOgnGXk4cPQn"
      },
      "source": [
        "Grid search"
      ]
    },
    {
      "cell_type": "code",
      "execution_count": null,
      "metadata": {
        "colab": {
          "base_uri": "https://localhost:8080/"
        },
        "id": "PP0u_kp1cQha",
        "outputId": "d20b201f-af55-44eb-8c5f-f0fce39f7699"
      },
      "outputs": [
        {
          "name": "stderr",
          "output_type": "stream",
          "text": [
            "100%|██████████| 110/110 [16:46<00:00,  9.15s/it]\n"
          ]
        },
        {
          "data": {
            "text/plain": [
              "(1e-05, 0.499)"
            ]
          },
          "execution_count": 50,
          "metadata": {},
          "output_type": "execute_result"
        }
      ],
      "source": [
        "grid_search(GaussianNBTipsterModel, gnb_param_grid)"
      ]
    },
    {
      "cell_type": "markdown",
      "metadata": {
        "id": "7tYKjy78c-58"
      },
      "source": [
        "The parameter of Gaussian Naive Bayes model is:"
      ]
    },
    {
      "cell_type": "code",
      "execution_count": 41,
      "metadata": {
        "id": "EcOnSAGrc-P0"
      },
      "outputs": [],
      "source": [
        "gnb_params = {\n",
        "    'var_smoothing': 1e-5,\n",
        "    'confidence': 0.499\n",
        "}"
      ]
    },
    {
      "cell_type": "markdown",
      "metadata": {
        "id": "cAlcsKbhdeDP"
      },
      "source": [
        "#### Decision Tree"
      ]
    },
    {
      "cell_type": "markdown",
      "metadata": {
        "id": "4RF-kShRdkXR"
      },
      "source": [
        "Grid of paramters"
      ]
    },
    {
      "cell_type": "code",
      "execution_count": null,
      "metadata": {
        "colab": {
          "base_uri": "https://localhost:8080/"
        },
        "id": "Y_QkwzEUdmhR",
        "outputId": "116a3899-f079-4cf1-de99-ff7d946b57e8"
      },
      "outputs": [
        {
          "data": {
            "text/plain": [
              "{'class_weight': [None, 'balanced'],\n",
              " 'confidence': array([0.49 , 0.495, 0.5  ]),\n",
              " 'criterion': ['gini', 'entropy'],\n",
              " 'max_features': [None, 'sqrt', 'log2'],\n",
              " 'splitter': ['best', 'random']}"
            ]
          },
          "execution_count": 66,
          "metadata": {},
          "output_type": "execute_result"
        }
      ],
      "source": [
        "dt_param_grid = {\n",
        "    'criterion': ['gini', 'entropy'],\n",
        "    'splitter': ['best', 'random'],\n",
        "    'max_features': [None, 'sqrt', 'log2'],\n",
        "    'class_weight': [None, 'balanced'],\n",
        "    'confidence': np.linspace(0.49, 0.5, 3)\n",
        "}\n",
        "dt_param_grid"
      ]
    },
    {
      "cell_type": "markdown",
      "metadata": {
        "id": "0Vi9QU81eto8"
      },
      "source": [
        "Grid Search"
      ]
    },
    {
      "cell_type": "code",
      "execution_count": null,
      "metadata": {
        "colab": {
          "base_uri": "https://localhost:8080/"
        },
        "id": "xzabB2xaeyeP",
        "outputId": "a85c0cdb-56c0-4dac-f7b5-398f1ea62f8c"
      },
      "outputs": [
        {
          "name": "stderr",
          "output_type": "stream",
          "text": [
            "100%|██████████| 72/72 [17:04<00:00, 14.23s/it]\n"
          ]
        },
        {
          "data": {
            "text/plain": [
              "('gini', 'best', None, 'balanced', 0.5)"
            ]
          },
          "execution_count": 67,
          "metadata": {},
          "output_type": "execute_result"
        }
      ],
      "source": [
        "grid_search(DecisionTreeTipsterModel, dt_param_grid)"
      ]
    },
    {
      "cell_type": "markdown",
      "metadata": {
        "id": "q6q442imod3c"
      },
      "source": [
        "The parameters of the decision tree are:"
      ]
    },
    {
      "cell_type": "code",
      "execution_count": 49,
      "metadata": {
        "id": "1x7UhjrHomNN"
      },
      "outputs": [],
      "source": [
        "dt_params = {\n",
        "    'criterion': 'gini',\n",
        "    'splitter': 'best',\n",
        "    'max_features': None,\n",
        "    'class_weight': 'balanced',\n",
        "    'confidence': 0.5\n",
        "}"
      ]
    },
    {
      "cell_type": "markdown",
      "metadata": {
        "id": "OzfoAgiCqPtx"
      },
      "source": [
        "#### KNN"
      ]
    },
    {
      "cell_type": "markdown",
      "metadata": {
        "id": "EpWsW_aaqTkb"
      },
      "source": [
        "Grid of parameters. Ball tree is chosen since it works faster in higher dimensions"
      ]
    },
    {
      "cell_type": "code",
      "execution_count": null,
      "metadata": {
        "colab": {
          "base_uri": "https://localhost:8080/"
        },
        "id": "DHVEak4gqVe6",
        "outputId": "10c3c572-f29a-4391-f2d0-cb7e665fa178"
      },
      "outputs": [
        {
          "data": {
            "text/plain": [
              "{'algorithm': ['ball_tree'],\n",
              " 'confidence': array([0.49 , 0.495, 0.5  ]),\n",
              " 'p': [1, 2],\n",
              " 'weights': ['uniform', 'distance']}"
            ]
          },
          "execution_count": 42,
          "metadata": {},
          "output_type": "execute_result"
        }
      ],
      "source": [
        "knn_param_grid = {\n",
        "    'weights': ['uniform', 'distance'],\n",
        "    'algorithm': ['ball_tree'],\n",
        "    'p': [1, 2],\n",
        "    'confidence': np.linspace(0.49, 0.5, 3)\n",
        "}\n",
        "knn_param_grid"
      ]
    },
    {
      "cell_type": "markdown",
      "metadata": {
        "id": "AGXzwhXPshxV"
      },
      "source": [
        "Grid search"
      ]
    },
    {
      "cell_type": "code",
      "execution_count": null,
      "metadata": {
        "colab": {
          "background_save": true,
          "base_uri": "https://localhost:8080/"
        },
        "id": "FLMZAglsskDv",
        "outputId": "dcaa030a-07b8-4ba4-9aab-971128407ad5"
      },
      "outputs": [
        {
          "name": "stderr",
          "output_type": "stream",
          "text": [
            "100%|██████████| 12/12 [36:42<00:00, 183.56s/it]\n"
          ]
        },
        {
          "data": {
            "text/plain": [
              "('uniform', 'ball_tree', 2, 0.49)"
            ]
          },
          "execution_count": null,
          "metadata": {},
          "output_type": "execute_result"
        }
      ],
      "source": [
        "grid_search(KNNTipsterModel, knn_param_grid)"
      ]
    },
    {
      "cell_type": "markdown",
      "metadata": {
        "id": "m5MnJCHOooF9"
      },
      "source": [
        "The final configuration"
      ]
    },
    {
      "cell_type": "code",
      "execution_count": 55,
      "metadata": {
        "id": "_hXPrKeEonlG"
      },
      "outputs": [],
      "source": [
        "knn_params = {\n",
        "    'weights': 'uniform',\n",
        "    'algorithm': 'ball_tree',\n",
        "    'p': 2,\n",
        "    'confidence': 0.49\n",
        "}"
      ]
    },
    {
      "cell_type": "markdown",
      "metadata": {
        "id": "pKjCOe7ao1L7"
      },
      "source": [
        "#### Random Forest"
      ]
    },
    {
      "cell_type": "markdown",
      "metadata": {
        "id": "njSGu_UYo5ZI"
      },
      "source": [
        "Grid of parameters. Gini index, max_features=None, balanced class weight are chosen since they were the best for decision tree classifier. Bootstap is set since it builds the forest faster."
      ]
    },
    {
      "cell_type": "code",
      "execution_count": null,
      "metadata": {
        "colab": {
          "base_uri": "https://localhost:8080/"
        },
        "id": "6V-mpRbqo8RB",
        "outputId": "bf5cdedd-e0a7-4e36-8f27-b31494d69fa9"
      },
      "outputs": [
        {
          "data": {
            "text/plain": [
              "{'bootstrap': [True],\n",
              " 'class_weight': ['balanced'],\n",
              " 'confidence': array([0.49 , 0.495, 0.5  ]),\n",
              " 'criterion': ['gini'],\n",
              " 'max_depth': [1, 5, 10],\n",
              " 'max_features': [None],\n",
              " 'n_estimators': [10, 50, 100]}"
            ]
          },
          "execution_count": 24,
          "metadata": {},
          "output_type": "execute_result"
        }
      ],
      "source": [
        "rf_param_grid = {\n",
        "    'n_estimators': [10, 50, 100],\n",
        "    'criterion': ['gini'],\n",
        "    'max_depth': [1, 5, 10],\n",
        "    'max_features': [None],\n",
        "    'bootstrap': [True],\n",
        "    'class_weight': ['balanced'],\n",
        "    'confidence': np.linspace(0.49, 0.5, 3)\n",
        "}\n",
        "rf_param_grid"
      ]
    },
    {
      "cell_type": "markdown",
      "metadata": {
        "id": "IuMLQMGM7ptn"
      },
      "source": [
        "Grid search"
      ]
    },
    {
      "cell_type": "code",
      "execution_count": null,
      "metadata": {
        "colab": {
          "base_uri": "https://localhost:8080/"
        },
        "id": "pdgo8rQ27rK5",
        "outputId": "72683f71-e030-4816-f5bf-8d800af2464f"
      },
      "outputs": [
        {
          "name": "stderr",
          "output_type": "stream",
          "text": [
            "100%|██████████| 27/27 [1:18:53<00:00, 175.32s/it]\n"
          ]
        },
        {
          "data": {
            "text/plain": [
              "(10, 'gini', 10, None, True, 'balanced', 0.49)"
            ]
          },
          "execution_count": 25,
          "metadata": {},
          "output_type": "execute_result"
        }
      ],
      "source": [
        "grid_search(RandomForestTipsterModel, rf_param_grid)"
      ]
    },
    {
      "cell_type": "markdown",
      "metadata": {
        "id": "f0nI2xn97_dM"
      },
      "source": [
        "The final configuration"
      ]
    },
    {
      "cell_type": "code",
      "execution_count": 59,
      "metadata": {
        "id": "8rXWVKus8BXp"
      },
      "outputs": [],
      "source": [
        "rf_params = {\n",
        "    'n_estimators': 10,\n",
        "    'criterion': 'gini',\n",
        "    'max_depth': 10,\n",
        "    'max_features': None,\n",
        "    'bootstrap': True,\n",
        "    'class_weight': 'balanced',\n",
        "    'confidence': 0.49\n",
        "}"
      ]
    },
    {
      "cell_type": "markdown",
      "metadata": {
        "id": "itLJXDk49bCB"
      },
      "source": [
        "#### AdaBoost"
      ]
    },
    {
      "cell_type": "markdown",
      "metadata": {
        "id": "XHzzfzmQ9nK5"
      },
      "source": [
        "Grid of parameters"
      ]
    },
    {
      "cell_type": "code",
      "execution_count": null,
      "metadata": {
        "colab": {
          "base_uri": "https://localhost:8080/"
        },
        "id": "o3xhxUrf9qDL",
        "outputId": "744f7685-9aa4-40a4-ef3d-4e38721b449b"
      },
      "outputs": [
        {
          "data": {
            "text/plain": [
              "{'algorithm': ['SAMME', 'SAMME.R'],\n",
              " 'confidence': array([0.49 , 0.495, 0.5  ]),\n",
              " 'learning_rate': [0.5, 1, 1.5],\n",
              " 'n_estimators': [10, 50, 100]}"
            ]
          },
          "execution_count": 27,
          "metadata": {},
          "output_type": "execute_result"
        }
      ],
      "source": [
        "ab_param_grid = {\n",
        "    'n_estimators': [10, 50, 100],\n",
        "    'learning_rate': [0.5, 1, 1.5],\n",
        "    'algorithm': ['SAMME', 'SAMME.R'],\n",
        "    'confidence': np.linspace(0.49, 0.5, 3)\n",
        "}\n",
        "ab_param_grid"
      ]
    },
    {
      "cell_type": "markdown",
      "metadata": {
        "id": "9HTT7slM-uO1"
      },
      "source": [
        "Grid search"
      ]
    },
    {
      "cell_type": "code",
      "execution_count": 28,
      "metadata": {
        "colab": {
          "base_uri": "https://localhost:8080/"
        },
        "id": "EceZ4KUn-tM0",
        "outputId": "99553874-6a4a-4a3f-8774-aebc60c991a6"
      },
      "outputs": [
        {
          "output_type": "stream",
          "name": "stderr",
          "text": [
            "100%|██████████| 54/54 [1:29:03<00:00, 98.95s/it] \n"
          ]
        },
        {
          "output_type": "execute_result",
          "data": {
            "text/plain": [
              "(10, 0.5, 'SAMME', 0.49)"
            ]
          },
          "metadata": {},
          "execution_count": 28
        }
      ],
      "source": [
        "grid_search(AdaBoostTipsterModel, ab_param_grid)"
      ]
    },
    {
      "cell_type": "markdown",
      "metadata": {
        "id": "5F-EZtrl-4p8"
      },
      "source": [
        "The final configuration"
      ]
    },
    {
      "cell_type": "code",
      "execution_count": 64,
      "metadata": {
        "id": "EZ2LOFLd-7Ew"
      },
      "outputs": [],
      "source": [
        "ab_params = {\n",
        "    'n_estimators': 10,\n",
        "    'learning_rate': 0.5,\n",
        "    'algorithm': 'SAMME',\n",
        "    'confidence': 0.49\n",
        "}"
      ]
    },
    {
      "cell_type": "markdown",
      "metadata": {
        "id": "4-T-XWrFBb3P"
      },
      "source": [
        "#### Neural Network"
      ]
    },
    {
      "cell_type": "markdown",
      "metadata": {
        "id": "9nNgei78Be1e"
      },
      "source": [
        "Grid of parameters"
      ]
    },
    {
      "cell_type": "code",
      "execution_count": 61,
      "metadata": {
        "id": "tjGA8q_MBeci",
        "colab": {
          "base_uri": "https://localhost:8080/"
        },
        "outputId": "0106229d-70c3-4788-b8ae-dc168edf7828"
      },
      "outputs": [
        {
          "output_type": "execute_result",
          "data": {
            "text/plain": [
              "{'activation': ['relu', 'logistic', 'tanh'],\n",
              " 'confidence': array([0.49 , 0.495, 0.5  ]),\n",
              " 'early_stopping': [True],\n",
              " 'hidden_layer_sizes': [(150, 50)],\n",
              " 'learning_rate': ['adaptive'],\n",
              " 'shuffle': [False],\n",
              " 'solver': ['adam']}"
            ]
          },
          "metadata": {},
          "execution_count": 61
        }
      ],
      "source": [
        "nn_param_grid = {\n",
        "    'hidden_layer_sizes': [(150, 50)],\n",
        "    'activation': ['relu', 'logistic', 'tanh'],\n",
        "    'early_stopping': [True],\n",
        "    'shuffle': [False],\n",
        "    'learning_rate': ['adaptive'],\n",
        "    'solver': ['adam'],\n",
        "    'confidence': np.linspace(0.49, 0.5, 3)\n",
        "}\n",
        "nn_param_grid"
      ]
    },
    {
      "cell_type": "markdown",
      "metadata": {
        "id": "xyi_YJcpDJxV"
      },
      "source": [
        "Grid search"
      ]
    },
    {
      "cell_type": "code",
      "execution_count": 62,
      "metadata": {
        "id": "FYyme2k0DLmw",
        "colab": {
          "base_uri": "https://localhost:8080/"
        },
        "outputId": "1e54a30f-966c-4269-b3ff-1685f61ee93a"
      },
      "outputs": [
        {
          "output_type": "stream",
          "name": "stderr",
          "text": [
            "100%|██████████| 9/9 [42:30<00:00, 283.40s/it]\n"
          ]
        },
        {
          "output_type": "execute_result",
          "data": {
            "text/plain": [
              "((150, 50), 'relu', True, False, 'adaptive', 'adam', 0.5)"
            ]
          },
          "metadata": {},
          "execution_count": 62
        }
      ],
      "source": [
        "grid_search(NNTipsterModel, nn_param_grid)"
      ]
    },
    {
      "cell_type": "markdown",
      "metadata": {
        "id": "6wR8BpScDPZk"
      },
      "source": [
        "The final configuration"
      ]
    },
    {
      "cell_type": "code",
      "execution_count": 72,
      "metadata": {
        "id": "pr7G15hiDRkT"
      },
      "outputs": [],
      "source": [
        "nn_params = {\n",
        "    'hidden_layer_sizes': (150, 50),\n",
        "    'activation': 'relu',\n",
        "    'early_stopping': True,\n",
        "    'shuffle': False,\n",
        "    'learning_rate': 'adaptive',\n",
        "    'solver': 'adam',\n",
        "    'confidence': 0.5\n",
        "}"
      ]
    },
    {
      "cell_type": "markdown",
      "metadata": {
        "id": "LUCMugBGNYvm"
      },
      "source": [
        "#### SVM"
      ]
    },
    {
      "cell_type": "markdown",
      "metadata": {
        "id": "CccWtjksQJXW"
      },
      "source": [
        "The final configuration is the following. Grid search hasn't been done due to longer duration of the classifier training. Kernel RBF is selected since it is the default choice. Confidence is the median since we don't know which option is better: 0.49 or 0.5. Cache size and shrinking is selected since this configuration allows to accelerate somehow the classifier training. The probabiliry option is selected since we really need probability estimations for our case. "
      ]
    },
    {
      "cell_type": "code",
      "execution_count": 76,
      "metadata": {
        "id": "GAL-mq4NQMi3"
      },
      "outputs": [],
      "source": [
        "svm_params = {\n",
        "    'kernel': 'rbf',\n",
        "    'confidence': 0.495,\n",
        "    'cache_size': 1024 * 5,\n",
        "    'shrinking': True,\n",
        "    'class_weight': 'balanced',\n",
        "    'probability': True\n",
        "}"
      ]
    },
    {
      "cell_type": "markdown",
      "source": [
        "#### Gaussian Process"
      ],
      "metadata": {
        "id": "Hq_KppQCjpB7"
      }
    },
    {
      "cell_type": "markdown",
      "source": [
        "Here are the final parameters of the model. All other parameters are to be default. Cross-validation of this model takes much time, so it is decided to select the default ones. Confidence is select to be in the middle."
      ],
      "metadata": {
        "id": "_eU5qH_PoSME"
      }
    },
    {
      "cell_type": "code",
      "source": [
        "gp_params = {\n",
        "    'copy_X_train': False,\n",
        "    'confidence': 0.495\n",
        "}"
      ],
      "metadata": {
        "id": "xJqRFcc2kPai"
      },
      "execution_count": 1,
      "outputs": []
    },
    {
      "cell_type": "markdown",
      "source": [
        "#### Quadratic Discriminant Analysis"
      ],
      "metadata": {
        "id": "OPgFv_GPkZE8"
      }
    },
    {
      "cell_type": "markdown",
      "source": [
        "Grid of parameters. Due to poor knowledge of how this model works, it is decided to take other parameters to be default."
      ],
      "metadata": {
        "id": "DwZvsiwaoyEG"
      }
    },
    {
      "cell_type": "code",
      "source": [
        "qda_param_grid = {\n",
        "    'confidence': np.linspace(0.49, 0.5, 3)\n",
        "}\n",
        "qda_param_grid"
      ],
      "metadata": {
        "colab": {
          "base_uri": "https://localhost:8080/"
        },
        "id": "PsaHEA-CkgQU",
        "outputId": "72f096dd-f2a7-44da-986e-5e659e49d6e8"
      },
      "execution_count": 18,
      "outputs": [
        {
          "output_type": "execute_result",
          "data": {
            "text/plain": [
              "{'confidence': array([0.49 , 0.495, 0.5  ])}"
            ]
          },
          "metadata": {},
          "execution_count": 18
        }
      ]
    },
    {
      "cell_type": "markdown",
      "source": [
        "Grid search. There could be seen some problems with applying of the model on our case."
      ],
      "metadata": {
        "id": "BgUA0w9ZpM5_"
      }
    },
    {
      "cell_type": "code",
      "source": [
        "grid_search(QDATipsterModel, qda_param_grid)"
      ],
      "metadata": {
        "colab": {
          "base_uri": "https://localhost:8080/"
        },
        "id": "1GqO08EdlEuS",
        "outputId": "9ac0ff77-6bc9-4c64-a99b-718a9d842832"
      },
      "execution_count": 19,
      "outputs": [
        {
          "output_type": "stream",
          "name": "stderr",
          "text": [
            "\r  0%|          | 0/3 [00:00<?, ?it/s]/usr/local/lib/python3.7/dist-packages/sklearn/discriminant_analysis.py:878: UserWarning: Variables are collinear\n",
            "  warnings.warn(\"Variables are collinear\")\n",
            "/usr/local/lib/python3.7/dist-packages/sklearn/discriminant_analysis.py:878: UserWarning: Variables are collinear\n",
            "  warnings.warn(\"Variables are collinear\")\n",
            "/usr/local/lib/python3.7/dist-packages/sklearn/discriminant_analysis.py:878: UserWarning: Variables are collinear\n",
            "  warnings.warn(\"Variables are collinear\")\n",
            "/usr/local/lib/python3.7/dist-packages/sklearn/discriminant_analysis.py:878: UserWarning: Variables are collinear\n",
            "  warnings.warn(\"Variables are collinear\")\n",
            "/usr/local/lib/python3.7/dist-packages/sklearn/discriminant_analysis.py:878: UserWarning: Variables are collinear\n",
            "  warnings.warn(\"Variables are collinear\")\n",
            "/usr/local/lib/python3.7/dist-packages/sklearn/discriminant_analysis.py:878: UserWarning: Variables are collinear\n",
            "  warnings.warn(\"Variables are collinear\")\n",
            "/usr/local/lib/python3.7/dist-packages/sklearn/discriminant_analysis.py:878: UserWarning: Variables are collinear\n",
            "  warnings.warn(\"Variables are collinear\")\n",
            "/usr/local/lib/python3.7/dist-packages/sklearn/discriminant_analysis.py:878: UserWarning: Variables are collinear\n",
            "  warnings.warn(\"Variables are collinear\")\n",
            "/usr/local/lib/python3.7/dist-packages/sklearn/discriminant_analysis.py:878: UserWarning: Variables are collinear\n",
            "  warnings.warn(\"Variables are collinear\")\n",
            "/usr/local/lib/python3.7/dist-packages/sklearn/discriminant_analysis.py:878: UserWarning: Variables are collinear\n",
            "  warnings.warn(\"Variables are collinear\")\n",
            "/usr/local/lib/python3.7/dist-packages/sklearn/discriminant_analysis.py:878: UserWarning: Variables are collinear\n",
            "  warnings.warn(\"Variables are collinear\")\n",
            "/usr/local/lib/python3.7/dist-packages/sklearn/discriminant_analysis.py:878: UserWarning: Variables are collinear\n",
            "  warnings.warn(\"Variables are collinear\")\n",
            "/usr/local/lib/python3.7/dist-packages/sklearn/discriminant_analysis.py:878: UserWarning: Variables are collinear\n",
            "  warnings.warn(\"Variables are collinear\")\n",
            "/usr/local/lib/python3.7/dist-packages/sklearn/discriminant_analysis.py:878: UserWarning: Variables are collinear\n",
            "  warnings.warn(\"Variables are collinear\")\n",
            "/usr/local/lib/python3.7/dist-packages/sklearn/discriminant_analysis.py:878: UserWarning: Variables are collinear\n",
            "  warnings.warn(\"Variables are collinear\")\n",
            "/usr/local/lib/python3.7/dist-packages/sklearn/discriminant_analysis.py:878: UserWarning: Variables are collinear\n",
            "  warnings.warn(\"Variables are collinear\")\n",
            "/usr/local/lib/python3.7/dist-packages/sklearn/discriminant_analysis.py:878: UserWarning: Variables are collinear\n",
            "  warnings.warn(\"Variables are collinear\")\n",
            "/usr/local/lib/python3.7/dist-packages/sklearn/discriminant_analysis.py:878: UserWarning: Variables are collinear\n",
            "  warnings.warn(\"Variables are collinear\")\n",
            "/usr/local/lib/python3.7/dist-packages/sklearn/discriminant_analysis.py:878: UserWarning: Variables are collinear\n",
            "  warnings.warn(\"Variables are collinear\")\n",
            "/usr/local/lib/python3.7/dist-packages/sklearn/discriminant_analysis.py:878: UserWarning: Variables are collinear\n",
            "  warnings.warn(\"Variables are collinear\")\n",
            " 33%|███▎      | 1/3 [00:29<00:59, 29.98s/it]/usr/local/lib/python3.7/dist-packages/sklearn/discriminant_analysis.py:878: UserWarning: Variables are collinear\n",
            "  warnings.warn(\"Variables are collinear\")\n",
            "/usr/local/lib/python3.7/dist-packages/sklearn/discriminant_analysis.py:878: UserWarning: Variables are collinear\n",
            "  warnings.warn(\"Variables are collinear\")\n",
            "/usr/local/lib/python3.7/dist-packages/sklearn/discriminant_analysis.py:878: UserWarning: Variables are collinear\n",
            "  warnings.warn(\"Variables are collinear\")\n",
            "/usr/local/lib/python3.7/dist-packages/sklearn/discriminant_analysis.py:878: UserWarning: Variables are collinear\n",
            "  warnings.warn(\"Variables are collinear\")\n",
            "/usr/local/lib/python3.7/dist-packages/sklearn/discriminant_analysis.py:878: UserWarning: Variables are collinear\n",
            "  warnings.warn(\"Variables are collinear\")\n",
            "/usr/local/lib/python3.7/dist-packages/sklearn/discriminant_analysis.py:878: UserWarning: Variables are collinear\n",
            "  warnings.warn(\"Variables are collinear\")\n",
            "/usr/local/lib/python3.7/dist-packages/sklearn/discriminant_analysis.py:878: UserWarning: Variables are collinear\n",
            "  warnings.warn(\"Variables are collinear\")\n",
            "/usr/local/lib/python3.7/dist-packages/sklearn/discriminant_analysis.py:878: UserWarning: Variables are collinear\n",
            "  warnings.warn(\"Variables are collinear\")\n",
            "/usr/local/lib/python3.7/dist-packages/sklearn/discriminant_analysis.py:878: UserWarning: Variables are collinear\n",
            "  warnings.warn(\"Variables are collinear\")\n",
            "/usr/local/lib/python3.7/dist-packages/sklearn/discriminant_analysis.py:878: UserWarning: Variables are collinear\n",
            "  warnings.warn(\"Variables are collinear\")\n",
            "/usr/local/lib/python3.7/dist-packages/sklearn/discriminant_analysis.py:878: UserWarning: Variables are collinear\n",
            "  warnings.warn(\"Variables are collinear\")\n",
            "/usr/local/lib/python3.7/dist-packages/sklearn/discriminant_analysis.py:878: UserWarning: Variables are collinear\n",
            "  warnings.warn(\"Variables are collinear\")\n",
            "/usr/local/lib/python3.7/dist-packages/sklearn/discriminant_analysis.py:878: UserWarning: Variables are collinear\n",
            "  warnings.warn(\"Variables are collinear\")\n",
            "/usr/local/lib/python3.7/dist-packages/sklearn/discriminant_analysis.py:878: UserWarning: Variables are collinear\n",
            "  warnings.warn(\"Variables are collinear\")\n",
            "/usr/local/lib/python3.7/dist-packages/sklearn/discriminant_analysis.py:878: UserWarning: Variables are collinear\n",
            "  warnings.warn(\"Variables are collinear\")\n",
            "/usr/local/lib/python3.7/dist-packages/sklearn/discriminant_analysis.py:878: UserWarning: Variables are collinear\n",
            "  warnings.warn(\"Variables are collinear\")\n",
            "/usr/local/lib/python3.7/dist-packages/sklearn/discriminant_analysis.py:878: UserWarning: Variables are collinear\n",
            "  warnings.warn(\"Variables are collinear\")\n",
            "/usr/local/lib/python3.7/dist-packages/sklearn/discriminant_analysis.py:878: UserWarning: Variables are collinear\n",
            "  warnings.warn(\"Variables are collinear\")\n",
            "/usr/local/lib/python3.7/dist-packages/sklearn/discriminant_analysis.py:878: UserWarning: Variables are collinear\n",
            "  warnings.warn(\"Variables are collinear\")\n",
            "/usr/local/lib/python3.7/dist-packages/sklearn/discriminant_analysis.py:878: UserWarning: Variables are collinear\n",
            "  warnings.warn(\"Variables are collinear\")\n",
            " 67%|██████▋   | 2/3 [00:59<00:29, 29.43s/it]/usr/local/lib/python3.7/dist-packages/sklearn/discriminant_analysis.py:878: UserWarning: Variables are collinear\n",
            "  warnings.warn(\"Variables are collinear\")\n",
            "/usr/local/lib/python3.7/dist-packages/sklearn/discriminant_analysis.py:878: UserWarning: Variables are collinear\n",
            "  warnings.warn(\"Variables are collinear\")\n",
            "/usr/local/lib/python3.7/dist-packages/sklearn/discriminant_analysis.py:878: UserWarning: Variables are collinear\n",
            "  warnings.warn(\"Variables are collinear\")\n",
            "/usr/local/lib/python3.7/dist-packages/sklearn/discriminant_analysis.py:878: UserWarning: Variables are collinear\n",
            "  warnings.warn(\"Variables are collinear\")\n",
            "/usr/local/lib/python3.7/dist-packages/sklearn/discriminant_analysis.py:878: UserWarning: Variables are collinear\n",
            "  warnings.warn(\"Variables are collinear\")\n",
            "/usr/local/lib/python3.7/dist-packages/sklearn/discriminant_analysis.py:878: UserWarning: Variables are collinear\n",
            "  warnings.warn(\"Variables are collinear\")\n",
            "/usr/local/lib/python3.7/dist-packages/sklearn/discriminant_analysis.py:878: UserWarning: Variables are collinear\n",
            "  warnings.warn(\"Variables are collinear\")\n",
            "/usr/local/lib/python3.7/dist-packages/sklearn/discriminant_analysis.py:878: UserWarning: Variables are collinear\n",
            "  warnings.warn(\"Variables are collinear\")\n",
            "/usr/local/lib/python3.7/dist-packages/sklearn/discriminant_analysis.py:878: UserWarning: Variables are collinear\n",
            "  warnings.warn(\"Variables are collinear\")\n",
            "/usr/local/lib/python3.7/dist-packages/sklearn/discriminant_analysis.py:878: UserWarning: Variables are collinear\n",
            "  warnings.warn(\"Variables are collinear\")\n",
            "/usr/local/lib/python3.7/dist-packages/sklearn/discriminant_analysis.py:878: UserWarning: Variables are collinear\n",
            "  warnings.warn(\"Variables are collinear\")\n",
            "/usr/local/lib/python3.7/dist-packages/sklearn/discriminant_analysis.py:878: UserWarning: Variables are collinear\n",
            "  warnings.warn(\"Variables are collinear\")\n",
            "/usr/local/lib/python3.7/dist-packages/sklearn/discriminant_analysis.py:878: UserWarning: Variables are collinear\n",
            "  warnings.warn(\"Variables are collinear\")\n",
            "/usr/local/lib/python3.7/dist-packages/sklearn/discriminant_analysis.py:878: UserWarning: Variables are collinear\n",
            "  warnings.warn(\"Variables are collinear\")\n",
            "/usr/local/lib/python3.7/dist-packages/sklearn/discriminant_analysis.py:878: UserWarning: Variables are collinear\n",
            "  warnings.warn(\"Variables are collinear\")\n",
            "/usr/local/lib/python3.7/dist-packages/sklearn/discriminant_analysis.py:878: UserWarning: Variables are collinear\n",
            "  warnings.warn(\"Variables are collinear\")\n",
            "/usr/local/lib/python3.7/dist-packages/sklearn/discriminant_analysis.py:878: UserWarning: Variables are collinear\n",
            "  warnings.warn(\"Variables are collinear\")\n",
            "/usr/local/lib/python3.7/dist-packages/sklearn/discriminant_analysis.py:878: UserWarning: Variables are collinear\n",
            "  warnings.warn(\"Variables are collinear\")\n",
            "/usr/local/lib/python3.7/dist-packages/sklearn/discriminant_analysis.py:878: UserWarning: Variables are collinear\n",
            "  warnings.warn(\"Variables are collinear\")\n",
            "/usr/local/lib/python3.7/dist-packages/sklearn/discriminant_analysis.py:878: UserWarning: Variables are collinear\n",
            "  warnings.warn(\"Variables are collinear\")\n",
            "100%|██████████| 3/3 [01:27<00:00, 29.22s/it]\n"
          ]
        },
        {
          "output_type": "execute_result",
          "data": {
            "text/plain": [
              "(0.5,)"
            ]
          },
          "metadata": {},
          "execution_count": 19
        }
      ]
    },
    {
      "cell_type": "markdown",
      "source": [
        "The confidence parameter for the model is chosen to be 0.5. Most probably, the model performs quite poor."
      ],
      "metadata": {
        "id": "LpjEJdhApb6X"
      }
    },
    {
      "cell_type": "code",
      "source": [
        "qda_params = {\n",
        "    'confidence': 0.5\n",
        "}"
      ],
      "metadata": {
        "id": "cbbeMa7QllNL"
      },
      "execution_count": 19,
      "outputs": []
    },
    {
      "cell_type": "markdown",
      "metadata": {
        "id": "MAKqlm8k8k9i"
      },
      "source": [
        "### Models"
      ]
    },
    {
      "cell_type": "markdown",
      "source": [
        "The models are going to be trained on 70% of the data which is the data from 2000 to 2014 years. The trained models are saved as a python object is separate files."
      ],
      "metadata": {
        "id": "q5pxZ8sixiR8"
      }
    },
    {
      "cell_type": "code",
      "source": [
        "import pickle"
      ],
      "metadata": {
        "id": "j4oaojbirnfy"
      },
      "execution_count": 16,
      "outputs": []
    },
    {
      "cell_type": "code",
      "source": [
        "X_train, y_train, X_test, y_test = train_test_split(\n",
        "    full_dataset[predictors],\n",
        "    full_dataset[target],\n",
        "    full_dataset['date'],\n",
        "    2014\n",
        ")"
      ],
      "metadata": {
        "id": "X0K0RVvlqcWB"
      },
      "execution_count": 17,
      "outputs": []
    },
    {
      "cell_type": "markdown",
      "source": [
        "#### Logistic Regression"
      ],
      "metadata": {
        "id": "P6r49EXVqFp0"
      }
    },
    {
      "cell_type": "code",
      "source": [
        "clf = LRTipsterModel(**lr_params)"
      ],
      "metadata": {
        "id": "WAWNii9_qNAi"
      },
      "execution_count": 34,
      "outputs": []
    },
    {
      "cell_type": "code",
      "source": [
        "clf.fit(X_train, y_train)"
      ],
      "metadata": {
        "id": "5GrDoSCHqa3U"
      },
      "execution_count": 35,
      "outputs": []
    },
    {
      "cell_type": "code",
      "source": [
        "with open('logistic_regression', 'wb') as file:\n",
        "    pickle.dump(clf, file)"
      ],
      "metadata": {
        "id": "PGVY14nzrY-v"
      },
      "execution_count": 37,
      "outputs": []
    },
    {
      "cell_type": "markdown",
      "source": [
        "#### Gaussian Naive Bayes"
      ],
      "metadata": {
        "id": "ZuU5t0vRr72H"
      }
    },
    {
      "cell_type": "code",
      "source": [
        "clf = GaussianNBTipsterModel(**gnb_params)"
      ],
      "metadata": {
        "id": "ATdFflJKsLzY"
      },
      "execution_count": 50,
      "outputs": []
    },
    {
      "cell_type": "code",
      "source": [
        "clf.fit(X_train, y_train)"
      ],
      "metadata": {
        "id": "4fSrQuVKsUDl"
      },
      "execution_count": 43,
      "outputs": []
    },
    {
      "cell_type": "code",
      "source": [
        "with open('gaussian_nb', 'wb') as file:\n",
        "    pickle.dump(clf, file)"
      ],
      "metadata": {
        "id": "nGJ83OVGsVWs"
      },
      "execution_count": 44,
      "outputs": []
    },
    {
      "cell_type": "markdown",
      "source": [
        "#### Decision Tree"
      ],
      "metadata": {
        "id": "a-S4Rnr9spql"
      }
    },
    {
      "cell_type": "code",
      "source": [
        "clf = DecisionTreeTipsterModel(**dt_params)"
      ],
      "metadata": {
        "id": "IcWmJBZhsxFr"
      },
      "execution_count": 51,
      "outputs": []
    },
    {
      "cell_type": "code",
      "source": [
        "clf.fit(X_train, y_train)"
      ],
      "metadata": {
        "id": "bmxT5LKGs1Ei"
      },
      "execution_count": 52,
      "outputs": []
    },
    {
      "cell_type": "code",
      "source": [
        "with open('decision_tree', 'wb') as file:\n",
        "    pickle.dump(clf, file)"
      ],
      "metadata": {
        "id": "Jyd1Cl7etGG5"
      },
      "execution_count": 53,
      "outputs": []
    },
    {
      "cell_type": "markdown",
      "source": [
        "#### KNN"
      ],
      "metadata": {
        "id": "zc6nrY67tNUl"
      }
    },
    {
      "cell_type": "code",
      "source": [
        "clf = KNNTipsterModel(**knn_params)"
      ],
      "metadata": {
        "id": "cgUq0tjitV4x"
      },
      "execution_count": 56,
      "outputs": []
    },
    {
      "cell_type": "code",
      "source": [
        "clf.fit(X_train, y_train)"
      ],
      "metadata": {
        "id": "0dGgdKE8tZJL"
      },
      "execution_count": 57,
      "outputs": []
    },
    {
      "cell_type": "code",
      "source": [
        "with open('knn', 'wb') as file:\n",
        "    pickle.dump(clf, file)"
      ],
      "metadata": {
        "id": "k1O_PIA5tbkG"
      },
      "execution_count": 58,
      "outputs": []
    },
    {
      "cell_type": "markdown",
      "source": [
        "#### Random Forest"
      ],
      "metadata": {
        "id": "Y_PS6iXjtqT6"
      }
    },
    {
      "cell_type": "code",
      "source": [
        "clf = RandomForestTipsterModel(**rf_params)"
      ],
      "metadata": {
        "id": "TNUlj8petzwl"
      },
      "execution_count": 61,
      "outputs": []
    },
    {
      "cell_type": "code",
      "source": [
        "clf.fit(X_train, y_train)"
      ],
      "metadata": {
        "id": "-XMMNiSWt5j0"
      },
      "execution_count": 62,
      "outputs": []
    },
    {
      "cell_type": "code",
      "source": [
        "with open('random_forest', 'wb') as file:\n",
        "    pickle.dump(clf, file)"
      ],
      "metadata": {
        "id": "LllpumKHt7uB"
      },
      "execution_count": 63,
      "outputs": []
    },
    {
      "cell_type": "markdown",
      "source": [
        "#### AdaBoost"
      ],
      "metadata": {
        "id": "0GCbkI-5uD2Y"
      }
    },
    {
      "cell_type": "code",
      "source": [
        "clf = AdaBoostTipsterModel(**ab_params)"
      ],
      "metadata": {
        "id": "QWJgsE2AuQ8S"
      },
      "execution_count": 66,
      "outputs": []
    },
    {
      "cell_type": "code",
      "source": [
        "clf.fit(X_train, y_train)"
      ],
      "metadata": {
        "id": "VCrB422huUop"
      },
      "execution_count": 67,
      "outputs": []
    },
    {
      "cell_type": "code",
      "source": [
        "with open('ada_boost', 'wb') as file:\n",
        "    pickle.dump(clf, file)"
      ],
      "metadata": {
        "id": "HuVtPnGBuXWL"
      },
      "execution_count": 68,
      "outputs": []
    },
    {
      "cell_type": "markdown",
      "source": [
        "#### Neural Network"
      ],
      "metadata": {
        "id": "_OFb-pkguW4k"
      }
    },
    {
      "cell_type": "code",
      "source": [
        "clf = NNTipsterModel(**nn_params)"
      ],
      "metadata": {
        "id": "FUgaJvmDuktB"
      },
      "execution_count": 73,
      "outputs": []
    },
    {
      "cell_type": "code",
      "source": [
        "clf.fit(X_train, y_train)"
      ],
      "metadata": {
        "id": "qH37xDU3u1bt"
      },
      "execution_count": 74,
      "outputs": []
    },
    {
      "cell_type": "code",
      "source": [
        "with open('nn', 'wb') as file:\n",
        "    pickle.dump(clf, file)"
      ],
      "metadata": {
        "id": "hCztw0aVu4LF"
      },
      "execution_count": 75,
      "outputs": []
    },
    {
      "cell_type": "markdown",
      "source": [
        "#### SVM"
      ],
      "metadata": {
        "id": "kZhkLwj7vJ0u"
      }
    },
    {
      "cell_type": "code",
      "source": [
        "clf = SVMTipsterModel(**svm_params)"
      ],
      "metadata": {
        "id": "b_QsqSbLvLIl"
      },
      "execution_count": 78,
      "outputs": []
    },
    {
      "cell_type": "code",
      "source": [
        "clf.fit(X_train, y_train)"
      ],
      "metadata": {
        "id": "j3Vi0ztDvOVF"
      },
      "execution_count": 79,
      "outputs": []
    },
    {
      "cell_type": "code",
      "source": [
        "with open('svm', 'wb') as file:\n",
        "    pickle.dump(clf, file)"
      ],
      "metadata": {
        "id": "9GWHCj3BvQ8U"
      },
      "execution_count": 80,
      "outputs": []
    },
    {
      "cell_type": "markdown",
      "source": [
        "#### Gaussian Process"
      ],
      "metadata": {
        "id": "TuAQzi18vTCj"
      }
    },
    {
      "cell_type": "markdown",
      "source": [
        "Cannot train due to running out of memory"
      ],
      "metadata": {
        "id": "2fm5kbbA511Q"
      }
    },
    {
      "cell_type": "markdown",
      "source": [
        "#### Quadratic Discriminant Analysis"
      ],
      "metadata": {
        "id": "6g3BCwuqv1Ym"
      }
    },
    {
      "cell_type": "code",
      "source": [
        "clf = QDATipsterModel(**qda_params)"
      ],
      "metadata": {
        "id": "X_b0jdj2v6Iv"
      },
      "execution_count": 20,
      "outputs": []
    },
    {
      "cell_type": "code",
      "source": [
        "clf.fit(X_train, y_train)"
      ],
      "metadata": {
        "colab": {
          "base_uri": "https://localhost:8080/"
        },
        "id": "ZE6xkg8mv-QP",
        "outputId": "103d28cf-c9a9-4cfc-82f2-564f23aa5dee"
      },
      "execution_count": 21,
      "outputs": [
        {
          "output_type": "stream",
          "name": "stderr",
          "text": [
            "/usr/local/lib/python3.7/dist-packages/sklearn/discriminant_analysis.py:878: UserWarning: Variables are collinear\n",
            "  warnings.warn(\"Variables are collinear\")\n"
          ]
        }
      ]
    },
    {
      "cell_type": "code",
      "source": [
        "with open('qda', 'wb') as file:\n",
        "    pickle.dump(clf, file)"
      ],
      "metadata": {
        "id": "FlakU8ymv_zS"
      },
      "execution_count": 22,
      "outputs": []
    },
    {
      "cell_type": "markdown",
      "source": [
        "#### Models Folder"
      ],
      "metadata": {
        "id": "WvJKL4jZ7sYF"
      }
    },
    {
      "cell_type": "markdown",
      "source": [
        "https://drive.google.com/drive/folders/1BIyhADfRQ5eRxi0jcm12Px_CnZz4BV-5?usp=sharing"
      ],
      "metadata": {
        "id": "q4bruTFx7vC-"
      }
    },
    {
      "cell_type": "markdown",
      "metadata": {
        "id": "aZCPNkQ98mS4"
      },
      "source": [
        "### Model Descriptions"
      ]
    },
    {
      "cell_type": "code",
      "execution_count": null,
      "metadata": {
        "id": "LvKxQ6hp0dUm"
      },
      "outputs": [],
      "source": [
        ""
      ]
    }
  ],
  "metadata": {
    "colab": {
      "name": "Modelling.ipynb",
      "provenance": [],
      "collapsed_sections": [
        "uwZFnCI3rICS",
        "s7JIun_hrNhT",
        "b_iYq-pdvydK",
        "Gq2k3977ujkt",
        "LFzoweuQxUv3",
        "2UitQRA0yByc",
        "LAs-KDppzeu2",
        "BxQyEdAq0eEb",
        "mdDDPusQKXSG",
        "LJIwRT9ZMuRG",
        "Iz9pwy5FVXSl",
        "PO9uTKeXds3C",
        "A37iglVMpHGD",
        "6cpl7gVHpzy0",
        "8Bkt1bXd8uTR",
        "4BXjefRHAdvM",
        "yCHjNHvSSbWP",
        "U_2J_iQyHrdd",
        "avGbXQoLU1iV",
        "cAlcsKbhdeDP",
        "OzfoAgiCqPtx",
        "pKjCOe7ao1L7"
      ]
    },
    "kernelspec": {
      "display_name": "Python 3",
      "name": "python3"
    },
    "language_info": {
      "name": "python"
    }
  },
  "nbformat": 4,
  "nbformat_minor": 0
}